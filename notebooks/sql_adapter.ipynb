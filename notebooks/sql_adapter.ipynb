{
 "cells": [
  {
   "cell_type": "code",
   "execution_count": 1,
   "id": "8a3875c6",
   "metadata": {},
   "outputs": [
    {
     "data": {
      "text/plain": [
       "True"
      ]
     },
     "execution_count": 1,
     "metadata": {},
     "output_type": "execute_result"
    }
   ],
   "source": [
    "import os\n",
    "import sys\n",
    "\n",
    "from dotenv import load_dotenv\n",
    "\n",
    "sys.path.append(os.path.abspath(\"..\"))\n",
    "\n",
    "load_dotenv(\"/Users/steffen/agentic_ai/.env\")"
   ]
  },
  {
   "cell_type": "code",
   "execution_count": 2,
   "id": "6e1f9457",
   "metadata": {},
   "outputs": [],
   "source": [
    "from src.agent.adapters.sql_tools.controller import create_sql_controller\n",
    "\n",
    "controller = create_sql_controller()"
   ]
  },
  {
   "cell_type": "code",
   "execution_count": 3,
   "id": "4cb998fc",
   "metadata": {},
   "outputs": [],
   "source": [
    "questions = [\n",
    "    \"How many customers do we have?\",\n",
    "    \"What are the top 5 selling products?\",\n",
    "    \"Show me orders from 2024\",\n",
    "    \"What is the average order value?\",\n",
    "]\n"
   ]
  },
  {
   "cell_type": "code",
   "execution_count": 20,
   "id": "a4858566",
   "metadata": {},
   "outputs": [],
   "source": [
    "i = 3"
   ]
  },
  {
   "cell_type": "code",
   "execution_count": 21,
   "id": "9f13face",
   "metadata": {},
   "outputs": [
    {
     "name": "stderr",
     "output_type": "stream",
     "text": [
      "\u001b[32m2025-07-03 23:11:00.686\u001b[0m | \u001b[1mINFO    \u001b[0m | \u001b[36msrc.agent.adapters.database\u001b[0m:\u001b[36m_get_connection\u001b[0m:\u001b[36m77\u001b[0m - \u001b[1mSQLAlchemy engine created successfully.\u001b[0m\n",
      "\u001b[32m2025-07-03 23:11:00.687\u001b[0m | \u001b[1mINFO    \u001b[0m | \u001b[36msrc.agent.adapters.database\u001b[0m:\u001b[36mconnect\u001b[0m:\u001b[36m90\u001b[0m - \u001b[1mConnected to postgres database\u001b[0m\n",
      "\u001b[32m2025-07-03 23:11:00.760\u001b[0m | \u001b[1mINFO    \u001b[0m | \u001b[36msrc.agent.adapters.database\u001b[0m:\u001b[36mdisconnect\u001b[0m:\u001b[36m101\u001b[0m - \u001b[1mDisconnected from database\u001b[0m\n",
      "Authentication error: Langfuse client initialized without public_key. Client will be disabled. Provide a public_key parameter or set LANGFUSE_PUBLIC_KEY environment variable. \n",
      "Authentication error: Langfuse client initialized without public_key. Client will be disabled. Provide a public_key parameter or set LANGFUSE_PUBLIC_KEY environment variable. \n",
      "Context error: No active span in current context. Operations that depend on an active span will be skipped. Ensure spans are created with start_as_current_span() or that you're operating within an active span context.\n",
      "Authentication error: Langfuse client initialized without public_key. Client will be disabled. Provide a public_key parameter or set LANGFUSE_PUBLIC_KEY environment variable. \n",
      "Authentication error: Langfuse client initialized without public_key. Client will be disabled. Provide a public_key parameter or set LANGFUSE_PUBLIC_KEY environment variable. \n",
      "Context error: No active span in current context. Operations that depend on an active span will be skipped. Ensure spans are created with start_as_current_span() or that you're operating within an active span context.\n",
      "\u001b[32m2025-07-03 23:11:15.638\u001b[0m | \u001b[1mINFO    \u001b[0m | \u001b[36msrc.agent.adapters.database\u001b[0m:\u001b[36m_get_connection\u001b[0m:\u001b[36m77\u001b[0m - \u001b[1mSQLAlchemy engine created successfully.\u001b[0m\n",
      "\u001b[32m2025-07-03 23:11:15.639\u001b[0m | \u001b[1mINFO    \u001b[0m | \u001b[36msrc.agent.adapters.database\u001b[0m:\u001b[36mconnect\u001b[0m:\u001b[36m90\u001b[0m - \u001b[1mConnected to postgres database\u001b[0m\n",
      "\u001b[32m2025-07-03 23:11:15.709\u001b[0m | \u001b[1mINFO    \u001b[0m | \u001b[36msrc.agent.adapters.database\u001b[0m:\u001b[36mdisconnect\u001b[0m:\u001b[36m101\u001b[0m - \u001b[1mDisconnected from database\u001b[0m\n",
      "Authentication error: Langfuse client initialized without public_key. Client will be disabled. Provide a public_key parameter or set LANGFUSE_PUBLIC_KEY environment variable. \n",
      "Authentication error: Langfuse client initialized without public_key. Client will be disabled. Provide a public_key parameter or set LANGFUSE_PUBLIC_KEY environment variable. \n",
      "Context error: No active span in current context. Operations that depend on an active span will be skipped. Ensure spans are created with start_as_current_span() or that you're operating within an active span context.\n",
      "Authentication error: Langfuse client initialized without public_key. Client will be disabled. Provide a public_key parameter or set LANGFUSE_PUBLIC_KEY environment variable. \n",
      "Authentication error: Langfuse client initialized without public_key. Client will be disabled. Provide a public_key parameter or set LANGFUSE_PUBLIC_KEY environment variable. \n",
      "Context error: No active span in current context. Operations that depend on an active span will be skipped. Ensure spans are created with start_as_current_span() or that you're operating within an active span context.\n",
      "Authentication error: Langfuse client initialized without public_key. Client will be disabled. Provide a public_key parameter or set LANGFUSE_PUBLIC_KEY environment variable. \n",
      "Authentication error: Langfuse client initialized without public_key. Client will be disabled. Provide a public_key parameter or set LANGFUSE_PUBLIC_KEY environment variable. \n",
      "Context error: No active span in current context. Operations that depend on an active span will be skipped. Ensure spans are created with start_as_current_span() or that you're operating within an active span context.\n",
      "\u001b[32m2025-07-03 23:11:30.998\u001b[0m | \u001b[1mINFO    \u001b[0m | \u001b[36msrc.agent.adapters.database\u001b[0m:\u001b[36m_get_connection\u001b[0m:\u001b[36m77\u001b[0m - \u001b[1mSQLAlchemy engine created successfully.\u001b[0m\n",
      "\u001b[32m2025-07-03 23:11:31.000\u001b[0m | \u001b[1mINFO    \u001b[0m | \u001b[36msrc.agent.adapters.database\u001b[0m:\u001b[36mconnect\u001b[0m:\u001b[36m90\u001b[0m - \u001b[1mConnected to postgres database\u001b[0m\n",
      "\u001b[32m2025-07-03 23:11:31.082\u001b[0m | \u001b[1mINFO    \u001b[0m | \u001b[36msrc.agent.adapters.database\u001b[0m:\u001b[36mdisconnect\u001b[0m:\u001b[36m101\u001b[0m - \u001b[1mDisconnected from database\u001b[0m\n",
      "Authentication error: Langfuse client initialized without public_key. Client will be disabled. Provide a public_key parameter or set LANGFUSE_PUBLIC_KEY environment variable. \n",
      "Authentication error: Langfuse client initialized without public_key. Client will be disabled. Provide a public_key parameter or set LANGFUSE_PUBLIC_KEY environment variable. \n",
      "Context error: No active span in current context. Operations that depend on an active span will be skipped. Ensure spans are created with start_as_current_span() or that you're operating within an active span context.\n"
     ]
    }
   ],
   "source": [
    "result = controller.process_question(questions[i])"
   ]
  },
  {
   "cell_type": "code",
   "execution_count": 23,
   "id": "22961266",
   "metadata": {},
   "outputs": [
    {
     "data": {
      "text/plain": [
       "1.0"
      ]
     },
     "execution_count": 23,
     "metadata": {},
     "output_type": "execute_result"
    }
   ],
   "source": [
    "result.confidence"
   ]
  },
  {
   "cell_type": "markdown",
   "id": "b10695a6",
   "metadata": {},
   "source": []
  },
  {
   "cell_type": "code",
   "execution_count": 24,
   "id": "4c636796",
   "metadata": {},
   "outputs": [
    {
     "name": "stdout",
     "output_type": "stream",
     "text": [
      "SELECT AVG(grand_total_amount) AS average_order_value\n",
      "FROM orders;\n"
     ]
    }
   ],
   "source": [
    "print(result.sql_query)"
   ]
  },
  {
   "cell_type": "code",
   "execution_count": null,
   "id": "ce3e22a8",
   "metadata": {},
   "outputs": [],
   "source": []
  }
 ],
 "metadata": {
  "kernelspec": {
   "display_name": ".venv",
   "language": "python",
   "name": "python3"
  },
  "language_info": {
   "codemirror_mode": {
    "name": "ipython",
    "version": 3
   },
   "file_extension": ".py",
   "mimetype": "text/x-python",
   "name": "python",
   "nbconvert_exporter": "python",
   "pygments_lexer": "ipython3",
   "version": "3.12.8"
  }
 },
 "nbformat": 4,
 "nbformat_minor": 5
}
