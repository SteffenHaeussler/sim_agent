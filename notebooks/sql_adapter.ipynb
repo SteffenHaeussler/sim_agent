{
 "cells": [
  {
   "cell_type": "code",
   "execution_count": 8,
   "id": "23cb0013-b3c9-4be3-beff-41ffc3dfa26e",
   "metadata": {},
   "outputs": [],
   "source": [
    "import os\n",
    "import sys\n",
    "from dotenv import load_dotenv\n",
    "sys.path.append(os.path.abspath('..'))\n",
    "\n",
    "load_dotenv()\n",
    "\n",
    "DB_CONFIG = {\n",
    "    \"dbname\": os.getenv(\"PG_NAME\"),\n",
    "    \"user\": os.getenv(\"PG_USER\"),\n",
    "    \"password\": os.getenv(\"PG_PASSWORD\"),\n",
    "    \"host\": os.getenv(\"PG_HOST\"),  # or your db host\n",
    "    \"port\": os.getenv(\"PG_PORT\", \"5432\"),  # default postgres port\n",
    "}"
   ]
  },
  {
   "cell_type": "code",
   "execution_count": 23,
   "id": "319664a9-bfdf-4d9c-bdec-24750f900271",
   "metadata": {},
   "outputs": [],
   "source": [
    "import psycopg2\n",
    "from sqlalchemy import create_engine, text\n",
    "import pandas as pd\n",
    "import src.agent.adapters.tools as tools"
   ]
  },
  {
   "cell_type": "code",
   "execution_count": 24,
   "id": "5d2fda7c",
   "metadata": {},
   "outputs": [],
   "source": [
    "DATABASE_URL = (\n",
    "    f\"postgresql+psycopg2://{DB_CONFIG['user']}:{DB_CONFIG['password']}@\"\n",
    "    f\"{DB_CONFIG['host']}:{DB_CONFIG['port']}/{DB_CONFIG['dbname']}\"\n",
    ")"
   ]
  },
  {
   "cell_type": "code",
   "execution_count": 25,
   "id": "30ca72dd",
   "metadata": {},
   "outputs": [
    {
     "name": "stdout",
     "output_type": "stream",
     "text": [
      "SQLAlchemy engine created successfully.\n"
     ]
    }
   ],
   "source": [
    "try:\n",
    "    engine = create_engine(DATABASE_URL)\n",
    "    print(\"SQLAlchemy engine created successfully.\")\n",
    "except Exception as e:\n",
    "    print(f\"Error creating SQLAlchemy engine: {e}\")\n",
    "    engine = None"
   ]
  },
  {
   "cell_type": "code",
   "execution_count": 26,
   "id": "df616676",
   "metadata": {},
   "outputs": [],
   "source": [
    "def execute_sql(engine, sql_statement, params=None):\n",
    "    \"\"\"\n",
    "    Executes a SELECT SQL query and returns the result as a Pandas DataFrame.\n",
    "    This is the officially supported way.\n",
    "    \"\"\"\n",
    "    if not engine:\n",
    "        print(\"Engine not available. Cannot execute query.\")\n",
    "        return None\n",
    "\n",
    "    try:\n",
    "        print(f\"Executing SQL: {sql_statement[:60]}...\")\n",
    "        # Pandas reads directly from the SQLAlchemy engine\n",
    "        df = pd.read_sql_query(sql=text(sql_statement), con=engine, params=params)\n",
    "        print(f\"Query returned a DataFrame with {len(df)} rows.\")\n",
    "        return df\n",
    "    except Exception as e:\n",
    "        print(f\"Error executing query to DataFrame: {e}\")\n",
    "        return None"
   ]
  },
  {
   "cell_type": "code",
   "execution_count": 20,
   "id": "cd0d1fe4",
   "metadata": {},
   "outputs": [],
   "source": [
    "statement = \"\"\"SELECT\n",
    "  COALESCE(SUM(od.quantity * od.final_unit_price), 0) AS total_revenue\n",
    "FROM\n",
    "  orders AS o\n",
    "JOIN\n",
    "  order_details AS od ON o.order_id = od.order_id\n",
    "WHERE\n",
    "  -- Filter for orders shipped today or yesterday\n",
    "  o.shipped_date >= CURRENT_DATE - INTERVAL '1 year';\n",
    "\"\"\""
   ]
  },
  {
   "cell_type": "code",
   "execution_count": 27,
   "id": "afdc28b8-75ed-45ea-aeed-569e8cdc5fee",
   "metadata": {},
   "outputs": [
    {
     "name": "stdout",
     "output_type": "stream",
     "text": [
      "Executing SQL: SELECT\n",
      "  COALESCE(SUM(od.quantity * od.final_unit_price), 0)...\n",
      "Query returned a DataFrame with 1 rows.\n"
     ]
    }
   ],
   "source": [
    "result = execute_sql(engine, statement)"
   ]
  },
  {
   "cell_type": "code",
   "execution_count": 28,
   "id": "f8e153ea",
   "metadata": {},
   "outputs": [
    {
     "data": {
      "text/html": [
       "<div>\n",
       "<style scoped>\n",
       "    .dataframe tbody tr th:only-of-type {\n",
       "        vertical-align: middle;\n",
       "    }\n",
       "\n",
       "    .dataframe tbody tr th {\n",
       "        vertical-align: top;\n",
       "    }\n",
       "\n",
       "    .dataframe thead th {\n",
       "        text-align: right;\n",
       "    }\n",
       "</style>\n",
       "<table border=\"1\" class=\"dataframe\">\n",
       "  <thead>\n",
       "    <tr style=\"text-align: right;\">\n",
       "      <th></th>\n",
       "      <th>total_revenue</th>\n",
       "    </tr>\n",
       "  </thead>\n",
       "  <tbody>\n",
       "    <tr>\n",
       "      <th>0</th>\n",
       "      <td>8.825503e+08</td>\n",
       "    </tr>\n",
       "  </tbody>\n",
       "</table>\n",
       "</div>"
      ],
      "text/plain": [
       "   total_revenue\n",
       "0   8.825503e+08"
      ]
     },
     "execution_count": 28,
     "metadata": {},
     "output_type": "execute_result"
    }
   ],
   "source": [
    "result"
   ]
  }
 ],
 "metadata": {
  "kernelspec": {
   "display_name": ".venv",
   "language": "python",
   "name": "python3"
  },
  "language_info": {
   "codemirror_mode": {
    "name": "ipython",
    "version": 3
   },
   "file_extension": ".py",
   "mimetype": "text/x-python",
   "name": "python",
   "nbconvert_exporter": "python",
   "pygments_lexer": "ipython3",
   "version": "3.12.8"
  }
 },
 "nbformat": 4,
 "nbformat_minor": 5
}
