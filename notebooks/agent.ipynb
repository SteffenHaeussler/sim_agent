{
 "cells": [
  {
   "cell_type": "code",
   "execution_count": null,
   "id": "23cb0013-b3c9-4be3-beff-41ffc3dfa26e",
   "metadata": {},
   "outputs": [],
   "source": [
    "import os\n",
    "import sys\n",
    "\n",
    "sys.path.append(os.path.abspath('..'))"
   ]
  },
  {
   "cell_type": "code",
   "execution_count": null,
   "id": "319664a9-bfdf-4d9c-bdec-24750f900271",
   "metadata": {},
   "outputs": [],
   "source": [
    "from typing import Dict, List, Optional, Any\n",
    "from datetime import datetime\n",
    "\n",
    "import httpx\n",
    "from loguru import logger\n",
    "from smolagents import CodeAgent, LiteLLMModel, Tool, PromptTemplates\n",
    "import yaml\n",
    "\n",
    "import src.agent.adapters.tools  as tools"
   ]
  },
  {
   "cell_type": "code",
   "execution_count": null,
   "id": "f3e50466-af3e-435c-b0f4-281c57af5555",
   "metadata": {},
   "outputs": [],
   "source": [
    "api_base=None\n",
    "\n",
    "# model_id=\"ollama/qwen3:4b\"\n",
    "# api_base=\"http://localhost:11434\"\n",
    "\n",
    "# anthorpic\n",
    "# model_id=\"claude-3-7-sonnet-20250219\"\n",
    "\n",
    "#openai\n",
    "# model_id = \"gpt-4o\"\n",
    "\n",
    "# google\n",
    "model_id = \"gemini/gemini-2.0-flash-exp\"\n",
    "# model_id = \"gemin/gemini-2.5-flash-preview-04-17\"\n",
    "# model_id = \"gemini/gemini-2.5-pro-preview-05-06\"\n",
    "\n",
    "kwargs = {\"base_url\": \"http://localhost:5050\"}"
   ]
  },
  {
   "cell_type": "code",
   "execution_count": null,
   "id": "a9a646e7-1eee-44d0-b5e5-98920a6d9414",
   "metadata": {},
   "outputs": [],
   "source": [
    "model = LiteLLMModel(model_id=model_id, api_base=api_base)"
   ]
  },
  {
   "cell_type": "code",
   "execution_count": null,
   "id": "afdc28b8-75ed-45ea-aeed-569e8cdc5fee",
   "metadata": {},
   "outputs": [],
   "source": [
    "with open(\"/Users/steffen/agentic_ai/src/agent/prompts/base_prompts.yaml\", \"r\") as file:\n",
    "    base_prompts = yaml.safe_load(file)\n",
    "\n",
    "\n",
    "base_prompts['system_prompt'] = base_prompts['system_prompt'].replace(\"{{current_date}}\", datetime.now().strftime(\"%Y-%m-%d %H:%M:%S\"))\n",
    "prompt_templates = PromptTemplates(**base_prompts)"
   ]
  },
  {
   "cell_type": "code",
   "execution_count": null,
   "id": "f2324aea-d0e2-4980-8f1d-e0f84dc37901",
   "metadata": {},
   "outputs": [],
   "source": [
    "class FinalAnswerTool(Tool):\n",
    "    name = \"final_answer\"\n",
    "    description = \"Provides a final answer to the given problem.\"\n",
    "    inputs = {\"answer\": {\"type\": \"any\", \"description\": \"The final answer to the problem\"}}\n",
    "    outputs = {\"result\": {\"type\": \"any\", \"description\": \"The final response to the problem\"}}\n",
    "    output_type = \"any\"\n",
    "\n",
    "    def forward(self, answer: Any) -> Any:\n",
    "        return answer\n"
   ]
  },
  {
   "cell_type": "code",
   "execution_count": null,
   "id": "080d6a89-ee7e-4629-b6ba-afaa0cb54a1c",
   "metadata": {},
   "outputs": [],
   "source": [
    "agent = CodeAgent(tools=[tools.CompareData(**kwargs), \n",
    "                         tools.ConvertIdToName(**kwargs),\n",
    "                         tools.ConvertNameToId(**kwargs),\n",
    "                         tools.GetData(**kwargs),\n",
    "                         tools.GetInformation(**kwargs),\n",
    "                         tools.GetNeighbors(**kwargs),\n",
    "                         tools.PlotData(**kwargs),\n",
    "                         FinalAnswerTool()\n",
    "                        ],  \n",
    "                  model=model, \n",
    "                  stream_outputs=True,\n",
    "                  additional_authorized_imports=[\"pandas\", \"numpy\"],\n",
    "                  prompt_templates=prompt_templates,\n",
    "                  max_steps=5)"
   ]
  },
  {
   "cell_type": "code",
   "execution_count": null,
   "id": "d2a62802-9d21-47a9-8798-43bb0eea653e",
   "metadata": {},
   "outputs": [],
   "source": [
    "result = agent.run(\"What is the daily maximum value of PI-P0016 in Febuary 2025?\")"
   ]
  },
  {
   "cell_type": "code",
   "execution_count": null,
   "id": "efb1e0d4-dd79-4f75-a248-592bc6cf7241",
   "metadata": {},
   "outputs": [],
   "source": []
  },
  {
   "cell_type": "markdown",
   "id": "d45f5c1d-8bd4-48d8-842d-deefd785af65",
   "metadata": {},
   "source": [
    "## Tests"
   ]
  },
  {
   "cell_type": "code",
   "execution_count": null,
   "id": "585ba5e6-fbd3-4322-a9e4-a75320fd2ae1",
   "metadata": {},
   "outputs": [],
   "source": [
    "tasks = [\n",
    "    \"Can you compare PI-P0017 and PI-P0016 for the first 10 days in 2025?\",\n",
    "    \"What assets are next to asset BA100?\",\n",
    "    \"Can you create a plot for the adjacent sensors of asset BA101 for 1st January 2025?\",\n",
    "    \"What is the id of TI-T0022?\",\n",
    "    \"What is the name of asset id c831fadb-d620-4007-bdda-4593038c87f9?\",\n",
    "    \"Can you provide me the highest value for June 2025 for TI-T0022?\"\n",
    "]"
   ]
  },
  {
   "cell_type": "code",
   "execution_count": null,
   "id": "d0984f61-6b93-451c-8c0a-6c4547d24337",
   "metadata": {},
   "outputs": [],
   "source": [
    "result = agent.run(tasks[0])"
   ]
  },
  {
   "cell_type": "code",
   "execution_count": null,
   "id": "285574e8-07cb-45a7-a822-dd9ccffaafb1",
   "metadata": {},
   "outputs": [],
   "source": []
  },
  {
   "cell_type": "code",
   "execution_count": null,
   "id": "32a20911-7989-4316-96ee-cf9ecac518f5",
   "metadata": {},
   "outputs": [],
   "source": [
    "result = agent.run(tasks[1])"
   ]
  },
  {
   "cell_type": "code",
   "execution_count": null,
   "id": "eb5fd43f-2823-4e62-aa22-c0db791bf95e",
   "metadata": {},
   "outputs": [],
   "source": []
  },
  {
   "cell_type": "code",
   "execution_count": null,
   "id": "50848469-ca2e-471e-86dc-1b8821272437",
   "metadata": {},
   "outputs": [],
   "source": [
    "result = agent.run(tasks[2])"
   ]
  },
  {
   "cell_type": "code",
   "execution_count": null,
   "id": "acdd028d-0efc-4f9c-bb73-8b8846c8f54a",
   "metadata": {},
   "outputs": [],
   "source": []
  },
  {
   "cell_type": "code",
   "execution_count": null,
   "id": "704ce1db-b273-4468-a69e-bf68c7605b6f",
   "metadata": {},
   "outputs": [],
   "source": [
    "result = agent.run(tasks[3])"
   ]
  },
  {
   "cell_type": "code",
   "execution_count": null,
   "id": "dad1da26-009f-4b74-a39a-e090bd58e01b",
   "metadata": {},
   "outputs": [],
   "source": []
  },
  {
   "cell_type": "code",
   "execution_count": null,
   "id": "ebcf54ef-f00c-4e98-a6c8-5e3ebb7dd1ba",
   "metadata": {},
   "outputs": [],
   "source": [
    "result = agent.run(tasks[4])"
   ]
  },
  {
   "cell_type": "code",
   "execution_count": null,
   "id": "143584db-5b62-42d5-a460-940318091bab",
   "metadata": {},
   "outputs": [],
   "source": []
  },
  {
   "cell_type": "code",
   "execution_count": null,
   "id": "a119c94a-fa34-42cd-b87e-3146b779fb25",
   "metadata": {},
   "outputs": [],
   "source": [
    "result = agent.run(tasks[5])"
   ]
  },
  {
   "cell_type": "code",
   "execution_count": null,
   "id": "ff56c723-ba77-404e-b2bc-75873ff88b2d",
   "metadata": {},
   "outputs": [],
   "source": []
  },
  {
   "cell_type": "code",
   "execution_count": null,
   "id": "e395de43-c344-4e4e-a66c-98e37d0af452",
   "metadata": {},
   "outputs": [],
   "source": []
  }
 ],
 "metadata": {
  "kernelspec": {
   "display_name": "Python 3 (ipykernel)",
   "language": "python",
   "name": "python3"
  },
  "language_info": {
   "codemirror_mode": {
    "name": "ipython",
    "version": 3
   },
   "file_extension": ".py",
   "mimetype": "text/x-python",
   "name": "python",
   "nbconvert_exporter": "python",
   "pygments_lexer": "ipython3",
   "version": "3.12.7"
  }
 },
 "nbformat": 4,
 "nbformat_minor": 5
}
