{
 "cells": [
  {
   "cell_type": "code",
   "execution_count": 1,
   "id": "23cb0013-b3c9-4be3-beff-41ffc3dfa26e",
   "metadata": {},
   "outputs": [],
   "source": [
    "import os\n",
    "import sys\n",
    "\n",
    "sys.path.append(os.path.abspath('..'))"
   ]
  },
  {
   "cell_type": "code",
   "execution_count": 2,
   "id": "319664a9-bfdf-4d9c-bdec-24750f900271",
   "metadata": {},
   "outputs": [],
   "source": [
    "from typing import Dict, List, Optional, Any\n",
    "from datetime import datetime\n",
    "\n",
    "import httpx\n",
    "from loguru import logger\n",
    "from smolagents import CodeAgent, LiteLLMModel, Tool, PromptTemplates\n",
    "import yaml\n",
    "\n",
    "import src.agent.adapters.tools  as tools"
   ]
  },
  {
   "cell_type": "code",
   "execution_count": 3,
   "id": "f3e50466-af3e-435c-b0f4-281c57af5555",
   "metadata": {},
   "outputs": [],
   "source": [
    "api_base=None\n",
    "\n",
    "# model_id=\"ollama/qwen3:4b\"\n",
    "# api_base=\"http://localhost:11434\"\n",
    "\n",
    "# anthorpic\n",
    "# model_id=\"claude-3-7-sonnet-20250219\"\n",
    "\n",
    "#openai\n",
    "model_id = \"gpt-4o\"\n",
    "\n",
    "# google\n",
    "# model_id = \"gemini/gemini-2.0-flash-exp\"\n",
    "# model_id = \"gemin/gemini-2.5-flash-preview-04-17\"\n",
    "# model_id = \"gemini/gemini-2.5-pro-preview-05-06\"\n",
    "\n",
    "kwargs = {\"tools_api_base\": \"http://localhost:5050\"}"
   ]
  },
  {
   "cell_type": "code",
   "execution_count": 4,
   "id": "a9a646e7-1eee-44d0-b5e5-98920a6d9414",
   "metadata": {},
   "outputs": [
    {
     "name": "stderr",
     "output_type": "stream",
     "text": [
      "/Users/steffen/miniconda3/envs/py312/lib/python3.12/site-packages/pydantic/_internal/_config.py:345: UserWarning: Valid config keys have changed in V2:\n",
      "* 'fields' has been removed\n",
      "  warnings.warn(message, UserWarning)\n"
     ]
    }
   ],
   "source": [
    "model = LiteLLMModel(model_id=model_id, api_base=api_base)"
   ]
  },
  {
   "cell_type": "code",
   "execution_count": 5,
   "id": "afdc28b8-75ed-45ea-aeed-569e8cdc5fee",
   "metadata": {},
   "outputs": [],
   "source": [
    "with open(\"/Users/steffen/agentic_ai/src/agent/prompts/base_prompts.yaml\", \"r\") as file:\n",
    "    base_prompts = yaml.safe_load(file)\n",
    "\n",
    "\n",
    "base_prompts['system_prompt'] = base_prompts['system_prompt'].replace(\"{{current_date}}\", datetime.now().strftime(\"%Y-%m-%d %H:%M:%S\"))\n",
    "prompt_templates = PromptTemplates(**base_prompts)"
   ]
  },
  {
   "cell_type": "code",
   "execution_count": 6,
   "id": "f2324aea-d0e2-4980-8f1d-e0f84dc37901",
   "metadata": {},
   "outputs": [],
   "source": [
    "class FinalAnswerTool(Tool):\n",
    "    name = \"final_answer\"\n",
    "    description = \"Provides a final answer to the given problem.\"\n",
    "    inputs = {\"answer\": {\"type\": \"any\", \"description\": \"The final answer to the problem\"}}\n",
    "    outputs = {\"result\": {\"type\": \"any\", \"description\": \"The final response to the problem\"}}\n",
    "    output_type = \"any\"\n",
    "\n",
    "    def forward(self, answer: Any) -> Any:\n",
    "        return answer\n"
   ]
  },
  {
   "cell_type": "code",
   "execution_count": 7,
   "id": "080d6a89-ee7e-4629-b6ba-afaa0cb54a1c",
   "metadata": {},
   "outputs": [],
   "source": [
    "agent = CodeAgent(tools=[tools.CompareData(**kwargs), \n",
    "                         tools.ConvertIdToName(**kwargs),\n",
    "                         tools.ConvertNameToId(**kwargs),\n",
    "                         tools.GetData(**kwargs),\n",
    "                         tools.GetInformation(**kwargs),\n",
    "                         tools.GetNeighbors(**kwargs),\n",
    "                         tools.PlotData(**kwargs),\n",
    "                         FinalAnswerTool()\n",
    "                        ],  \n",
    "                  model=model, \n",
    "                  stream_outputs=True,\n",
    "                  additional_authorized_imports=[\"pandas\", \"numpy\"],\n",
    "                  prompt_templates=prompt_templates,\n",
    "                  max_steps=5)"
   ]
  },
  {
   "cell_type": "code",
   "execution_count": 8,
   "id": "d2a62802-9d21-47a9-8798-43bb0eea653e",
   "metadata": {},
   "outputs": [
    {
     "data": {
      "text/html": [
       "<pre style=\"white-space:pre;overflow-x:auto;line-height:normal;font-family:Menlo,'DejaVu Sans Mono',consolas,'Courier New',monospace\"><span style=\"color: #d4b702; text-decoration-color: #d4b702\">╭──────────────────────────────────────────────────── </span><span style=\"color: #d4b702; text-decoration-color: #d4b702; font-weight: bold\">New run</span><span style=\"color: #d4b702; text-decoration-color: #d4b702\"> ────────────────────────────────────────────────────╮</span>\n",
       "<span style=\"color: #d4b702; text-decoration-color: #d4b702\">│</span>                                                                                                                 <span style=\"color: #d4b702; text-decoration-color: #d4b702\">│</span>\n",
       "<span style=\"color: #d4b702; text-decoration-color: #d4b702\">│</span> <span style=\"font-weight: bold\">What is the daily maximum value of PI-P0017 in April 2025?</span>                                                      <span style=\"color: #d4b702; text-decoration-color: #d4b702\">│</span>\n",
       "<span style=\"color: #d4b702; text-decoration-color: #d4b702\">│</span>                                                                                                                 <span style=\"color: #d4b702; text-decoration-color: #d4b702\">│</span>\n",
       "<span style=\"color: #d4b702; text-decoration-color: #d4b702\">╰─ LiteLLMModel - gpt-4o ─────────────────────────────────────────────────────────────────────────────────────────╯</span>\n",
       "</pre>\n"
      ],
      "text/plain": [
       "\u001b[38;2;212;183;2m╭─\u001b[0m\u001b[38;2;212;183;2m───────────────────────────────────────────────────\u001b[0m\u001b[38;2;212;183;2m \u001b[0m\u001b[1;38;2;212;183;2mNew run\u001b[0m\u001b[38;2;212;183;2m \u001b[0m\u001b[38;2;212;183;2m───────────────────────────────────────────────────\u001b[0m\u001b[38;2;212;183;2m─╮\u001b[0m\n",
       "\u001b[38;2;212;183;2m│\u001b[0m                                                                                                                 \u001b[38;2;212;183;2m│\u001b[0m\n",
       "\u001b[38;2;212;183;2m│\u001b[0m \u001b[1mWhat is the daily maximum value of PI-P0017 in April 2025?\u001b[0m                                                      \u001b[38;2;212;183;2m│\u001b[0m\n",
       "\u001b[38;2;212;183;2m│\u001b[0m                                                                                                                 \u001b[38;2;212;183;2m│\u001b[0m\n",
       "\u001b[38;2;212;183;2m╰─\u001b[0m\u001b[38;2;212;183;2m LiteLLMModel - gpt-4o \u001b[0m\u001b[38;2;212;183;2m────────────────────────────────────────────────────────────────────────────────────────\u001b[0m\u001b[38;2;212;183;2m─╯\u001b[0m\n"
      ]
     },
     "metadata": {},
     "output_type": "display_data"
    },
    {
     "data": {
      "text/html": [
       "<pre style=\"white-space:pre;overflow-x:auto;line-height:normal;font-family:Menlo,'DejaVu Sans Mono',consolas,'Courier New',monospace\"><span style=\"color: #d4b702; text-decoration-color: #d4b702\">━━━━━━━━━━━━━━━━━━━━━━━━━━━━━━━━━━━━━━━━━━━━━━━━━━━━━ </span><span style=\"font-weight: bold\">Step </span><span style=\"color: #008080; text-decoration-color: #008080; font-weight: bold\">1</span><span style=\"color: #d4b702; text-decoration-color: #d4b702\"> ━━━━━━━━━━━━━━━━━━━━━━━━━━━━━━━━━━━━━━━━━━━━━━━━━━━━━━</span>\n",
       "</pre>\n"
      ],
      "text/plain": [
       "\u001b[38;2;212;183;2m━━━━━━━━━━━━━━━━━━━━━━━━━━━━━━━━━━━━━━━━━━━━━━━━━━━━━ \u001b[0m\u001b[1mStep \u001b[0m\u001b[1;36m1\u001b[0m\u001b[38;2;212;183;2m ━━━━━━━━━━━━━━━━━━━━━━━━━━━━━━━━━━━━━━━━━━━━━━━━━━━━━━\u001b[0m\n"
      ]
     },
     "metadata": {},
     "output_type": "display_data"
    },
    {
     "data": {
      "application/vnd.jupyter.widget-view+json": {
       "model_id": "2582f6c951664527a0117a77b2e9286d",
       "version_major": 2,
       "version_minor": 0
      },
      "text/plain": [
       "Output()"
      ]
     },
     "metadata": {},
     "output_type": "display_data"
    },
    {
     "data": {
      "text/html": [
       "<pre style=\"white-space:pre;overflow-x:auto;line-height:normal;font-family:Menlo,'DejaVu Sans Mono',consolas,'Courier New',monospace\"></pre>\n"
      ],
      "text/plain": []
     },
     "metadata": {},
     "output_type": "display_data"
    },
    {
     "data": {
      "text/html": [
       "<pre style=\"white-space:pre;overflow-x:auto;line-height:normal;font-family:Menlo,'DejaVu Sans Mono',consolas,'Courier New',monospace\"> ─ <span style=\"font-weight: bold\">Executing parsed code:</span> ──────────────────────────────────────────────────────────────────────────────────────── \n",
       "  <span style=\"color: #959077; text-decoration-color: #959077; background-color: #272822\"># Get the asset id for PI-P0017</span><span style=\"background-color: #272822\">                                                                                </span>  \n",
       "  <span style=\"color: #f8f8f2; text-decoration-color: #f8f8f2; background-color: #272822\">asset_id_info </span><span style=\"color: #ff4689; text-decoration-color: #ff4689; background-color: #272822\">=</span><span style=\"color: #f8f8f2; text-decoration-color: #f8f8f2; background-color: #272822\"> name_to_id([</span><span style=\"color: #e6db74; text-decoration-color: #e6db74; background-color: #272822\">\"PI-P0017\"</span><span style=\"color: #f8f8f2; text-decoration-color: #f8f8f2; background-color: #272822\">])</span><span style=\"background-color: #272822\">                                                                       </span>  \n",
       "  <span style=\"color: #f8f8f2; text-decoration-color: #f8f8f2; background-color: #272822\">print(asset_id_info)</span><span style=\"background-color: #272822\">                                                                                           </span>  \n",
       " ───────────────────────────────────────────────────────────────────────────────────────────────────────────────── \n",
       "</pre>\n"
      ],
      "text/plain": [
       " ─ \u001b[1mExecuting parsed code:\u001b[0m ──────────────────────────────────────────────────────────────────────────────────────── \n",
       "  \u001b[38;2;149;144;119;48;2;39;40;34m# Get the asset id for PI-P0017\u001b[0m\u001b[48;2;39;40;34m                                                                                \u001b[0m  \n",
       "  \u001b[38;2;248;248;242;48;2;39;40;34masset_id_info\u001b[0m\u001b[38;2;248;248;242;48;2;39;40;34m \u001b[0m\u001b[38;2;255;70;137;48;2;39;40;34m=\u001b[0m\u001b[38;2;248;248;242;48;2;39;40;34m \u001b[0m\u001b[38;2;248;248;242;48;2;39;40;34mname_to_id\u001b[0m\u001b[38;2;248;248;242;48;2;39;40;34m(\u001b[0m\u001b[38;2;248;248;242;48;2;39;40;34m[\u001b[0m\u001b[38;2;230;219;116;48;2;39;40;34m\"\u001b[0m\u001b[38;2;230;219;116;48;2;39;40;34mPI-P0017\u001b[0m\u001b[38;2;230;219;116;48;2;39;40;34m\"\u001b[0m\u001b[38;2;248;248;242;48;2;39;40;34m]\u001b[0m\u001b[38;2;248;248;242;48;2;39;40;34m)\u001b[0m\u001b[48;2;39;40;34m                                                                       \u001b[0m  \n",
       "  \u001b[38;2;248;248;242;48;2;39;40;34mprint\u001b[0m\u001b[38;2;248;248;242;48;2;39;40;34m(\u001b[0m\u001b[38;2;248;248;242;48;2;39;40;34masset_id_info\u001b[0m\u001b[38;2;248;248;242;48;2;39;40;34m)\u001b[0m\u001b[48;2;39;40;34m                                                                                           \u001b[0m  \n",
       " ───────────────────────────────────────────────────────────────────────────────────────────────────────────────── \n"
      ]
     },
     "metadata": {},
     "output_type": "display_data"
    },
    {
     "name": "stderr",
     "output_type": "stream",
     "text": [
      "\u001b[32m2025-05-15 11:19:09.671\u001b[0m | \u001b[1mINFO    \u001b[0m | \u001b[36msrc.agent.adapters.tools.base\u001b[0m:\u001b[36mcall_api\u001b[0m:\u001b[36m74\u001b[0m - \u001b[1mFetching data from http://localhost:5050/v1/id_from_name/PI-P0017 with params: {'offset': 0, 'limit': 100}\u001b[0m\n",
      "\u001b[32m2025-05-15 11:19:09.696\u001b[0m | \u001b[1mINFO    \u001b[0m | \u001b[36msrc.agent.adapters.tools.base\u001b[0m:\u001b[36mcall_api\u001b[0m:\u001b[36m88\u001b[0m - \u001b[1mReached the last page.\u001b[0m\n"
     ]
    },
    {
     "data": {
      "text/html": [
       "<pre style=\"white-space:pre;overflow-x:auto;line-height:normal;font-family:Menlo,'DejaVu Sans Mono',consolas,'Courier New',monospace\"><span style=\"font-weight: bold\">Execution logs:</span>\n",
       "{'asset_ids': ['18b04353-839d-40a1-84c1-9b547d09dd80']}\n",
       "\n",
       "Out: None\n",
       "</pre>\n"
      ],
      "text/plain": [
       "\u001b[1mExecution logs:\u001b[0m\n",
       "{'asset_ids': ['18b04353-839d-40a1-84c1-9b547d09dd80']}\n",
       "\n",
       "Out: None\n"
      ]
     },
     "metadata": {},
     "output_type": "display_data"
    },
    {
     "data": {
      "text/html": [
       "<pre style=\"white-space:pre;overflow-x:auto;line-height:normal;font-family:Menlo,'DejaVu Sans Mono',consolas,'Courier New',monospace\"><span style=\"color: #7f7f7f; text-decoration-color: #7f7f7f\">[Step 1: Duration 3.41 seconds| Input tokens: 1,960 | Output tokens: 83]</span>\n",
       "</pre>\n"
      ],
      "text/plain": [
       "\u001b[2m[Step 1: Duration 3.41 seconds| Input tokens: 1,960 | Output tokens: 83]\u001b[0m\n"
      ]
     },
     "metadata": {},
     "output_type": "display_data"
    },
    {
     "data": {
      "text/html": [
       "<pre style=\"white-space:pre;overflow-x:auto;line-height:normal;font-family:Menlo,'DejaVu Sans Mono',consolas,'Courier New',monospace\"><span style=\"color: #d4b702; text-decoration-color: #d4b702\">━━━━━━━━━━━━━━━━━━━━━━━━━━━━━━━━━━━━━━━━━━━━━━━━━━━━━ </span><span style=\"font-weight: bold\">Step </span><span style=\"color: #008080; text-decoration-color: #008080; font-weight: bold\">2</span><span style=\"color: #d4b702; text-decoration-color: #d4b702\"> ━━━━━━━━━━━━━━━━━━━━━━━━━━━━━━━━━━━━━━━━━━━━━━━━━━━━━━</span>\n",
       "</pre>\n"
      ],
      "text/plain": [
       "\u001b[38;2;212;183;2m━━━━━━━━━━━━━━━━━━━━━━━━━━━━━━━━━━━━━━━━━━━━━━━━━━━━━ \u001b[0m\u001b[1mStep \u001b[0m\u001b[1;36m2\u001b[0m\u001b[38;2;212;183;2m ━━━━━━━━━━━━━━━━━━━━━━━━━━━━━━━━━━━━━━━━━━━━━━━━━━━━━━\u001b[0m\n"
      ]
     },
     "metadata": {},
     "output_type": "display_data"
    },
    {
     "data": {
      "application/vnd.jupyter.widget-view+json": {
       "model_id": "95750c4f3d63404691043cec54245c51",
       "version_major": 2,
       "version_minor": 0
      },
      "text/plain": [
       "Output()"
      ]
     },
     "metadata": {},
     "output_type": "display_data"
    },
    {
     "data": {
      "text/html": [
       "<pre style=\"white-space:pre;overflow-x:auto;line-height:normal;font-family:Menlo,'DejaVu Sans Mono',consolas,'Courier New',monospace\"></pre>\n"
      ],
      "text/plain": []
     },
     "metadata": {},
     "output_type": "display_data"
    },
    {
     "data": {
      "text/html": [
       "<pre style=\"white-space:pre;overflow-x:auto;line-height:normal;font-family:Menlo,'DejaVu Sans Mono',consolas,'Courier New',monospace\"> ─ <span style=\"font-weight: bold\">Executing parsed code:</span> ──────────────────────────────────────────────────────────────────────────────────────── \n",
       "  <span style=\"color: #959077; text-decoration-color: #959077; background-color: #272822\"># Retrieve the daily data for PI-P0017 for April 2025</span><span style=\"background-color: #272822\">                                                          </span>  \n",
       "  <span style=\"color: #f8f8f2; text-decoration-color: #f8f8f2; background-color: #272822\">asset_id </span><span style=\"color: #ff4689; text-decoration-color: #ff4689; background-color: #272822\">=</span><span style=\"color: #f8f8f2; text-decoration-color: #f8f8f2; background-color: #272822\"> </span><span style=\"color: #e6db74; text-decoration-color: #e6db74; background-color: #272822\">'18b04353-839d-40a1-84c1-9b547d09dd80'</span><span style=\"background-color: #272822\">                                                              </span>  \n",
       "  <span style=\"color: #f8f8f2; text-decoration-color: #f8f8f2; background-color: #272822\">start_date </span><span style=\"color: #ff4689; text-decoration-color: #ff4689; background-color: #272822\">=</span><span style=\"color: #f8f8f2; text-decoration-color: #f8f8f2; background-color: #272822\"> </span><span style=\"color: #e6db74; text-decoration-color: #e6db74; background-color: #272822\">\"2025-04-01T00:00:00Z\"</span><span style=\"background-color: #272822\">                                                                            </span>  \n",
       "  <span style=\"color: #f8f8f2; text-decoration-color: #f8f8f2; background-color: #272822\">end_date </span><span style=\"color: #ff4689; text-decoration-color: #ff4689; background-color: #272822\">=</span><span style=\"color: #f8f8f2; text-decoration-color: #f8f8f2; background-color: #272822\"> </span><span style=\"color: #e6db74; text-decoration-color: #e6db74; background-color: #272822\">\"2025-04-30T23:59:59Z\"</span><span style=\"background-color: #272822\">                                                                              </span>  \n",
       "  <span style=\"background-color: #272822\">                                                                                                               </span>  \n",
       "  <span style=\"color: #f8f8f2; text-decoration-color: #f8f8f2; background-color: #272822\">data </span><span style=\"color: #ff4689; text-decoration-color: #ff4689; background-color: #272822\">=</span><span style=\"color: #f8f8f2; text-decoration-color: #f8f8f2; background-color: #272822\"> get_data(asset_ids</span><span style=\"color: #ff4689; text-decoration-color: #ff4689; background-color: #272822\">=</span><span style=\"color: #f8f8f2; text-decoration-color: #f8f8f2; background-color: #272822\">[asset_id], start_date</span><span style=\"color: #ff4689; text-decoration-color: #ff4689; background-color: #272822\">=</span><span style=\"color: #f8f8f2; text-decoration-color: #f8f8f2; background-color: #272822\">start_date, end_date</span><span style=\"color: #ff4689; text-decoration-color: #ff4689; background-color: #272822\">=</span><span style=\"color: #f8f8f2; text-decoration-color: #f8f8f2; background-color: #272822\">end_date, aggregation</span><span style=\"color: #ff4689; text-decoration-color: #ff4689; background-color: #272822\">=</span><span style=\"color: #e6db74; text-decoration-color: #e6db74; background-color: #272822\">'day'</span><span style=\"color: #f8f8f2; text-decoration-color: #f8f8f2; background-color: #272822\">, </span><span style=\"background-color: #272822\">            </span>  \n",
       "  <span style=\"color: #f8f8f2; text-decoration-color: #f8f8f2; background-color: #272822\">last_value</span><span style=\"color: #ff4689; text-decoration-color: #ff4689; background-color: #272822\">=</span><span style=\"color: #66d9ef; text-decoration-color: #66d9ef; background-color: #272822\">False</span><span style=\"color: #f8f8f2; text-decoration-color: #f8f8f2; background-color: #272822\">)</span><span style=\"background-color: #272822\">                                                                                              </span>  \n",
       "  <span style=\"color: #f8f8f2; text-decoration-color: #f8f8f2; background-color: #272822\">print(data)</span><span style=\"background-color: #272822\">                                                                                                    </span>  \n",
       " ───────────────────────────────────────────────────────────────────────────────────────────────────────────────── \n",
       "</pre>\n"
      ],
      "text/plain": [
       " ─ \u001b[1mExecuting parsed code:\u001b[0m ──────────────────────────────────────────────────────────────────────────────────────── \n",
       "  \u001b[38;2;149;144;119;48;2;39;40;34m# Retrieve the daily data for PI-P0017 for April 2025\u001b[0m\u001b[48;2;39;40;34m                                                          \u001b[0m  \n",
       "  \u001b[38;2;248;248;242;48;2;39;40;34masset_id\u001b[0m\u001b[38;2;248;248;242;48;2;39;40;34m \u001b[0m\u001b[38;2;255;70;137;48;2;39;40;34m=\u001b[0m\u001b[38;2;248;248;242;48;2;39;40;34m \u001b[0m\u001b[38;2;230;219;116;48;2;39;40;34m'\u001b[0m\u001b[38;2;230;219;116;48;2;39;40;34m18b04353-839d-40a1-84c1-9b547d09dd80\u001b[0m\u001b[38;2;230;219;116;48;2;39;40;34m'\u001b[0m\u001b[48;2;39;40;34m                                                              \u001b[0m  \n",
       "  \u001b[38;2;248;248;242;48;2;39;40;34mstart_date\u001b[0m\u001b[38;2;248;248;242;48;2;39;40;34m \u001b[0m\u001b[38;2;255;70;137;48;2;39;40;34m=\u001b[0m\u001b[38;2;248;248;242;48;2;39;40;34m \u001b[0m\u001b[38;2;230;219;116;48;2;39;40;34m\"\u001b[0m\u001b[38;2;230;219;116;48;2;39;40;34m2025-04-01T00:00:00Z\u001b[0m\u001b[38;2;230;219;116;48;2;39;40;34m\"\u001b[0m\u001b[48;2;39;40;34m                                                                            \u001b[0m  \n",
       "  \u001b[38;2;248;248;242;48;2;39;40;34mend_date\u001b[0m\u001b[38;2;248;248;242;48;2;39;40;34m \u001b[0m\u001b[38;2;255;70;137;48;2;39;40;34m=\u001b[0m\u001b[38;2;248;248;242;48;2;39;40;34m \u001b[0m\u001b[38;2;230;219;116;48;2;39;40;34m\"\u001b[0m\u001b[38;2;230;219;116;48;2;39;40;34m2025-04-30T23:59:59Z\u001b[0m\u001b[38;2;230;219;116;48;2;39;40;34m\"\u001b[0m\u001b[48;2;39;40;34m                                                                              \u001b[0m  \n",
       "  \u001b[48;2;39;40;34m                                                                                                               \u001b[0m  \n",
       "  \u001b[38;2;248;248;242;48;2;39;40;34mdata\u001b[0m\u001b[38;2;248;248;242;48;2;39;40;34m \u001b[0m\u001b[38;2;255;70;137;48;2;39;40;34m=\u001b[0m\u001b[38;2;248;248;242;48;2;39;40;34m \u001b[0m\u001b[38;2;248;248;242;48;2;39;40;34mget_data\u001b[0m\u001b[38;2;248;248;242;48;2;39;40;34m(\u001b[0m\u001b[38;2;248;248;242;48;2;39;40;34masset_ids\u001b[0m\u001b[38;2;255;70;137;48;2;39;40;34m=\u001b[0m\u001b[38;2;248;248;242;48;2;39;40;34m[\u001b[0m\u001b[38;2;248;248;242;48;2;39;40;34masset_id\u001b[0m\u001b[38;2;248;248;242;48;2;39;40;34m]\u001b[0m\u001b[38;2;248;248;242;48;2;39;40;34m,\u001b[0m\u001b[38;2;248;248;242;48;2;39;40;34m \u001b[0m\u001b[38;2;248;248;242;48;2;39;40;34mstart_date\u001b[0m\u001b[38;2;255;70;137;48;2;39;40;34m=\u001b[0m\u001b[38;2;248;248;242;48;2;39;40;34mstart_date\u001b[0m\u001b[38;2;248;248;242;48;2;39;40;34m,\u001b[0m\u001b[38;2;248;248;242;48;2;39;40;34m \u001b[0m\u001b[38;2;248;248;242;48;2;39;40;34mend_date\u001b[0m\u001b[38;2;255;70;137;48;2;39;40;34m=\u001b[0m\u001b[38;2;248;248;242;48;2;39;40;34mend_date\u001b[0m\u001b[38;2;248;248;242;48;2;39;40;34m,\u001b[0m\u001b[38;2;248;248;242;48;2;39;40;34m \u001b[0m\u001b[38;2;248;248;242;48;2;39;40;34maggregation\u001b[0m\u001b[38;2;255;70;137;48;2;39;40;34m=\u001b[0m\u001b[38;2;230;219;116;48;2;39;40;34m'\u001b[0m\u001b[38;2;230;219;116;48;2;39;40;34mday\u001b[0m\u001b[38;2;230;219;116;48;2;39;40;34m'\u001b[0m\u001b[38;2;248;248;242;48;2;39;40;34m,\u001b[0m\u001b[38;2;248;248;242;48;2;39;40;34m \u001b[0m\u001b[48;2;39;40;34m            \u001b[0m  \n",
       "  \u001b[38;2;248;248;242;48;2;39;40;34mlast_value\u001b[0m\u001b[38;2;255;70;137;48;2;39;40;34m=\u001b[0m\u001b[38;2;102;217;239;48;2;39;40;34mFalse\u001b[0m\u001b[38;2;248;248;242;48;2;39;40;34m)\u001b[0m\u001b[48;2;39;40;34m                                                                                              \u001b[0m  \n",
       "  \u001b[38;2;248;248;242;48;2;39;40;34mprint\u001b[0m\u001b[38;2;248;248;242;48;2;39;40;34m(\u001b[0m\u001b[38;2;248;248;242;48;2;39;40;34mdata\u001b[0m\u001b[38;2;248;248;242;48;2;39;40;34m)\u001b[0m\u001b[48;2;39;40;34m                                                                                                    \u001b[0m  \n",
       " ───────────────────────────────────────────────────────────────────────────────────────────────────────────────── \n"
      ]
     },
     "metadata": {},
     "output_type": "display_data"
    },
    {
     "name": "stderr",
     "output_type": "stream",
     "text": [
      "\u001b[32m2025-05-15 11:19:14.040\u001b[0m | \u001b[1mINFO    \u001b[0m | \u001b[36msrc.agent.adapters.tools.base\u001b[0m:\u001b[36mcall_api\u001b[0m:\u001b[36m74\u001b[0m - \u001b[1mFetching data from http://localhost:5050/v1/data/18b04353-839d-40a1-84c1-9b547d09dd80 with params: {'last_value': False, 'start_date': '2025-04-01T00:00:00', 'end_date': '2025-04-30T23:59:59', 'aggregation': 'd', 'offset': 0, 'limit': 100}\u001b[0m\n",
      "\u001b[32m2025-05-15 11:19:14.368\u001b[0m | \u001b[1mINFO    \u001b[0m | \u001b[36msrc.agent.adapters.tools.base\u001b[0m:\u001b[36mcall_api\u001b[0m:\u001b[36m88\u001b[0m - \u001b[1mReached the last page.\u001b[0m\n"
     ]
    },
    {
     "data": {
      "text/html": [
       "<pre style=\"white-space:pre;overflow-x:auto;line-height:normal;font-family:Menlo,'DejaVu Sans Mono',consolas,'Courier New',monospace\"><span style=\"font-weight: bold\">Execution logs:</span>\n",
       "{'data':                      18b04353-839d-40a1-84c1-9b547d09dd80\n",
       "timestamp                                                \n",
       "2025-04-01T00:00:00                              1.588889\n",
       "2025-04-02T00:00:00                              1.556674\n",
       "2025-04-03T00:00:00                              1.458451\n",
       "2025-04-04T00:00:00                              1.481194\n",
       "2025-04-05T00:00:00                              1.378924\n",
       "2025-04-06T00:00:00                              1.267590\n",
       "2025-04-07T00:00:00                              1.261139\n",
       "2025-04-08T00:00:00                              1.290472\n",
       "2025-04-09T00:00:00                              1.241875\n",
       "2025-04-10T00:00:00                              1.178278\n",
       "2025-04-11T00:00:00                              1.025847\n",
       "2025-04-12T00:00:00                              1.014632\n",
       "2025-04-13T00:00:00                              0.948687\n",
       "2025-04-14T00:00:00                              0.888639\n",
       "2025-04-15T00:00:00                              0.945736\n",
       "2025-04-16T00:00:00                              0.842243\n",
       "2025-04-17T00:00:00                              0.785375\n",
       "2025-04-18T00:00:00                              0.804521\n",
       "2025-04-19T00:00:00                              0.783035\n",
       "2025-04-20T00:00:00                              0.699667\n",
       "2025-04-21T00:00:00                              0.635833\n",
       "2025-04-22T00:00:00                              0.625757\n",
       "2025-04-23T00:00:00                              0.619875\n",
       "2025-04-24T00:00:00                              0.515604\n",
       "2025-04-25T00:00:00                              0.608785\n",
       "2025-04-26T00:00:00                              0.500250\n",
       "2025-04-27T00:00:00                              0.435174\n",
       "2025-04-28T00:00:00                              0.363062\n",
       "2025-04-29T00:00:00                              0.378806\n",
       "2025-04-30T00:00:00                              0.355576}\n",
       "\n",
       "Out: None\n",
       "</pre>\n"
      ],
      "text/plain": [
       "\u001b[1mExecution logs:\u001b[0m\n",
       "{'data':                      18b04353-839d-40a1-84c1-9b547d09dd80\n",
       "timestamp                                                \n",
       "2025-04-01T00:00:00                              1.588889\n",
       "2025-04-02T00:00:00                              1.556674\n",
       "2025-04-03T00:00:00                              1.458451\n",
       "2025-04-04T00:00:00                              1.481194\n",
       "2025-04-05T00:00:00                              1.378924\n",
       "2025-04-06T00:00:00                              1.267590\n",
       "2025-04-07T00:00:00                              1.261139\n",
       "2025-04-08T00:00:00                              1.290472\n",
       "2025-04-09T00:00:00                              1.241875\n",
       "2025-04-10T00:00:00                              1.178278\n",
       "2025-04-11T00:00:00                              1.025847\n",
       "2025-04-12T00:00:00                              1.014632\n",
       "2025-04-13T00:00:00                              0.948687\n",
       "2025-04-14T00:00:00                              0.888639\n",
       "2025-04-15T00:00:00                              0.945736\n",
       "2025-04-16T00:00:00                              0.842243\n",
       "2025-04-17T00:00:00                              0.785375\n",
       "2025-04-18T00:00:00                              0.804521\n",
       "2025-04-19T00:00:00                              0.783035\n",
       "2025-04-20T00:00:00                              0.699667\n",
       "2025-04-21T00:00:00                              0.635833\n",
       "2025-04-22T00:00:00                              0.625757\n",
       "2025-04-23T00:00:00                              0.619875\n",
       "2025-04-24T00:00:00                              0.515604\n",
       "2025-04-25T00:00:00                              0.608785\n",
       "2025-04-26T00:00:00                              0.500250\n",
       "2025-04-27T00:00:00                              0.435174\n",
       "2025-04-28T00:00:00                              0.363062\n",
       "2025-04-29T00:00:00                              0.378806\n",
       "2025-04-30T00:00:00                              0.355576}\n",
       "\n",
       "Out: None\n"
      ]
     },
     "metadata": {},
     "output_type": "display_data"
    },
    {
     "data": {
      "text/html": [
       "<pre style=\"white-space:pre;overflow-x:auto;line-height:normal;font-family:Menlo,'DejaVu Sans Mono',consolas,'Courier New',monospace\"><span style=\"color: #7f7f7f; text-decoration-color: #7f7f7f\">[Step 2: Duration 4.68 seconds| Input tokens: 4,117 | Output tokens: 272]</span>\n",
       "</pre>\n"
      ],
      "text/plain": [
       "\u001b[2m[Step 2: Duration 4.68 seconds| Input tokens: 4,117 | Output tokens: 272]\u001b[0m\n"
      ]
     },
     "metadata": {},
     "output_type": "display_data"
    },
    {
     "data": {
      "text/html": [
       "<pre style=\"white-space:pre;overflow-x:auto;line-height:normal;font-family:Menlo,'DejaVu Sans Mono',consolas,'Courier New',monospace\"><span style=\"color: #d4b702; text-decoration-color: #d4b702\">━━━━━━━━━━━━━━━━━━━━━━━━━━━━━━━━━━━━━━━━━━━━━━━━━━━━━ </span><span style=\"font-weight: bold\">Step </span><span style=\"color: #008080; text-decoration-color: #008080; font-weight: bold\">3</span><span style=\"color: #d4b702; text-decoration-color: #d4b702\"> ━━━━━━━━━━━━━━━━━━━━━━━━━━━━━━━━━━━━━━━━━━━━━━━━━━━━━━</span>\n",
       "</pre>\n"
      ],
      "text/plain": [
       "\u001b[38;2;212;183;2m━━━━━━━━━━━━━━━━━━━━━━━━━━━━━━━━━━━━━━━━━━━━━━━━━━━━━ \u001b[0m\u001b[1mStep \u001b[0m\u001b[1;36m3\u001b[0m\u001b[38;2;212;183;2m ━━━━━━━━━━━━━━━━━━━━━━━━━━━━━━━━━━━━━━━━━━━━━━━━━━━━━━\u001b[0m\n"
      ]
     },
     "metadata": {},
     "output_type": "display_data"
    },
    {
     "data": {
      "application/vnd.jupyter.widget-view+json": {
       "model_id": "14325bcd9d6549329381914e3ee86074",
       "version_major": 2,
       "version_minor": 0
      },
      "text/plain": [
       "Output()"
      ]
     },
     "metadata": {},
     "output_type": "display_data"
    },
    {
     "data": {
      "text/html": [
       "<pre style=\"white-space:pre;overflow-x:auto;line-height:normal;font-family:Menlo,'DejaVu Sans Mono',consolas,'Courier New',monospace\"></pre>\n"
      ],
      "text/plain": []
     },
     "metadata": {},
     "output_type": "display_data"
    },
    {
     "data": {
      "text/html": [
       "<pre style=\"white-space:pre;overflow-x:auto;line-height:normal;font-family:Menlo,'DejaVu Sans Mono',consolas,'Courier New',monospace\"> ─ <span style=\"font-weight: bold\">Executing parsed code:</span> ──────────────────────────────────────────────────────────────────────────────────────── \n",
       "  <span style=\"color: #ff4689; text-decoration-color: #ff4689; background-color: #272822\">import</span><span style=\"color: #f8f8f2; text-decoration-color: #f8f8f2; background-color: #272822\"> pandas </span><span style=\"color: #66d9ef; text-decoration-color: #66d9ef; background-color: #272822\">as</span><span style=\"color: #f8f8f2; text-decoration-color: #f8f8f2; background-color: #272822\"> pd</span><span style=\"background-color: #272822\">                                                                                            </span>  \n",
       "  <span style=\"background-color: #272822\">                                                                                                               </span>  \n",
       "  <span style=\"color: #959077; text-decoration-color: #959077; background-color: #272822\"># Construct the DataFrame from the provided data</span><span style=\"background-color: #272822\">                                                               </span>  \n",
       "  <span style=\"color: #f8f8f2; text-decoration-color: #f8f8f2; background-color: #272822\">data_dict </span><span style=\"color: #ff4689; text-decoration-color: #ff4689; background-color: #272822\">=</span><span style=\"color: #f8f8f2; text-decoration-color: #f8f8f2; background-color: #272822\"> {</span><span style=\"background-color: #272822\">                                                                                                  </span>  \n",
       "  <span style=\"color: #f8f8f2; text-decoration-color: #f8f8f2; background-color: #272822\">    </span><span style=\"color: #e6db74; text-decoration-color: #e6db74; background-color: #272822\">'timestamp'</span><span style=\"color: #f8f8f2; text-decoration-color: #f8f8f2; background-color: #272822\">: [</span><span style=\"background-color: #272822\">                                                                                             </span>  \n",
       "  <span style=\"color: #f8f8f2; text-decoration-color: #f8f8f2; background-color: #272822\">        </span><span style=\"color: #e6db74; text-decoration-color: #e6db74; background-color: #272822\">\"2025-04-01T00:00:00\"</span><span style=\"color: #f8f8f2; text-decoration-color: #f8f8f2; background-color: #272822\">, </span><span style=\"color: #e6db74; text-decoration-color: #e6db74; background-color: #272822\">\"2025-04-02T00:00:00\"</span><span style=\"color: #f8f8f2; text-decoration-color: #f8f8f2; background-color: #272822\">, </span><span style=\"color: #e6db74; text-decoration-color: #e6db74; background-color: #272822\">\"2025-04-03T00:00:00\"</span><span style=\"color: #f8f8f2; text-decoration-color: #f8f8f2; background-color: #272822\">,</span><span style=\"background-color: #272822\">                                   </span>  \n",
       "  <span style=\"color: #f8f8f2; text-decoration-color: #f8f8f2; background-color: #272822\">        </span><span style=\"color: #e6db74; text-decoration-color: #e6db74; background-color: #272822\">\"2025-04-04T00:00:00\"</span><span style=\"color: #f8f8f2; text-decoration-color: #f8f8f2; background-color: #272822\">, </span><span style=\"color: #e6db74; text-decoration-color: #e6db74; background-color: #272822\">\"2025-04-05T00:00:00\"</span><span style=\"color: #f8f8f2; text-decoration-color: #f8f8f2; background-color: #272822\">, </span><span style=\"color: #e6db74; text-decoration-color: #e6db74; background-color: #272822\">\"2025-04-06T00:00:00\"</span><span style=\"color: #f8f8f2; text-decoration-color: #f8f8f2; background-color: #272822\">,</span><span style=\"background-color: #272822\">                                   </span>  \n",
       "  <span style=\"color: #f8f8f2; text-decoration-color: #f8f8f2; background-color: #272822\">        </span><span style=\"color: #e6db74; text-decoration-color: #e6db74; background-color: #272822\">\"2025-04-07T00:00:00\"</span><span style=\"color: #f8f8f2; text-decoration-color: #f8f8f2; background-color: #272822\">, </span><span style=\"color: #e6db74; text-decoration-color: #e6db74; background-color: #272822\">\"2025-04-08T00:00:00\"</span><span style=\"color: #f8f8f2; text-decoration-color: #f8f8f2; background-color: #272822\">, </span><span style=\"color: #e6db74; text-decoration-color: #e6db74; background-color: #272822\">\"2025-04-09T00:00:00\"</span><span style=\"color: #f8f8f2; text-decoration-color: #f8f8f2; background-color: #272822\">,</span><span style=\"background-color: #272822\">                                   </span>  \n",
       "  <span style=\"color: #f8f8f2; text-decoration-color: #f8f8f2; background-color: #272822\">        </span><span style=\"color: #e6db74; text-decoration-color: #e6db74; background-color: #272822\">\"2025-04-10T00:00:00\"</span><span style=\"color: #f8f8f2; text-decoration-color: #f8f8f2; background-color: #272822\">, </span><span style=\"color: #e6db74; text-decoration-color: #e6db74; background-color: #272822\">\"2025-04-11T00:00:00\"</span><span style=\"color: #f8f8f2; text-decoration-color: #f8f8f2; background-color: #272822\">, </span><span style=\"color: #e6db74; text-decoration-color: #e6db74; background-color: #272822\">\"2025-04-12T00:00:00\"</span><span style=\"color: #f8f8f2; text-decoration-color: #f8f8f2; background-color: #272822\">,</span><span style=\"background-color: #272822\">                                   </span>  \n",
       "  <span style=\"color: #f8f8f2; text-decoration-color: #f8f8f2; background-color: #272822\">        </span><span style=\"color: #e6db74; text-decoration-color: #e6db74; background-color: #272822\">\"2025-04-13T00:00:00\"</span><span style=\"color: #f8f8f2; text-decoration-color: #f8f8f2; background-color: #272822\">, </span><span style=\"color: #e6db74; text-decoration-color: #e6db74; background-color: #272822\">\"2025-04-14T00:00:00\"</span><span style=\"color: #f8f8f2; text-decoration-color: #f8f8f2; background-color: #272822\">, </span><span style=\"color: #e6db74; text-decoration-color: #e6db74; background-color: #272822\">\"2025-04-15T00:00:00\"</span><span style=\"color: #f8f8f2; text-decoration-color: #f8f8f2; background-color: #272822\">,</span><span style=\"background-color: #272822\">                                   </span>  \n",
       "  <span style=\"color: #f8f8f2; text-decoration-color: #f8f8f2; background-color: #272822\">        </span><span style=\"color: #e6db74; text-decoration-color: #e6db74; background-color: #272822\">\"2025-04-16T00:00:00\"</span><span style=\"color: #f8f8f2; text-decoration-color: #f8f8f2; background-color: #272822\">, </span><span style=\"color: #e6db74; text-decoration-color: #e6db74; background-color: #272822\">\"2025-04-17T00:00:00\"</span><span style=\"color: #f8f8f2; text-decoration-color: #f8f8f2; background-color: #272822\">, </span><span style=\"color: #e6db74; text-decoration-color: #e6db74; background-color: #272822\">\"2025-04-18T00:00:00\"</span><span style=\"color: #f8f8f2; text-decoration-color: #f8f8f2; background-color: #272822\">,</span><span style=\"background-color: #272822\">                                   </span>  \n",
       "  <span style=\"color: #f8f8f2; text-decoration-color: #f8f8f2; background-color: #272822\">        </span><span style=\"color: #e6db74; text-decoration-color: #e6db74; background-color: #272822\">\"2025-04-19T00:00:00\"</span><span style=\"color: #f8f8f2; text-decoration-color: #f8f8f2; background-color: #272822\">, </span><span style=\"color: #e6db74; text-decoration-color: #e6db74; background-color: #272822\">\"2025-04-20T00:00:00\"</span><span style=\"color: #f8f8f2; text-decoration-color: #f8f8f2; background-color: #272822\">, </span><span style=\"color: #e6db74; text-decoration-color: #e6db74; background-color: #272822\">\"2025-04-21T00:00:00\"</span><span style=\"color: #f8f8f2; text-decoration-color: #f8f8f2; background-color: #272822\">,</span><span style=\"background-color: #272822\">                                   </span>  \n",
       "  <span style=\"color: #f8f8f2; text-decoration-color: #f8f8f2; background-color: #272822\">        </span><span style=\"color: #e6db74; text-decoration-color: #e6db74; background-color: #272822\">\"2025-04-22T00:00:00\"</span><span style=\"color: #f8f8f2; text-decoration-color: #f8f8f2; background-color: #272822\">, </span><span style=\"color: #e6db74; text-decoration-color: #e6db74; background-color: #272822\">\"2025-04-23T00:00:00\"</span><span style=\"color: #f8f8f2; text-decoration-color: #f8f8f2; background-color: #272822\">, </span><span style=\"color: #e6db74; text-decoration-color: #e6db74; background-color: #272822\">\"2025-04-24T00:00:00\"</span><span style=\"color: #f8f8f2; text-decoration-color: #f8f8f2; background-color: #272822\">,</span><span style=\"background-color: #272822\">                                   </span>  \n",
       "  <span style=\"color: #f8f8f2; text-decoration-color: #f8f8f2; background-color: #272822\">        </span><span style=\"color: #e6db74; text-decoration-color: #e6db74; background-color: #272822\">\"2025-04-25T00:00:00\"</span><span style=\"color: #f8f8f2; text-decoration-color: #f8f8f2; background-color: #272822\">, </span><span style=\"color: #e6db74; text-decoration-color: #e6db74; background-color: #272822\">\"2025-04-26T00:00:00\"</span><span style=\"color: #f8f8f2; text-decoration-color: #f8f8f2; background-color: #272822\">, </span><span style=\"color: #e6db74; text-decoration-color: #e6db74; background-color: #272822\">\"2025-04-27T00:00:00\"</span><span style=\"color: #f8f8f2; text-decoration-color: #f8f8f2; background-color: #272822\">,</span><span style=\"background-color: #272822\">                                   </span>  \n",
       "  <span style=\"color: #f8f8f2; text-decoration-color: #f8f8f2; background-color: #272822\">        </span><span style=\"color: #e6db74; text-decoration-color: #e6db74; background-color: #272822\">\"2025-04-28T00:00:00\"</span><span style=\"color: #f8f8f2; text-decoration-color: #f8f8f2; background-color: #272822\">, </span><span style=\"color: #e6db74; text-decoration-color: #e6db74; background-color: #272822\">\"2025-04-29T00:00:00\"</span><span style=\"color: #f8f8f2; text-decoration-color: #f8f8f2; background-color: #272822\">, </span><span style=\"color: #e6db74; text-decoration-color: #e6db74; background-color: #272822\">\"2025-04-30T00:00:00\"</span><span style=\"color: #f8f8f2; text-decoration-color: #f8f8f2; background-color: #272822\">],</span><span style=\"background-color: #272822\">                                  </span>  \n",
       "  <span style=\"color: #f8f8f2; text-decoration-color: #f8f8f2; background-color: #272822\">    </span><span style=\"color: #e6db74; text-decoration-color: #e6db74; background-color: #272822\">'values'</span><span style=\"color: #f8f8f2; text-decoration-color: #f8f8f2; background-color: #272822\">: [</span><span style=\"background-color: #272822\">                                                                                                </span>  \n",
       "  <span style=\"color: #f8f8f2; text-decoration-color: #f8f8f2; background-color: #272822\">        </span><span style=\"color: #ae81ff; text-decoration-color: #ae81ff; background-color: #272822\">1.588889</span><span style=\"color: #f8f8f2; text-decoration-color: #f8f8f2; background-color: #272822\">, </span><span style=\"color: #ae81ff; text-decoration-color: #ae81ff; background-color: #272822\">1.556674</span><span style=\"color: #f8f8f2; text-decoration-color: #f8f8f2; background-color: #272822\">, </span><span style=\"color: #ae81ff; text-decoration-color: #ae81ff; background-color: #272822\">1.458451</span><span style=\"color: #f8f8f2; text-decoration-color: #f8f8f2; background-color: #272822\">, </span><span style=\"color: #ae81ff; text-decoration-color: #ae81ff; background-color: #272822\">1.481194</span><span style=\"color: #f8f8f2; text-decoration-color: #f8f8f2; background-color: #272822\">, </span><span style=\"color: #ae81ff; text-decoration-color: #ae81ff; background-color: #272822\">1.378924</span><span style=\"color: #f8f8f2; text-decoration-color: #f8f8f2; background-color: #272822\">, </span><span style=\"color: #ae81ff; text-decoration-color: #ae81ff; background-color: #272822\">1.267590</span><span style=\"color: #f8f8f2; text-decoration-color: #f8f8f2; background-color: #272822\">, </span><span style=\"color: #ae81ff; text-decoration-color: #ae81ff; background-color: #272822\">1.261139</span><span style=\"color: #f8f8f2; text-decoration-color: #f8f8f2; background-color: #272822\">,</span><span style=\"background-color: #272822\">                                  </span>  \n",
       "  <span style=\"color: #f8f8f2; text-decoration-color: #f8f8f2; background-color: #272822\">        </span><span style=\"color: #ae81ff; text-decoration-color: #ae81ff; background-color: #272822\">1.290472</span><span style=\"color: #f8f8f2; text-decoration-color: #f8f8f2; background-color: #272822\">, </span><span style=\"color: #ae81ff; text-decoration-color: #ae81ff; background-color: #272822\">1.241875</span><span style=\"color: #f8f8f2; text-decoration-color: #f8f8f2; background-color: #272822\">, </span><span style=\"color: #ae81ff; text-decoration-color: #ae81ff; background-color: #272822\">1.178278</span><span style=\"color: #f8f8f2; text-decoration-color: #f8f8f2; background-color: #272822\">, </span><span style=\"color: #ae81ff; text-decoration-color: #ae81ff; background-color: #272822\">1.025847</span><span style=\"color: #f8f8f2; text-decoration-color: #f8f8f2; background-color: #272822\">, </span><span style=\"color: #ae81ff; text-decoration-color: #ae81ff; background-color: #272822\">1.014632</span><span style=\"color: #f8f8f2; text-decoration-color: #f8f8f2; background-color: #272822\">, </span><span style=\"color: #ae81ff; text-decoration-color: #ae81ff; background-color: #272822\">0.948687</span><span style=\"color: #f8f8f2; text-decoration-color: #f8f8f2; background-color: #272822\">, </span><span style=\"color: #ae81ff; text-decoration-color: #ae81ff; background-color: #272822\">0.888639</span><span style=\"color: #f8f8f2; text-decoration-color: #f8f8f2; background-color: #272822\">,</span><span style=\"background-color: #272822\">                                  </span>  \n",
       "  <span style=\"color: #f8f8f2; text-decoration-color: #f8f8f2; background-color: #272822\">        </span><span style=\"color: #ae81ff; text-decoration-color: #ae81ff; background-color: #272822\">0.945736</span><span style=\"color: #f8f8f2; text-decoration-color: #f8f8f2; background-color: #272822\">, </span><span style=\"color: #ae81ff; text-decoration-color: #ae81ff; background-color: #272822\">0.842243</span><span style=\"color: #f8f8f2; text-decoration-color: #f8f8f2; background-color: #272822\">, </span><span style=\"color: #ae81ff; text-decoration-color: #ae81ff; background-color: #272822\">0.785375</span><span style=\"color: #f8f8f2; text-decoration-color: #f8f8f2; background-color: #272822\">, </span><span style=\"color: #ae81ff; text-decoration-color: #ae81ff; background-color: #272822\">0.804521</span><span style=\"color: #f8f8f2; text-decoration-color: #f8f8f2; background-color: #272822\">, </span><span style=\"color: #ae81ff; text-decoration-color: #ae81ff; background-color: #272822\">0.783035</span><span style=\"color: #f8f8f2; text-decoration-color: #f8f8f2; background-color: #272822\">, </span><span style=\"color: #ae81ff; text-decoration-color: #ae81ff; background-color: #272822\">0.699667</span><span style=\"color: #f8f8f2; text-decoration-color: #f8f8f2; background-color: #272822\">, </span><span style=\"color: #ae81ff; text-decoration-color: #ae81ff; background-color: #272822\">0.635833</span><span style=\"color: #f8f8f2; text-decoration-color: #f8f8f2; background-color: #272822\">,</span><span style=\"background-color: #272822\">                                  </span>  \n",
       "  <span style=\"color: #f8f8f2; text-decoration-color: #f8f8f2; background-color: #272822\">        </span><span style=\"color: #ae81ff; text-decoration-color: #ae81ff; background-color: #272822\">0.625757</span><span style=\"color: #f8f8f2; text-decoration-color: #f8f8f2; background-color: #272822\">, </span><span style=\"color: #ae81ff; text-decoration-color: #ae81ff; background-color: #272822\">0.619875</span><span style=\"color: #f8f8f2; text-decoration-color: #f8f8f2; background-color: #272822\">, </span><span style=\"color: #ae81ff; text-decoration-color: #ae81ff; background-color: #272822\">0.515604</span><span style=\"color: #f8f8f2; text-decoration-color: #f8f8f2; background-color: #272822\">, </span><span style=\"color: #ae81ff; text-decoration-color: #ae81ff; background-color: #272822\">0.608785</span><span style=\"color: #f8f8f2; text-decoration-color: #f8f8f2; background-color: #272822\">, </span><span style=\"color: #ae81ff; text-decoration-color: #ae81ff; background-color: #272822\">0.500250</span><span style=\"color: #f8f8f2; text-decoration-color: #f8f8f2; background-color: #272822\">, </span><span style=\"color: #ae81ff; text-decoration-color: #ae81ff; background-color: #272822\">0.435174</span><span style=\"color: #f8f8f2; text-decoration-color: #f8f8f2; background-color: #272822\">, </span><span style=\"color: #ae81ff; text-decoration-color: #ae81ff; background-color: #272822\">0.363062</span><span style=\"color: #f8f8f2; text-decoration-color: #f8f8f2; background-color: #272822\">,</span><span style=\"background-color: #272822\">                                  </span>  \n",
       "  <span style=\"color: #f8f8f2; text-decoration-color: #f8f8f2; background-color: #272822\">        </span><span style=\"color: #ae81ff; text-decoration-color: #ae81ff; background-color: #272822\">0.378806</span><span style=\"color: #f8f8f2; text-decoration-color: #f8f8f2; background-color: #272822\">, </span><span style=\"color: #ae81ff; text-decoration-color: #ae81ff; background-color: #272822\">0.355576</span><span style=\"color: #f8f8f2; text-decoration-color: #f8f8f2; background-color: #272822\">]</span><span style=\"background-color: #272822\">                                                                                    </span>  \n",
       "  <span style=\"color: #f8f8f2; text-decoration-color: #f8f8f2; background-color: #272822\">}</span><span style=\"background-color: #272822\">                                                                                                              </span>  \n",
       "  <span style=\"background-color: #272822\">                                                                                                               </span>  \n",
       "  <span style=\"color: #f8f8f2; text-decoration-color: #f8f8f2; background-color: #272822\">df </span><span style=\"color: #ff4689; text-decoration-color: #ff4689; background-color: #272822\">=</span><span style=\"color: #f8f8f2; text-decoration-color: #f8f8f2; background-color: #272822\"> pd</span><span style=\"color: #ff4689; text-decoration-color: #ff4689; background-color: #272822\">.</span><span style=\"color: #f8f8f2; text-decoration-color: #f8f8f2; background-color: #272822\">DataFrame(data_dict)</span><span style=\"background-color: #272822\">                                                                                   </span>  \n",
       "  <span style=\"color: #f8f8f2; text-decoration-color: #f8f8f2; background-color: #272822\">df[</span><span style=\"color: #e6db74; text-decoration-color: #e6db74; background-color: #272822\">'timestamp'</span><span style=\"color: #f8f8f2; text-decoration-color: #f8f8f2; background-color: #272822\">] </span><span style=\"color: #ff4689; text-decoration-color: #ff4689; background-color: #272822\">=</span><span style=\"color: #f8f8f2; text-decoration-color: #f8f8f2; background-color: #272822\"> pd</span><span style=\"color: #ff4689; text-decoration-color: #ff4689; background-color: #272822\">.</span><span style=\"color: #f8f8f2; text-decoration-color: #f8f8f2; background-color: #272822\">to_datetime(df[</span><span style=\"color: #e6db74; text-decoration-color: #e6db74; background-color: #272822\">'timestamp'</span><span style=\"color: #f8f8f2; text-decoration-color: #f8f8f2; background-color: #272822\">])</span><span style=\"background-color: #272822\">                                                              </span>  \n",
       "  <span style=\"background-color: #272822\">                                                                                                               </span>  \n",
       "  <span style=\"color: #959077; text-decoration-color: #959077; background-color: #272822\"># Calculate the maximum value</span><span style=\"background-color: #272822\">                                                                                  </span>  \n",
       "  <span style=\"color: #f8f8f2; text-decoration-color: #f8f8f2; background-color: #272822\">max_value </span><span style=\"color: #ff4689; text-decoration-color: #ff4689; background-color: #272822\">=</span><span style=\"color: #f8f8f2; text-decoration-color: #f8f8f2; background-color: #272822\"> df[</span><span style=\"color: #e6db74; text-decoration-color: #e6db74; background-color: #272822\">'values'</span><span style=\"color: #f8f8f2; text-decoration-color: #f8f8f2; background-color: #272822\">]</span><span style=\"color: #ff4689; text-decoration-color: #ff4689; background-color: #272822\">.</span><span style=\"color: #f8f8f2; text-decoration-color: #f8f8f2; background-color: #272822\">max()</span><span style=\"background-color: #272822\">                                                                                 </span>  \n",
       "  <span style=\"color: #f8f8f2; text-decoration-color: #f8f8f2; background-color: #272822\">final_answer(max_value)</span><span style=\"background-color: #272822\">                                                                                        </span>  \n",
       " ───────────────────────────────────────────────────────────────────────────────────────────────────────────────── \n",
       "</pre>\n"
      ],
      "text/plain": [
       " ─ \u001b[1mExecuting parsed code:\u001b[0m ──────────────────────────────────────────────────────────────────────────────────────── \n",
       "  \u001b[38;2;255;70;137;48;2;39;40;34mimport\u001b[0m\u001b[38;2;248;248;242;48;2;39;40;34m \u001b[0m\u001b[38;2;248;248;242;48;2;39;40;34mpandas\u001b[0m\u001b[38;2;248;248;242;48;2;39;40;34m \u001b[0m\u001b[38;2;102;217;239;48;2;39;40;34mas\u001b[0m\u001b[38;2;248;248;242;48;2;39;40;34m \u001b[0m\u001b[38;2;248;248;242;48;2;39;40;34mpd\u001b[0m\u001b[48;2;39;40;34m                                                                                            \u001b[0m  \n",
       "  \u001b[48;2;39;40;34m                                                                                                               \u001b[0m  \n",
       "  \u001b[38;2;149;144;119;48;2;39;40;34m# Construct the DataFrame from the provided data\u001b[0m\u001b[48;2;39;40;34m                                                               \u001b[0m  \n",
       "  \u001b[38;2;248;248;242;48;2;39;40;34mdata_dict\u001b[0m\u001b[38;2;248;248;242;48;2;39;40;34m \u001b[0m\u001b[38;2;255;70;137;48;2;39;40;34m=\u001b[0m\u001b[38;2;248;248;242;48;2;39;40;34m \u001b[0m\u001b[38;2;248;248;242;48;2;39;40;34m{\u001b[0m\u001b[48;2;39;40;34m                                                                                                  \u001b[0m  \n",
       "  \u001b[38;2;248;248;242;48;2;39;40;34m    \u001b[0m\u001b[38;2;230;219;116;48;2;39;40;34m'\u001b[0m\u001b[38;2;230;219;116;48;2;39;40;34mtimestamp\u001b[0m\u001b[38;2;230;219;116;48;2;39;40;34m'\u001b[0m\u001b[38;2;248;248;242;48;2;39;40;34m:\u001b[0m\u001b[38;2;248;248;242;48;2;39;40;34m \u001b[0m\u001b[38;2;248;248;242;48;2;39;40;34m[\u001b[0m\u001b[48;2;39;40;34m                                                                                             \u001b[0m  \n",
       "  \u001b[38;2;248;248;242;48;2;39;40;34m        \u001b[0m\u001b[38;2;230;219;116;48;2;39;40;34m\"\u001b[0m\u001b[38;2;230;219;116;48;2;39;40;34m2025-04-01T00:00:00\u001b[0m\u001b[38;2;230;219;116;48;2;39;40;34m\"\u001b[0m\u001b[38;2;248;248;242;48;2;39;40;34m,\u001b[0m\u001b[38;2;248;248;242;48;2;39;40;34m \u001b[0m\u001b[38;2;230;219;116;48;2;39;40;34m\"\u001b[0m\u001b[38;2;230;219;116;48;2;39;40;34m2025-04-02T00:00:00\u001b[0m\u001b[38;2;230;219;116;48;2;39;40;34m\"\u001b[0m\u001b[38;2;248;248;242;48;2;39;40;34m,\u001b[0m\u001b[38;2;248;248;242;48;2;39;40;34m \u001b[0m\u001b[38;2;230;219;116;48;2;39;40;34m\"\u001b[0m\u001b[38;2;230;219;116;48;2;39;40;34m2025-04-03T00:00:00\u001b[0m\u001b[38;2;230;219;116;48;2;39;40;34m\"\u001b[0m\u001b[38;2;248;248;242;48;2;39;40;34m,\u001b[0m\u001b[48;2;39;40;34m                                   \u001b[0m  \n",
       "  \u001b[38;2;248;248;242;48;2;39;40;34m        \u001b[0m\u001b[38;2;230;219;116;48;2;39;40;34m\"\u001b[0m\u001b[38;2;230;219;116;48;2;39;40;34m2025-04-04T00:00:00\u001b[0m\u001b[38;2;230;219;116;48;2;39;40;34m\"\u001b[0m\u001b[38;2;248;248;242;48;2;39;40;34m,\u001b[0m\u001b[38;2;248;248;242;48;2;39;40;34m \u001b[0m\u001b[38;2;230;219;116;48;2;39;40;34m\"\u001b[0m\u001b[38;2;230;219;116;48;2;39;40;34m2025-04-05T00:00:00\u001b[0m\u001b[38;2;230;219;116;48;2;39;40;34m\"\u001b[0m\u001b[38;2;248;248;242;48;2;39;40;34m,\u001b[0m\u001b[38;2;248;248;242;48;2;39;40;34m \u001b[0m\u001b[38;2;230;219;116;48;2;39;40;34m\"\u001b[0m\u001b[38;2;230;219;116;48;2;39;40;34m2025-04-06T00:00:00\u001b[0m\u001b[38;2;230;219;116;48;2;39;40;34m\"\u001b[0m\u001b[38;2;248;248;242;48;2;39;40;34m,\u001b[0m\u001b[48;2;39;40;34m                                   \u001b[0m  \n",
       "  \u001b[38;2;248;248;242;48;2;39;40;34m        \u001b[0m\u001b[38;2;230;219;116;48;2;39;40;34m\"\u001b[0m\u001b[38;2;230;219;116;48;2;39;40;34m2025-04-07T00:00:00\u001b[0m\u001b[38;2;230;219;116;48;2;39;40;34m\"\u001b[0m\u001b[38;2;248;248;242;48;2;39;40;34m,\u001b[0m\u001b[38;2;248;248;242;48;2;39;40;34m \u001b[0m\u001b[38;2;230;219;116;48;2;39;40;34m\"\u001b[0m\u001b[38;2;230;219;116;48;2;39;40;34m2025-04-08T00:00:00\u001b[0m\u001b[38;2;230;219;116;48;2;39;40;34m\"\u001b[0m\u001b[38;2;248;248;242;48;2;39;40;34m,\u001b[0m\u001b[38;2;248;248;242;48;2;39;40;34m \u001b[0m\u001b[38;2;230;219;116;48;2;39;40;34m\"\u001b[0m\u001b[38;2;230;219;116;48;2;39;40;34m2025-04-09T00:00:00\u001b[0m\u001b[38;2;230;219;116;48;2;39;40;34m\"\u001b[0m\u001b[38;2;248;248;242;48;2;39;40;34m,\u001b[0m\u001b[48;2;39;40;34m                                   \u001b[0m  \n",
       "  \u001b[38;2;248;248;242;48;2;39;40;34m        \u001b[0m\u001b[38;2;230;219;116;48;2;39;40;34m\"\u001b[0m\u001b[38;2;230;219;116;48;2;39;40;34m2025-04-10T00:00:00\u001b[0m\u001b[38;2;230;219;116;48;2;39;40;34m\"\u001b[0m\u001b[38;2;248;248;242;48;2;39;40;34m,\u001b[0m\u001b[38;2;248;248;242;48;2;39;40;34m \u001b[0m\u001b[38;2;230;219;116;48;2;39;40;34m\"\u001b[0m\u001b[38;2;230;219;116;48;2;39;40;34m2025-04-11T00:00:00\u001b[0m\u001b[38;2;230;219;116;48;2;39;40;34m\"\u001b[0m\u001b[38;2;248;248;242;48;2;39;40;34m,\u001b[0m\u001b[38;2;248;248;242;48;2;39;40;34m \u001b[0m\u001b[38;2;230;219;116;48;2;39;40;34m\"\u001b[0m\u001b[38;2;230;219;116;48;2;39;40;34m2025-04-12T00:00:00\u001b[0m\u001b[38;2;230;219;116;48;2;39;40;34m\"\u001b[0m\u001b[38;2;248;248;242;48;2;39;40;34m,\u001b[0m\u001b[48;2;39;40;34m                                   \u001b[0m  \n",
       "  \u001b[38;2;248;248;242;48;2;39;40;34m        \u001b[0m\u001b[38;2;230;219;116;48;2;39;40;34m\"\u001b[0m\u001b[38;2;230;219;116;48;2;39;40;34m2025-04-13T00:00:00\u001b[0m\u001b[38;2;230;219;116;48;2;39;40;34m\"\u001b[0m\u001b[38;2;248;248;242;48;2;39;40;34m,\u001b[0m\u001b[38;2;248;248;242;48;2;39;40;34m \u001b[0m\u001b[38;2;230;219;116;48;2;39;40;34m\"\u001b[0m\u001b[38;2;230;219;116;48;2;39;40;34m2025-04-14T00:00:00\u001b[0m\u001b[38;2;230;219;116;48;2;39;40;34m\"\u001b[0m\u001b[38;2;248;248;242;48;2;39;40;34m,\u001b[0m\u001b[38;2;248;248;242;48;2;39;40;34m \u001b[0m\u001b[38;2;230;219;116;48;2;39;40;34m\"\u001b[0m\u001b[38;2;230;219;116;48;2;39;40;34m2025-04-15T00:00:00\u001b[0m\u001b[38;2;230;219;116;48;2;39;40;34m\"\u001b[0m\u001b[38;2;248;248;242;48;2;39;40;34m,\u001b[0m\u001b[48;2;39;40;34m                                   \u001b[0m  \n",
       "  \u001b[38;2;248;248;242;48;2;39;40;34m        \u001b[0m\u001b[38;2;230;219;116;48;2;39;40;34m\"\u001b[0m\u001b[38;2;230;219;116;48;2;39;40;34m2025-04-16T00:00:00\u001b[0m\u001b[38;2;230;219;116;48;2;39;40;34m\"\u001b[0m\u001b[38;2;248;248;242;48;2;39;40;34m,\u001b[0m\u001b[38;2;248;248;242;48;2;39;40;34m \u001b[0m\u001b[38;2;230;219;116;48;2;39;40;34m\"\u001b[0m\u001b[38;2;230;219;116;48;2;39;40;34m2025-04-17T00:00:00\u001b[0m\u001b[38;2;230;219;116;48;2;39;40;34m\"\u001b[0m\u001b[38;2;248;248;242;48;2;39;40;34m,\u001b[0m\u001b[38;2;248;248;242;48;2;39;40;34m \u001b[0m\u001b[38;2;230;219;116;48;2;39;40;34m\"\u001b[0m\u001b[38;2;230;219;116;48;2;39;40;34m2025-04-18T00:00:00\u001b[0m\u001b[38;2;230;219;116;48;2;39;40;34m\"\u001b[0m\u001b[38;2;248;248;242;48;2;39;40;34m,\u001b[0m\u001b[48;2;39;40;34m                                   \u001b[0m  \n",
       "  \u001b[38;2;248;248;242;48;2;39;40;34m        \u001b[0m\u001b[38;2;230;219;116;48;2;39;40;34m\"\u001b[0m\u001b[38;2;230;219;116;48;2;39;40;34m2025-04-19T00:00:00\u001b[0m\u001b[38;2;230;219;116;48;2;39;40;34m\"\u001b[0m\u001b[38;2;248;248;242;48;2;39;40;34m,\u001b[0m\u001b[38;2;248;248;242;48;2;39;40;34m \u001b[0m\u001b[38;2;230;219;116;48;2;39;40;34m\"\u001b[0m\u001b[38;2;230;219;116;48;2;39;40;34m2025-04-20T00:00:00\u001b[0m\u001b[38;2;230;219;116;48;2;39;40;34m\"\u001b[0m\u001b[38;2;248;248;242;48;2;39;40;34m,\u001b[0m\u001b[38;2;248;248;242;48;2;39;40;34m \u001b[0m\u001b[38;2;230;219;116;48;2;39;40;34m\"\u001b[0m\u001b[38;2;230;219;116;48;2;39;40;34m2025-04-21T00:00:00\u001b[0m\u001b[38;2;230;219;116;48;2;39;40;34m\"\u001b[0m\u001b[38;2;248;248;242;48;2;39;40;34m,\u001b[0m\u001b[48;2;39;40;34m                                   \u001b[0m  \n",
       "  \u001b[38;2;248;248;242;48;2;39;40;34m        \u001b[0m\u001b[38;2;230;219;116;48;2;39;40;34m\"\u001b[0m\u001b[38;2;230;219;116;48;2;39;40;34m2025-04-22T00:00:00\u001b[0m\u001b[38;2;230;219;116;48;2;39;40;34m\"\u001b[0m\u001b[38;2;248;248;242;48;2;39;40;34m,\u001b[0m\u001b[38;2;248;248;242;48;2;39;40;34m \u001b[0m\u001b[38;2;230;219;116;48;2;39;40;34m\"\u001b[0m\u001b[38;2;230;219;116;48;2;39;40;34m2025-04-23T00:00:00\u001b[0m\u001b[38;2;230;219;116;48;2;39;40;34m\"\u001b[0m\u001b[38;2;248;248;242;48;2;39;40;34m,\u001b[0m\u001b[38;2;248;248;242;48;2;39;40;34m \u001b[0m\u001b[38;2;230;219;116;48;2;39;40;34m\"\u001b[0m\u001b[38;2;230;219;116;48;2;39;40;34m2025-04-24T00:00:00\u001b[0m\u001b[38;2;230;219;116;48;2;39;40;34m\"\u001b[0m\u001b[38;2;248;248;242;48;2;39;40;34m,\u001b[0m\u001b[48;2;39;40;34m                                   \u001b[0m  \n",
       "  \u001b[38;2;248;248;242;48;2;39;40;34m        \u001b[0m\u001b[38;2;230;219;116;48;2;39;40;34m\"\u001b[0m\u001b[38;2;230;219;116;48;2;39;40;34m2025-04-25T00:00:00\u001b[0m\u001b[38;2;230;219;116;48;2;39;40;34m\"\u001b[0m\u001b[38;2;248;248;242;48;2;39;40;34m,\u001b[0m\u001b[38;2;248;248;242;48;2;39;40;34m \u001b[0m\u001b[38;2;230;219;116;48;2;39;40;34m\"\u001b[0m\u001b[38;2;230;219;116;48;2;39;40;34m2025-04-26T00:00:00\u001b[0m\u001b[38;2;230;219;116;48;2;39;40;34m\"\u001b[0m\u001b[38;2;248;248;242;48;2;39;40;34m,\u001b[0m\u001b[38;2;248;248;242;48;2;39;40;34m \u001b[0m\u001b[38;2;230;219;116;48;2;39;40;34m\"\u001b[0m\u001b[38;2;230;219;116;48;2;39;40;34m2025-04-27T00:00:00\u001b[0m\u001b[38;2;230;219;116;48;2;39;40;34m\"\u001b[0m\u001b[38;2;248;248;242;48;2;39;40;34m,\u001b[0m\u001b[48;2;39;40;34m                                   \u001b[0m  \n",
       "  \u001b[38;2;248;248;242;48;2;39;40;34m        \u001b[0m\u001b[38;2;230;219;116;48;2;39;40;34m\"\u001b[0m\u001b[38;2;230;219;116;48;2;39;40;34m2025-04-28T00:00:00\u001b[0m\u001b[38;2;230;219;116;48;2;39;40;34m\"\u001b[0m\u001b[38;2;248;248;242;48;2;39;40;34m,\u001b[0m\u001b[38;2;248;248;242;48;2;39;40;34m \u001b[0m\u001b[38;2;230;219;116;48;2;39;40;34m\"\u001b[0m\u001b[38;2;230;219;116;48;2;39;40;34m2025-04-29T00:00:00\u001b[0m\u001b[38;2;230;219;116;48;2;39;40;34m\"\u001b[0m\u001b[38;2;248;248;242;48;2;39;40;34m,\u001b[0m\u001b[38;2;248;248;242;48;2;39;40;34m \u001b[0m\u001b[38;2;230;219;116;48;2;39;40;34m\"\u001b[0m\u001b[38;2;230;219;116;48;2;39;40;34m2025-04-30T00:00:00\u001b[0m\u001b[38;2;230;219;116;48;2;39;40;34m\"\u001b[0m\u001b[38;2;248;248;242;48;2;39;40;34m]\u001b[0m\u001b[38;2;248;248;242;48;2;39;40;34m,\u001b[0m\u001b[48;2;39;40;34m                                  \u001b[0m  \n",
       "  \u001b[38;2;248;248;242;48;2;39;40;34m    \u001b[0m\u001b[38;2;230;219;116;48;2;39;40;34m'\u001b[0m\u001b[38;2;230;219;116;48;2;39;40;34mvalues\u001b[0m\u001b[38;2;230;219;116;48;2;39;40;34m'\u001b[0m\u001b[38;2;248;248;242;48;2;39;40;34m:\u001b[0m\u001b[38;2;248;248;242;48;2;39;40;34m \u001b[0m\u001b[38;2;248;248;242;48;2;39;40;34m[\u001b[0m\u001b[48;2;39;40;34m                                                                                                \u001b[0m  \n",
       "  \u001b[38;2;248;248;242;48;2;39;40;34m        \u001b[0m\u001b[38;2;174;129;255;48;2;39;40;34m1.588889\u001b[0m\u001b[38;2;248;248;242;48;2;39;40;34m,\u001b[0m\u001b[38;2;248;248;242;48;2;39;40;34m \u001b[0m\u001b[38;2;174;129;255;48;2;39;40;34m1.556674\u001b[0m\u001b[38;2;248;248;242;48;2;39;40;34m,\u001b[0m\u001b[38;2;248;248;242;48;2;39;40;34m \u001b[0m\u001b[38;2;174;129;255;48;2;39;40;34m1.458451\u001b[0m\u001b[38;2;248;248;242;48;2;39;40;34m,\u001b[0m\u001b[38;2;248;248;242;48;2;39;40;34m \u001b[0m\u001b[38;2;174;129;255;48;2;39;40;34m1.481194\u001b[0m\u001b[38;2;248;248;242;48;2;39;40;34m,\u001b[0m\u001b[38;2;248;248;242;48;2;39;40;34m \u001b[0m\u001b[38;2;174;129;255;48;2;39;40;34m1.378924\u001b[0m\u001b[38;2;248;248;242;48;2;39;40;34m,\u001b[0m\u001b[38;2;248;248;242;48;2;39;40;34m \u001b[0m\u001b[38;2;174;129;255;48;2;39;40;34m1.267590\u001b[0m\u001b[38;2;248;248;242;48;2;39;40;34m,\u001b[0m\u001b[38;2;248;248;242;48;2;39;40;34m \u001b[0m\u001b[38;2;174;129;255;48;2;39;40;34m1.261139\u001b[0m\u001b[38;2;248;248;242;48;2;39;40;34m,\u001b[0m\u001b[48;2;39;40;34m                                  \u001b[0m  \n",
       "  \u001b[38;2;248;248;242;48;2;39;40;34m        \u001b[0m\u001b[38;2;174;129;255;48;2;39;40;34m1.290472\u001b[0m\u001b[38;2;248;248;242;48;2;39;40;34m,\u001b[0m\u001b[38;2;248;248;242;48;2;39;40;34m \u001b[0m\u001b[38;2;174;129;255;48;2;39;40;34m1.241875\u001b[0m\u001b[38;2;248;248;242;48;2;39;40;34m,\u001b[0m\u001b[38;2;248;248;242;48;2;39;40;34m \u001b[0m\u001b[38;2;174;129;255;48;2;39;40;34m1.178278\u001b[0m\u001b[38;2;248;248;242;48;2;39;40;34m,\u001b[0m\u001b[38;2;248;248;242;48;2;39;40;34m \u001b[0m\u001b[38;2;174;129;255;48;2;39;40;34m1.025847\u001b[0m\u001b[38;2;248;248;242;48;2;39;40;34m,\u001b[0m\u001b[38;2;248;248;242;48;2;39;40;34m \u001b[0m\u001b[38;2;174;129;255;48;2;39;40;34m1.014632\u001b[0m\u001b[38;2;248;248;242;48;2;39;40;34m,\u001b[0m\u001b[38;2;248;248;242;48;2;39;40;34m \u001b[0m\u001b[38;2;174;129;255;48;2;39;40;34m0.948687\u001b[0m\u001b[38;2;248;248;242;48;2;39;40;34m,\u001b[0m\u001b[38;2;248;248;242;48;2;39;40;34m \u001b[0m\u001b[38;2;174;129;255;48;2;39;40;34m0.888639\u001b[0m\u001b[38;2;248;248;242;48;2;39;40;34m,\u001b[0m\u001b[48;2;39;40;34m                                  \u001b[0m  \n",
       "  \u001b[38;2;248;248;242;48;2;39;40;34m        \u001b[0m\u001b[38;2;174;129;255;48;2;39;40;34m0.945736\u001b[0m\u001b[38;2;248;248;242;48;2;39;40;34m,\u001b[0m\u001b[38;2;248;248;242;48;2;39;40;34m \u001b[0m\u001b[38;2;174;129;255;48;2;39;40;34m0.842243\u001b[0m\u001b[38;2;248;248;242;48;2;39;40;34m,\u001b[0m\u001b[38;2;248;248;242;48;2;39;40;34m \u001b[0m\u001b[38;2;174;129;255;48;2;39;40;34m0.785375\u001b[0m\u001b[38;2;248;248;242;48;2;39;40;34m,\u001b[0m\u001b[38;2;248;248;242;48;2;39;40;34m \u001b[0m\u001b[38;2;174;129;255;48;2;39;40;34m0.804521\u001b[0m\u001b[38;2;248;248;242;48;2;39;40;34m,\u001b[0m\u001b[38;2;248;248;242;48;2;39;40;34m \u001b[0m\u001b[38;2;174;129;255;48;2;39;40;34m0.783035\u001b[0m\u001b[38;2;248;248;242;48;2;39;40;34m,\u001b[0m\u001b[38;2;248;248;242;48;2;39;40;34m \u001b[0m\u001b[38;2;174;129;255;48;2;39;40;34m0.699667\u001b[0m\u001b[38;2;248;248;242;48;2;39;40;34m,\u001b[0m\u001b[38;2;248;248;242;48;2;39;40;34m \u001b[0m\u001b[38;2;174;129;255;48;2;39;40;34m0.635833\u001b[0m\u001b[38;2;248;248;242;48;2;39;40;34m,\u001b[0m\u001b[48;2;39;40;34m                                  \u001b[0m  \n",
       "  \u001b[38;2;248;248;242;48;2;39;40;34m        \u001b[0m\u001b[38;2;174;129;255;48;2;39;40;34m0.625757\u001b[0m\u001b[38;2;248;248;242;48;2;39;40;34m,\u001b[0m\u001b[38;2;248;248;242;48;2;39;40;34m \u001b[0m\u001b[38;2;174;129;255;48;2;39;40;34m0.619875\u001b[0m\u001b[38;2;248;248;242;48;2;39;40;34m,\u001b[0m\u001b[38;2;248;248;242;48;2;39;40;34m \u001b[0m\u001b[38;2;174;129;255;48;2;39;40;34m0.515604\u001b[0m\u001b[38;2;248;248;242;48;2;39;40;34m,\u001b[0m\u001b[38;2;248;248;242;48;2;39;40;34m \u001b[0m\u001b[38;2;174;129;255;48;2;39;40;34m0.608785\u001b[0m\u001b[38;2;248;248;242;48;2;39;40;34m,\u001b[0m\u001b[38;2;248;248;242;48;2;39;40;34m \u001b[0m\u001b[38;2;174;129;255;48;2;39;40;34m0.500250\u001b[0m\u001b[38;2;248;248;242;48;2;39;40;34m,\u001b[0m\u001b[38;2;248;248;242;48;2;39;40;34m \u001b[0m\u001b[38;2;174;129;255;48;2;39;40;34m0.435174\u001b[0m\u001b[38;2;248;248;242;48;2;39;40;34m,\u001b[0m\u001b[38;2;248;248;242;48;2;39;40;34m \u001b[0m\u001b[38;2;174;129;255;48;2;39;40;34m0.363062\u001b[0m\u001b[38;2;248;248;242;48;2;39;40;34m,\u001b[0m\u001b[48;2;39;40;34m                                  \u001b[0m  \n",
       "  \u001b[38;2;248;248;242;48;2;39;40;34m        \u001b[0m\u001b[38;2;174;129;255;48;2;39;40;34m0.378806\u001b[0m\u001b[38;2;248;248;242;48;2;39;40;34m,\u001b[0m\u001b[38;2;248;248;242;48;2;39;40;34m \u001b[0m\u001b[38;2;174;129;255;48;2;39;40;34m0.355576\u001b[0m\u001b[38;2;248;248;242;48;2;39;40;34m]\u001b[0m\u001b[48;2;39;40;34m                                                                                    \u001b[0m  \n",
       "  \u001b[38;2;248;248;242;48;2;39;40;34m}\u001b[0m\u001b[48;2;39;40;34m                                                                                                              \u001b[0m  \n",
       "  \u001b[48;2;39;40;34m                                                                                                               \u001b[0m  \n",
       "  \u001b[38;2;248;248;242;48;2;39;40;34mdf\u001b[0m\u001b[38;2;248;248;242;48;2;39;40;34m \u001b[0m\u001b[38;2;255;70;137;48;2;39;40;34m=\u001b[0m\u001b[38;2;248;248;242;48;2;39;40;34m \u001b[0m\u001b[38;2;248;248;242;48;2;39;40;34mpd\u001b[0m\u001b[38;2;255;70;137;48;2;39;40;34m.\u001b[0m\u001b[38;2;248;248;242;48;2;39;40;34mDataFrame\u001b[0m\u001b[38;2;248;248;242;48;2;39;40;34m(\u001b[0m\u001b[38;2;248;248;242;48;2;39;40;34mdata_dict\u001b[0m\u001b[38;2;248;248;242;48;2;39;40;34m)\u001b[0m\u001b[48;2;39;40;34m                                                                                   \u001b[0m  \n",
       "  \u001b[38;2;248;248;242;48;2;39;40;34mdf\u001b[0m\u001b[38;2;248;248;242;48;2;39;40;34m[\u001b[0m\u001b[38;2;230;219;116;48;2;39;40;34m'\u001b[0m\u001b[38;2;230;219;116;48;2;39;40;34mtimestamp\u001b[0m\u001b[38;2;230;219;116;48;2;39;40;34m'\u001b[0m\u001b[38;2;248;248;242;48;2;39;40;34m]\u001b[0m\u001b[38;2;248;248;242;48;2;39;40;34m \u001b[0m\u001b[38;2;255;70;137;48;2;39;40;34m=\u001b[0m\u001b[38;2;248;248;242;48;2;39;40;34m \u001b[0m\u001b[38;2;248;248;242;48;2;39;40;34mpd\u001b[0m\u001b[38;2;255;70;137;48;2;39;40;34m.\u001b[0m\u001b[38;2;248;248;242;48;2;39;40;34mto_datetime\u001b[0m\u001b[38;2;248;248;242;48;2;39;40;34m(\u001b[0m\u001b[38;2;248;248;242;48;2;39;40;34mdf\u001b[0m\u001b[38;2;248;248;242;48;2;39;40;34m[\u001b[0m\u001b[38;2;230;219;116;48;2;39;40;34m'\u001b[0m\u001b[38;2;230;219;116;48;2;39;40;34mtimestamp\u001b[0m\u001b[38;2;230;219;116;48;2;39;40;34m'\u001b[0m\u001b[38;2;248;248;242;48;2;39;40;34m]\u001b[0m\u001b[38;2;248;248;242;48;2;39;40;34m)\u001b[0m\u001b[48;2;39;40;34m                                                              \u001b[0m  \n",
       "  \u001b[48;2;39;40;34m                                                                                                               \u001b[0m  \n",
       "  \u001b[38;2;149;144;119;48;2;39;40;34m# Calculate the maximum value\u001b[0m\u001b[48;2;39;40;34m                                                                                  \u001b[0m  \n",
       "  \u001b[38;2;248;248;242;48;2;39;40;34mmax_value\u001b[0m\u001b[38;2;248;248;242;48;2;39;40;34m \u001b[0m\u001b[38;2;255;70;137;48;2;39;40;34m=\u001b[0m\u001b[38;2;248;248;242;48;2;39;40;34m \u001b[0m\u001b[38;2;248;248;242;48;2;39;40;34mdf\u001b[0m\u001b[38;2;248;248;242;48;2;39;40;34m[\u001b[0m\u001b[38;2;230;219;116;48;2;39;40;34m'\u001b[0m\u001b[38;2;230;219;116;48;2;39;40;34mvalues\u001b[0m\u001b[38;2;230;219;116;48;2;39;40;34m'\u001b[0m\u001b[38;2;248;248;242;48;2;39;40;34m]\u001b[0m\u001b[38;2;255;70;137;48;2;39;40;34m.\u001b[0m\u001b[38;2;248;248;242;48;2;39;40;34mmax\u001b[0m\u001b[38;2;248;248;242;48;2;39;40;34m(\u001b[0m\u001b[38;2;248;248;242;48;2;39;40;34m)\u001b[0m\u001b[48;2;39;40;34m                                                                                 \u001b[0m  \n",
       "  \u001b[38;2;248;248;242;48;2;39;40;34mfinal_answer\u001b[0m\u001b[38;2;248;248;242;48;2;39;40;34m(\u001b[0m\u001b[38;2;248;248;242;48;2;39;40;34mmax_value\u001b[0m\u001b[38;2;248;248;242;48;2;39;40;34m)\u001b[0m\u001b[48;2;39;40;34m                                                                                        \u001b[0m  \n",
       " ───────────────────────────────────────────────────────────────────────────────────────────────────────────────── \n"
      ]
     },
     "metadata": {},
     "output_type": "display_data"
    },
    {
     "data": {
      "text/html": [
       "<pre style=\"white-space:pre;overflow-x:auto;line-height:normal;font-family:Menlo,'DejaVu Sans Mono',consolas,'Courier New',monospace\"><span style=\"color: #d4b702; text-decoration-color: #d4b702; font-weight: bold\">Out - Final answer: 1.588889</span>\n",
       "</pre>\n"
      ],
      "text/plain": [
       "\u001b[1;38;2;212;183;2mOut - Final answer: 1.588889\u001b[0m\n"
      ]
     },
     "metadata": {},
     "output_type": "display_data"
    },
    {
     "data": {
      "text/html": [
       "<pre style=\"white-space:pre;overflow-x:auto;line-height:normal;font-family:Menlo,'DejaVu Sans Mono',consolas,'Courier New',monospace\"><span style=\"color: #7f7f7f; text-decoration-color: #7f7f7f\">[Step 3: Duration 9.47 seconds| Input tokens: 7,240 | Output tokens: 999]</span>\n",
       "</pre>\n"
      ],
      "text/plain": [
       "\u001b[2m[Step 3: Duration 9.47 seconds| Input tokens: 7,240 | Output tokens: 999]\u001b[0m\n"
      ]
     },
     "metadata": {},
     "output_type": "display_data"
    }
   ],
   "source": [
    "result = agent.run(\"What is the daily maximum value of PI-P0017 in April 2025?\")"
   ]
  },
  {
   "cell_type": "code",
   "execution_count": null,
   "id": "efb1e0d4-dd79-4f75-a248-592bc6cf7241",
   "metadata": {},
   "outputs": [],
   "source": []
  },
  {
   "cell_type": "markdown",
   "id": "d45f5c1d-8bd4-48d8-842d-deefd785af65",
   "metadata": {},
   "source": [
    "## Tests"
   ]
  },
  {
   "cell_type": "code",
   "execution_count": 10,
   "id": "585ba5e6-fbd3-4322-a9e4-a75320fd2ae1",
   "metadata": {},
   "outputs": [],
   "source": [
    "tasks = [\n",
    "    \"Can you compare PI-P0017 and PI-P0016 for the first 10 days in 2025?\",\n",
    "    \"What assets are next to asset BA100?\",\n",
    "    \"Can you create a plot for the adjacent sensors of asset BA101 for 1st January 2025?\",\n",
    "    \"What is the id of TI-T0022?\",\n",
    "    \"What is the name of asset id c831fadb-d620-4007-bdda-4593038c87f9?\",\n",
    "    \"Can you provide me the highest value for June 2025 for TI-T0022?\"\n",
    "]"
   ]
  },
  {
   "cell_type": "code",
   "execution_count": null,
   "id": "d0984f61-6b93-451c-8c0a-6c4547d24337",
   "metadata": {},
   "outputs": [],
   "source": [
    "result = agent.run(tasks[0])"
   ]
  },
  {
   "cell_type": "code",
   "execution_count": null,
   "id": "285574e8-07cb-45a7-a822-dd9ccffaafb1",
   "metadata": {},
   "outputs": [],
   "source": []
  },
  {
   "cell_type": "code",
   "execution_count": null,
   "id": "32a20911-7989-4316-96ee-cf9ecac518f5",
   "metadata": {},
   "outputs": [],
   "source": [
    "result = agent.run(tasks[1])"
   ]
  },
  {
   "cell_type": "code",
   "execution_count": null,
   "id": "eb5fd43f-2823-4e62-aa22-c0db791bf95e",
   "metadata": {},
   "outputs": [],
   "source": []
  },
  {
   "cell_type": "code",
   "execution_count": 11,
   "id": "50848469-ca2e-471e-86dc-1b8821272437",
   "metadata": {},
   "outputs": [
    {
     "data": {
      "text/html": [
       "<pre style=\"white-space:pre;overflow-x:auto;line-height:normal;font-family:Menlo,'DejaVu Sans Mono',consolas,'Courier New',monospace\"><span style=\"color: #d4b702; text-decoration-color: #d4b702\">╭──────────────────────────────────────────────────── </span><span style=\"color: #d4b702; text-decoration-color: #d4b702; font-weight: bold\">New run</span><span style=\"color: #d4b702; text-decoration-color: #d4b702\"> ────────────────────────────────────────────────────╮</span>\n",
       "<span style=\"color: #d4b702; text-decoration-color: #d4b702\">│</span>                                                                                                                 <span style=\"color: #d4b702; text-decoration-color: #d4b702\">│</span>\n",
       "<span style=\"color: #d4b702; text-decoration-color: #d4b702\">│</span> <span style=\"font-weight: bold\">Can you create a plot for the adjacent sensors of asset BA101 for 1st January 2025?</span>                             <span style=\"color: #d4b702; text-decoration-color: #d4b702\">│</span>\n",
       "<span style=\"color: #d4b702; text-decoration-color: #d4b702\">│</span>                                                                                                                 <span style=\"color: #d4b702; text-decoration-color: #d4b702\">│</span>\n",
       "<span style=\"color: #d4b702; text-decoration-color: #d4b702\">╰─ LiteLLMModel - gpt-4o ─────────────────────────────────────────────────────────────────────────────────────────╯</span>\n",
       "</pre>\n"
      ],
      "text/plain": [
       "\u001b[38;2;212;183;2m╭─\u001b[0m\u001b[38;2;212;183;2m───────────────────────────────────────────────────\u001b[0m\u001b[38;2;212;183;2m \u001b[0m\u001b[1;38;2;212;183;2mNew run\u001b[0m\u001b[38;2;212;183;2m \u001b[0m\u001b[38;2;212;183;2m───────────────────────────────────────────────────\u001b[0m\u001b[38;2;212;183;2m─╮\u001b[0m\n",
       "\u001b[38;2;212;183;2m│\u001b[0m                                                                                                                 \u001b[38;2;212;183;2m│\u001b[0m\n",
       "\u001b[38;2;212;183;2m│\u001b[0m \u001b[1mCan you create a plot for the adjacent sensors of asset BA101 for 1st January 2025?\u001b[0m                             \u001b[38;2;212;183;2m│\u001b[0m\n",
       "\u001b[38;2;212;183;2m│\u001b[0m                                                                                                                 \u001b[38;2;212;183;2m│\u001b[0m\n",
       "\u001b[38;2;212;183;2m╰─\u001b[0m\u001b[38;2;212;183;2m LiteLLMModel - gpt-4o \u001b[0m\u001b[38;2;212;183;2m────────────────────────────────────────────────────────────────────────────────────────\u001b[0m\u001b[38;2;212;183;2m─╯\u001b[0m\n"
      ]
     },
     "metadata": {},
     "output_type": "display_data"
    },
    {
     "data": {
      "text/html": [
       "<pre style=\"white-space:pre;overflow-x:auto;line-height:normal;font-family:Menlo,'DejaVu Sans Mono',consolas,'Courier New',monospace\"><span style=\"color: #d4b702; text-decoration-color: #d4b702\">━━━━━━━━━━━━━━━━━━━━━━━━━━━━━━━━━━━━━━━━━━━━━━━━━━━━━ </span><span style=\"font-weight: bold\">Step </span><span style=\"color: #008080; text-decoration-color: #008080; font-weight: bold\">1</span><span style=\"color: #d4b702; text-decoration-color: #d4b702\"> ━━━━━━━━━━━━━━━━━━━━━━━━━━━━━━━━━━━━━━━━━━━━━━━━━━━━━━</span>\n",
       "</pre>\n"
      ],
      "text/plain": [
       "\u001b[38;2;212;183;2m━━━━━━━━━━━━━━━━━━━━━━━━━━━━━━━━━━━━━━━━━━━━━━━━━━━━━ \u001b[0m\u001b[1mStep \u001b[0m\u001b[1;36m1\u001b[0m\u001b[38;2;212;183;2m ━━━━━━━━━━━━━━━━━━━━━━━━━━━━━━━━━━━━━━━━━━━━━━━━━━━━━━\u001b[0m\n"
      ]
     },
     "metadata": {},
     "output_type": "display_data"
    },
    {
     "data": {
      "application/vnd.jupyter.widget-view+json": {
       "model_id": "f7fd899190b44f8b85911da7dabc5961",
       "version_major": 2,
       "version_minor": 0
      },
      "text/plain": [
       "Output()"
      ]
     },
     "metadata": {},
     "output_type": "display_data"
    },
    {
     "data": {
      "text/html": [
       "<pre style=\"white-space:pre;overflow-x:auto;line-height:normal;font-family:Menlo,'DejaVu Sans Mono',consolas,'Courier New',monospace\"></pre>\n"
      ],
      "text/plain": []
     },
     "metadata": {},
     "output_type": "display_data"
    },
    {
     "data": {
      "text/html": [
       "<pre style=\"white-space:pre;overflow-x:auto;line-height:normal;font-family:Menlo,'DejaVu Sans Mono',consolas,'Courier New',monospace\"> ─ <span style=\"font-weight: bold\">Executing parsed code:</span> ──────────────────────────────────────────────────────────────────────────────────────── \n",
       "  <span style=\"color: #f8f8f2; text-decoration-color: #f8f8f2; background-color: #272822\">out </span><span style=\"color: #ff4689; text-decoration-color: #ff4689; background-color: #272822\">=</span><span style=\"color: #f8f8f2; text-decoration-color: #f8f8f2; background-color: #272822\"> name_to_id([</span><span style=\"color: #e6db74; text-decoration-color: #e6db74; background-color: #272822\">\"BA101\"</span><span style=\"color: #f8f8f2; text-decoration-color: #f8f8f2; background-color: #272822\">])</span><span style=\"background-color: #272822\">                                                                                    </span>  \n",
       "  <span style=\"color: #f8f8f2; text-decoration-color: #f8f8f2; background-color: #272822\">print(out)</span><span style=\"background-color: #272822\">                                                                                                     </span>  \n",
       " ───────────────────────────────────────────────────────────────────────────────────────────────────────────────── \n",
       "</pre>\n"
      ],
      "text/plain": [
       " ─ \u001b[1mExecuting parsed code:\u001b[0m ──────────────────────────────────────────────────────────────────────────────────────── \n",
       "  \u001b[38;2;248;248;242;48;2;39;40;34mout\u001b[0m\u001b[38;2;248;248;242;48;2;39;40;34m \u001b[0m\u001b[38;2;255;70;137;48;2;39;40;34m=\u001b[0m\u001b[38;2;248;248;242;48;2;39;40;34m \u001b[0m\u001b[38;2;248;248;242;48;2;39;40;34mname_to_id\u001b[0m\u001b[38;2;248;248;242;48;2;39;40;34m(\u001b[0m\u001b[38;2;248;248;242;48;2;39;40;34m[\u001b[0m\u001b[38;2;230;219;116;48;2;39;40;34m\"\u001b[0m\u001b[38;2;230;219;116;48;2;39;40;34mBA101\u001b[0m\u001b[38;2;230;219;116;48;2;39;40;34m\"\u001b[0m\u001b[38;2;248;248;242;48;2;39;40;34m]\u001b[0m\u001b[38;2;248;248;242;48;2;39;40;34m)\u001b[0m\u001b[48;2;39;40;34m                                                                                    \u001b[0m  \n",
       "  \u001b[38;2;248;248;242;48;2;39;40;34mprint\u001b[0m\u001b[38;2;248;248;242;48;2;39;40;34m(\u001b[0m\u001b[38;2;248;248;242;48;2;39;40;34mout\u001b[0m\u001b[38;2;248;248;242;48;2;39;40;34m)\u001b[0m\u001b[48;2;39;40;34m                                                                                                     \u001b[0m  \n",
       " ───────────────────────────────────────────────────────────────────────────────────────────────────────────────── \n"
      ]
     },
     "metadata": {},
     "output_type": "display_data"
    },
    {
     "name": "stderr",
     "output_type": "stream",
     "text": [
      "\u001b[32m2025-05-14 21:21:27.209\u001b[0m | \u001b[1mINFO    \u001b[0m | \u001b[36msrc.agent.adapters.tools.base\u001b[0m:\u001b[36mcall_api\u001b[0m:\u001b[36m74\u001b[0m - \u001b[1mFetching data from http://localhost:5050/v1/id_from_name/BA101 with params: {'offset': 0, 'limit': 100}\u001b[0m\n",
      "\u001b[32m2025-05-14 21:21:27.245\u001b[0m | \u001b[1mINFO    \u001b[0m | \u001b[36msrc.agent.adapters.tools.base\u001b[0m:\u001b[36mcall_api\u001b[0m:\u001b[36m88\u001b[0m - \u001b[1mReached the last page.\u001b[0m\n"
     ]
    },
    {
     "data": {
      "text/html": [
       "<pre style=\"white-space:pre;overflow-x:auto;line-height:normal;font-family:Menlo,'DejaVu Sans Mono',consolas,'Courier New',monospace\"><span style=\"font-weight: bold\">Execution logs:</span>\n",
       "{'asset_ids': ['df5361a1-37b0-4860-b3ef-81a3fe5d624f']}\n",
       "\n",
       "Out: None\n",
       "</pre>\n"
      ],
      "text/plain": [
       "\u001b[1mExecution logs:\u001b[0m\n",
       "{'asset_ids': ['df5361a1-37b0-4860-b3ef-81a3fe5d624f']}\n",
       "\n",
       "Out: None\n"
      ]
     },
     "metadata": {},
     "output_type": "display_data"
    },
    {
     "data": {
      "text/html": [
       "<pre style=\"white-space:pre;overflow-x:auto;line-height:normal;font-family:Menlo,'DejaVu Sans Mono',consolas,'Courier New',monospace\"><span style=\"color: #7f7f7f; text-decoration-color: #7f7f7f\">[Step 1: Duration 2.38 seconds| Input tokens: 1,965 | Output tokens: 73]</span>\n",
       "</pre>\n"
      ],
      "text/plain": [
       "\u001b[2m[Step 1: Duration 2.38 seconds| Input tokens: 1,965 | Output tokens: 73]\u001b[0m\n"
      ]
     },
     "metadata": {},
     "output_type": "display_data"
    },
    {
     "data": {
      "text/html": [
       "<pre style=\"white-space:pre;overflow-x:auto;line-height:normal;font-family:Menlo,'DejaVu Sans Mono',consolas,'Courier New',monospace\"><span style=\"color: #d4b702; text-decoration-color: #d4b702\">━━━━━━━━━━━━━━━━━━━━━━━━━━━━━━━━━━━━━━━━━━━━━━━━━━━━━ </span><span style=\"font-weight: bold\">Step </span><span style=\"color: #008080; text-decoration-color: #008080; font-weight: bold\">2</span><span style=\"color: #d4b702; text-decoration-color: #d4b702\"> ━━━━━━━━━━━━━━━━━━━━━━━━━━━━━━━━━━━━━━━━━━━━━━━━━━━━━━</span>\n",
       "</pre>\n"
      ],
      "text/plain": [
       "\u001b[38;2;212;183;2m━━━━━━━━━━━━━━━━━━━━━━━━━━━━━━━━━━━━━━━━━━━━━━━━━━━━━ \u001b[0m\u001b[1mStep \u001b[0m\u001b[1;36m2\u001b[0m\u001b[38;2;212;183;2m ━━━━━━━━━━━━━━━━━━━━━━━━━━━━━━━━━━━━━━━━━━━━━━━━━━━━━━\u001b[0m\n"
      ]
     },
     "metadata": {},
     "output_type": "display_data"
    },
    {
     "data": {
      "application/vnd.jupyter.widget-view+json": {
       "model_id": "f6115099cd6f4710bb6f22749b7f3397",
       "version_major": 2,
       "version_minor": 0
      },
      "text/plain": [
       "Output()"
      ]
     },
     "metadata": {},
     "output_type": "display_data"
    },
    {
     "data": {
      "text/html": [
       "<pre style=\"white-space:pre;overflow-x:auto;line-height:normal;font-family:Menlo,'DejaVu Sans Mono',consolas,'Courier New',monospace\"></pre>\n"
      ],
      "text/plain": []
     },
     "metadata": {},
     "output_type": "display_data"
    },
    {
     "data": {
      "text/html": [
       "<pre style=\"white-space:pre;overflow-x:auto;line-height:normal;font-family:Menlo,'DejaVu Sans Mono',consolas,'Courier New',monospace\"> ─ <span style=\"font-weight: bold\">Executing parsed code:</span> ──────────────────────────────────────────────────────────────────────────────────────── \n",
       "  <span style=\"color: #f8f8f2; text-decoration-color: #f8f8f2; background-color: #272822\">neighbor_ids </span><span style=\"color: #ff4689; text-decoration-color: #ff4689; background-color: #272822\">=</span><span style=\"color: #f8f8f2; text-decoration-color: #f8f8f2; background-color: #272822\"> get_neighbors([</span><span style=\"color: #e6db74; text-decoration-color: #e6db74; background-color: #272822\">'df5361a1-37b0-4860-b3ef-81a3fe5d624f'</span><span style=\"color: #f8f8f2; text-decoration-color: #f8f8f2; background-color: #272822\">])</span><span style=\"background-color: #272822\">                                         </span>  \n",
       "  <span style=\"color: #f8f8f2; text-decoration-color: #f8f8f2; background-color: #272822\">print(neighbor_ids)</span><span style=\"background-color: #272822\">                                                                                            </span>  \n",
       " ───────────────────────────────────────────────────────────────────────────────────────────────────────────────── \n",
       "</pre>\n"
      ],
      "text/plain": [
       " ─ \u001b[1mExecuting parsed code:\u001b[0m ──────────────────────────────────────────────────────────────────────────────────────── \n",
       "  \u001b[38;2;248;248;242;48;2;39;40;34mneighbor_ids\u001b[0m\u001b[38;2;248;248;242;48;2;39;40;34m \u001b[0m\u001b[38;2;255;70;137;48;2;39;40;34m=\u001b[0m\u001b[38;2;248;248;242;48;2;39;40;34m \u001b[0m\u001b[38;2;248;248;242;48;2;39;40;34mget_neighbors\u001b[0m\u001b[38;2;248;248;242;48;2;39;40;34m(\u001b[0m\u001b[38;2;248;248;242;48;2;39;40;34m[\u001b[0m\u001b[38;2;230;219;116;48;2;39;40;34m'\u001b[0m\u001b[38;2;230;219;116;48;2;39;40;34mdf5361a1-37b0-4860-b3ef-81a3fe5d624f\u001b[0m\u001b[38;2;230;219;116;48;2;39;40;34m'\u001b[0m\u001b[38;2;248;248;242;48;2;39;40;34m]\u001b[0m\u001b[38;2;248;248;242;48;2;39;40;34m)\u001b[0m\u001b[48;2;39;40;34m                                         \u001b[0m  \n",
       "  \u001b[38;2;248;248;242;48;2;39;40;34mprint\u001b[0m\u001b[38;2;248;248;242;48;2;39;40;34m(\u001b[0m\u001b[38;2;248;248;242;48;2;39;40;34mneighbor_ids\u001b[0m\u001b[38;2;248;248;242;48;2;39;40;34m)\u001b[0m\u001b[48;2;39;40;34m                                                                                            \u001b[0m  \n",
       " ───────────────────────────────────────────────────────────────────────────────────────────────────────────────── \n"
      ]
     },
     "metadata": {},
     "output_type": "display_data"
    },
    {
     "name": "stderr",
     "output_type": "stream",
     "text": [
      "\u001b[32m2025-05-14 21:21:29.633\u001b[0m | \u001b[1mINFO    \u001b[0m | \u001b[36msrc.agent.adapters.tools.base\u001b[0m:\u001b[36mcall_api\u001b[0m:\u001b[36m74\u001b[0m - \u001b[1mFetching data from http://localhost:5050/v1/neighbor/df5361a1-37b0-4860-b3ef-81a3fe5d624f with params: {'offset': 0, 'limit': 100}\u001b[0m\n",
      "\u001b[32m2025-05-14 21:21:29.665\u001b[0m | \u001b[1mINFO    \u001b[0m | \u001b[36msrc.agent.adapters.tools.base\u001b[0m:\u001b[36mcall_api\u001b[0m:\u001b[36m88\u001b[0m - \u001b[1mReached the last page.\u001b[0m\n"
     ]
    },
    {
     "data": {
      "text/html": [
       "<pre style=\"white-space:pre;overflow-x:auto;line-height:normal;font-family:Menlo,'DejaVu Sans Mono',consolas,'Courier New',monospace\"><span style=\"font-weight: bold\">Execution logs:</span>\n",
       "{'asset_ids': ['91c0992d-8db1-4803-82a9-b2319d459f16', 'd656698b-95a8-4e6b-a220-ead9ce1ed7bd', \n",
       "'b6044032-31a5-4027-b163-5bc329e5ccb5', '5c622939-718f-4ca2-93dd-c11d6190fdcc', \n",
       "'dba34c7b-f84f-4f6e-823f-f1195e66150b', '10cae02b-5945-45de-ba93-2827d408f00a']}\n",
       "\n",
       "Out: None\n",
       "</pre>\n"
      ],
      "text/plain": [
       "\u001b[1mExecution logs:\u001b[0m\n",
       "{'asset_ids': ['91c0992d-8db1-4803-82a9-b2319d459f16', 'd656698b-95a8-4e6b-a220-ead9ce1ed7bd', \n",
       "'b6044032-31a5-4027-b163-5bc329e5ccb5', '5c622939-718f-4ca2-93dd-c11d6190fdcc', \n",
       "'dba34c7b-f84f-4f6e-823f-f1195e66150b', '10cae02b-5945-45de-ba93-2827d408f00a']}\n",
       "\n",
       "Out: None\n"
      ]
     },
     "metadata": {},
     "output_type": "display_data"
    },
    {
     "data": {
      "text/html": [
       "<pre style=\"white-space:pre;overflow-x:auto;line-height:normal;font-family:Menlo,'DejaVu Sans Mono',consolas,'Courier New',monospace\"><span style=\"color: #7f7f7f; text-decoration-color: #7f7f7f\">[Step 2: Duration 2.42 seconds| Input tokens: 4,106 | Output tokens: 165]</span>\n",
       "</pre>\n"
      ],
      "text/plain": [
       "\u001b[2m[Step 2: Duration 2.42 seconds| Input tokens: 4,106 | Output tokens: 165]\u001b[0m\n"
      ]
     },
     "metadata": {},
     "output_type": "display_data"
    },
    {
     "data": {
      "text/html": [
       "<pre style=\"white-space:pre;overflow-x:auto;line-height:normal;font-family:Menlo,'DejaVu Sans Mono',consolas,'Courier New',monospace\"><span style=\"color: #d4b702; text-decoration-color: #d4b702\">━━━━━━━━━━━━━━━━━━━━━━━━━━━━━━━━━━━━━━━━━━━━━━━━━━━━━ </span><span style=\"font-weight: bold\">Step </span><span style=\"color: #008080; text-decoration-color: #008080; font-weight: bold\">3</span><span style=\"color: #d4b702; text-decoration-color: #d4b702\"> ━━━━━━━━━━━━━━━━━━━━━━━━━━━━━━━━━━━━━━━━━━━━━━━━━━━━━━</span>\n",
       "</pre>\n"
      ],
      "text/plain": [
       "\u001b[38;2;212;183;2m━━━━━━━━━━━━━━━━━━━━━━━━━━━━━━━━━━━━━━━━━━━━━━━━━━━━━ \u001b[0m\u001b[1mStep \u001b[0m\u001b[1;36m3\u001b[0m\u001b[38;2;212;183;2m ━━━━━━━━━━━━━━━━━━━━━━━━━━━━━━━━━━━━━━━━━━━━━━━━━━━━━━\u001b[0m\n"
      ]
     },
     "metadata": {},
     "output_type": "display_data"
    },
    {
     "data": {
      "application/vnd.jupyter.widget-view+json": {
       "model_id": "0ccfeb41250b43458ff61f7407bce284",
       "version_major": 2,
       "version_minor": 0
      },
      "text/plain": [
       "Output()"
      ]
     },
     "metadata": {},
     "output_type": "display_data"
    },
    {
     "data": {
      "text/html": [
       "<pre style=\"white-space:pre;overflow-x:auto;line-height:normal;font-family:Menlo,'DejaVu Sans Mono',consolas,'Courier New',monospace\"></pre>\n"
      ],
      "text/plain": []
     },
     "metadata": {},
     "output_type": "display_data"
    },
    {
     "data": {
      "text/html": [
       "<pre style=\"white-space:pre;overflow-x:auto;line-height:normal;font-family:Menlo,'DejaVu Sans Mono',consolas,'Courier New',monospace\"> ─ <span style=\"font-weight: bold\">Executing parsed code:</span> ──────────────────────────────────────────────────────────────────────────────────────── \n",
       "  <span style=\"color: #f8f8f2; text-decoration-color: #f8f8f2; background-color: #272822\">data </span><span style=\"color: #ff4689; text-decoration-color: #ff4689; background-color: #272822\">=</span><span style=\"color: #f8f8f2; text-decoration-color: #f8f8f2; background-color: #272822\"> get_data([</span><span style=\"color: #e6db74; text-decoration-color: #e6db74; background-color: #272822\">'91c0992d-8db1-4803-82a9-b2319d459f16'</span><span style=\"color: #f8f8f2; text-decoration-color: #f8f8f2; background-color: #272822\">, </span><span style=\"color: #e6db74; text-decoration-color: #e6db74; background-color: #272822\">'d656698b-95a8-4e6b-a220-ead9ce1ed7bd'</span><span style=\"color: #f8f8f2; text-decoration-color: #f8f8f2; background-color: #272822\">, </span><span style=\"background-color: #272822\">              </span>  \n",
       "  <span style=\"color: #e6db74; text-decoration-color: #e6db74; background-color: #272822\">'b6044032-31a5-4027-b163-5bc329e5ccb5'</span><span style=\"color: #f8f8f2; text-decoration-color: #f8f8f2; background-color: #272822\">, </span><span style=\"color: #e6db74; text-decoration-color: #e6db74; background-color: #272822\">'5c622939-718f-4ca2-93dd-c11d6190fdcc'</span><span style=\"color: #f8f8f2; text-decoration-color: #f8f8f2; background-color: #272822\">, </span><span style=\"background-color: #272822\">                               </span>  \n",
       "  <span style=\"color: #e6db74; text-decoration-color: #e6db74; background-color: #272822\">'dba34c7b-f84f-4f6e-823f-f1195e66150b'</span><span style=\"color: #f8f8f2; text-decoration-color: #f8f8f2; background-color: #272822\">, </span><span style=\"color: #e6db74; text-decoration-color: #e6db74; background-color: #272822\">'10cae02b-5945-45de-ba93-2827d408f00a'</span><span style=\"color: #f8f8f2; text-decoration-color: #f8f8f2; background-color: #272822\">], </span><span style=\"background-color: #272822\">                              </span>  \n",
       "  <span style=\"color: #f8f8f2; text-decoration-color: #f8f8f2; background-color: #272822\">                 </span><span style=\"color: #e6db74; text-decoration-color: #e6db74; background-color: #272822\">\"2025-01-01T00:00:00Z\"</span><span style=\"color: #f8f8f2; text-decoration-color: #f8f8f2; background-color: #272822\">, </span><span style=\"color: #e6db74; text-decoration-color: #e6db74; background-color: #272822\">\"2025-01-01T23:59:59Z\"</span><span style=\"color: #f8f8f2; text-decoration-color: #f8f8f2; background-color: #272822\">, </span><span style=\"color: #e6db74; text-decoration-color: #e6db74; background-color: #272822\">\"hour\"</span><span style=\"color: #f8f8f2; text-decoration-color: #f8f8f2; background-color: #272822\">, </span><span style=\"color: #66d9ef; text-decoration-color: #66d9ef; background-color: #272822\">False</span><span style=\"color: #f8f8f2; text-decoration-color: #f8f8f2; background-color: #272822\">)</span><span style=\"background-color: #272822\">                                </span>  \n",
       "  <span style=\"color: #f8f8f2; text-decoration-color: #f8f8f2; background-color: #272822\">print(data[</span><span style=\"color: #e6db74; text-decoration-color: #e6db74; background-color: #272822\">\"data\"</span><span style=\"color: #f8f8f2; text-decoration-color: #f8f8f2; background-color: #272822\">])</span><span style=\"background-color: #272822\">                                                                                            </span>  \n",
       " ───────────────────────────────────────────────────────────────────────────────────────────────────────────────── \n",
       "</pre>\n"
      ],
      "text/plain": [
       " ─ \u001b[1mExecuting parsed code:\u001b[0m ──────────────────────────────────────────────────────────────────────────────────────── \n",
       "  \u001b[38;2;248;248;242;48;2;39;40;34mdata\u001b[0m\u001b[38;2;248;248;242;48;2;39;40;34m \u001b[0m\u001b[38;2;255;70;137;48;2;39;40;34m=\u001b[0m\u001b[38;2;248;248;242;48;2;39;40;34m \u001b[0m\u001b[38;2;248;248;242;48;2;39;40;34mget_data\u001b[0m\u001b[38;2;248;248;242;48;2;39;40;34m(\u001b[0m\u001b[38;2;248;248;242;48;2;39;40;34m[\u001b[0m\u001b[38;2;230;219;116;48;2;39;40;34m'\u001b[0m\u001b[38;2;230;219;116;48;2;39;40;34m91c0992d-8db1-4803-82a9-b2319d459f16\u001b[0m\u001b[38;2;230;219;116;48;2;39;40;34m'\u001b[0m\u001b[38;2;248;248;242;48;2;39;40;34m,\u001b[0m\u001b[38;2;248;248;242;48;2;39;40;34m \u001b[0m\u001b[38;2;230;219;116;48;2;39;40;34m'\u001b[0m\u001b[38;2;230;219;116;48;2;39;40;34md656698b-95a8-4e6b-a220-ead9ce1ed7bd\u001b[0m\u001b[38;2;230;219;116;48;2;39;40;34m'\u001b[0m\u001b[38;2;248;248;242;48;2;39;40;34m,\u001b[0m\u001b[38;2;248;248;242;48;2;39;40;34m \u001b[0m\u001b[48;2;39;40;34m              \u001b[0m  \n",
       "  \u001b[38;2;230;219;116;48;2;39;40;34m'\u001b[0m\u001b[38;2;230;219;116;48;2;39;40;34mb6044032-31a5-4027-b163-5bc329e5ccb5\u001b[0m\u001b[38;2;230;219;116;48;2;39;40;34m'\u001b[0m\u001b[38;2;248;248;242;48;2;39;40;34m,\u001b[0m\u001b[38;2;248;248;242;48;2;39;40;34m \u001b[0m\u001b[38;2;230;219;116;48;2;39;40;34m'\u001b[0m\u001b[38;2;230;219;116;48;2;39;40;34m5c622939-718f-4ca2-93dd-c11d6190fdcc\u001b[0m\u001b[38;2;230;219;116;48;2;39;40;34m'\u001b[0m\u001b[38;2;248;248;242;48;2;39;40;34m,\u001b[0m\u001b[38;2;248;248;242;48;2;39;40;34m \u001b[0m\u001b[48;2;39;40;34m                               \u001b[0m  \n",
       "  \u001b[38;2;230;219;116;48;2;39;40;34m'\u001b[0m\u001b[38;2;230;219;116;48;2;39;40;34mdba34c7b-f84f-4f6e-823f-f1195e66150b\u001b[0m\u001b[38;2;230;219;116;48;2;39;40;34m'\u001b[0m\u001b[38;2;248;248;242;48;2;39;40;34m,\u001b[0m\u001b[38;2;248;248;242;48;2;39;40;34m \u001b[0m\u001b[38;2;230;219;116;48;2;39;40;34m'\u001b[0m\u001b[38;2;230;219;116;48;2;39;40;34m10cae02b-5945-45de-ba93-2827d408f00a\u001b[0m\u001b[38;2;230;219;116;48;2;39;40;34m'\u001b[0m\u001b[38;2;248;248;242;48;2;39;40;34m]\u001b[0m\u001b[38;2;248;248;242;48;2;39;40;34m,\u001b[0m\u001b[38;2;248;248;242;48;2;39;40;34m \u001b[0m\u001b[48;2;39;40;34m                              \u001b[0m  \n",
       "  \u001b[38;2;248;248;242;48;2;39;40;34m                 \u001b[0m\u001b[38;2;230;219;116;48;2;39;40;34m\"\u001b[0m\u001b[38;2;230;219;116;48;2;39;40;34m2025-01-01T00:00:00Z\u001b[0m\u001b[38;2;230;219;116;48;2;39;40;34m\"\u001b[0m\u001b[38;2;248;248;242;48;2;39;40;34m,\u001b[0m\u001b[38;2;248;248;242;48;2;39;40;34m \u001b[0m\u001b[38;2;230;219;116;48;2;39;40;34m\"\u001b[0m\u001b[38;2;230;219;116;48;2;39;40;34m2025-01-01T23:59:59Z\u001b[0m\u001b[38;2;230;219;116;48;2;39;40;34m\"\u001b[0m\u001b[38;2;248;248;242;48;2;39;40;34m,\u001b[0m\u001b[38;2;248;248;242;48;2;39;40;34m \u001b[0m\u001b[38;2;230;219;116;48;2;39;40;34m\"\u001b[0m\u001b[38;2;230;219;116;48;2;39;40;34mhour\u001b[0m\u001b[38;2;230;219;116;48;2;39;40;34m\"\u001b[0m\u001b[38;2;248;248;242;48;2;39;40;34m,\u001b[0m\u001b[38;2;248;248;242;48;2;39;40;34m \u001b[0m\u001b[38;2;102;217;239;48;2;39;40;34mFalse\u001b[0m\u001b[38;2;248;248;242;48;2;39;40;34m)\u001b[0m\u001b[48;2;39;40;34m                                \u001b[0m  \n",
       "  \u001b[38;2;248;248;242;48;2;39;40;34mprint\u001b[0m\u001b[38;2;248;248;242;48;2;39;40;34m(\u001b[0m\u001b[38;2;248;248;242;48;2;39;40;34mdata\u001b[0m\u001b[38;2;248;248;242;48;2;39;40;34m[\u001b[0m\u001b[38;2;230;219;116;48;2;39;40;34m\"\u001b[0m\u001b[38;2;230;219;116;48;2;39;40;34mdata\u001b[0m\u001b[38;2;230;219;116;48;2;39;40;34m\"\u001b[0m\u001b[38;2;248;248;242;48;2;39;40;34m]\u001b[0m\u001b[38;2;248;248;242;48;2;39;40;34m)\u001b[0m\u001b[48;2;39;40;34m                                                                                            \u001b[0m  \n",
       " ───────────────────────────────────────────────────────────────────────────────────────────────────────────────── \n"
      ]
     },
     "metadata": {},
     "output_type": "display_data"
    },
    {
     "name": "stderr",
     "output_type": "stream",
     "text": [
      "\u001b[32m2025-05-14 21:21:34.282\u001b[0m | \u001b[1mINFO    \u001b[0m | \u001b[36msrc.agent.adapters.tools.base\u001b[0m:\u001b[36mcall_api\u001b[0m:\u001b[36m74\u001b[0m - \u001b[1mFetching data from http://localhost:5050/v1/data/5c622939-718f-4ca2-93dd-c11d6190fdcc with params: {'last_value': False, 'start_date': '2025-01-01T00:00:00', 'end_date': '2025-01-01T23:59:59', 'aggregation': 'h', 'offset': 0, 'limit': 100}\u001b[0m\n",
      "\u001b[32m2025-05-14 21:21:34.374\u001b[0m | \u001b[1mINFO    \u001b[0m | \u001b[36msrc.agent.adapters.tools.base\u001b[0m:\u001b[36mcall_api\u001b[0m:\u001b[36m88\u001b[0m - \u001b[1mReached the last page.\u001b[0m\n",
      "\u001b[32m2025-05-14 21:21:34.374\u001b[0m | \u001b[1mINFO    \u001b[0m | \u001b[36msrc.agent.adapters.tools.base\u001b[0m:\u001b[36mcall_api\u001b[0m:\u001b[36m74\u001b[0m - \u001b[1mFetching data from http://localhost:5050/v1/data/91c0992d-8db1-4803-82a9-b2319d459f16 with params: {'last_value': False, 'start_date': '2025-01-01T00:00:00', 'end_date': '2025-01-01T23:59:59', 'aggregation': 'h', 'offset': 0, 'limit': 100}\u001b[0m\n",
      "\u001b[32m2025-05-14 21:21:34.413\u001b[0m | \u001b[1mINFO    \u001b[0m | \u001b[36msrc.agent.adapters.tools.base\u001b[0m:\u001b[36mcall_api\u001b[0m:\u001b[36m88\u001b[0m - \u001b[1mReached the last page.\u001b[0m\n",
      "\u001b[32m2025-05-14 21:21:34.415\u001b[0m | \u001b[1mINFO    \u001b[0m | \u001b[36msrc.agent.adapters.tools.base\u001b[0m:\u001b[36mcall_api\u001b[0m:\u001b[36m74\u001b[0m - \u001b[1mFetching data from http://localhost:5050/v1/data/d656698b-95a8-4e6b-a220-ead9ce1ed7bd with params: {'last_value': False, 'start_date': '2025-01-01T00:00:00', 'end_date': '2025-01-01T23:59:59', 'aggregation': 'h', 'offset': 0, 'limit': 100}\u001b[0m\n",
      "\u001b[32m2025-05-14 21:21:34.453\u001b[0m | \u001b[1mINFO    \u001b[0m | \u001b[36msrc.agent.adapters.tools.base\u001b[0m:\u001b[36mcall_api\u001b[0m:\u001b[36m88\u001b[0m - \u001b[1mReached the last page.\u001b[0m\n",
      "\u001b[32m2025-05-14 21:21:34.455\u001b[0m | \u001b[1mINFO    \u001b[0m | \u001b[36msrc.agent.adapters.tools.base\u001b[0m:\u001b[36mcall_api\u001b[0m:\u001b[36m74\u001b[0m - \u001b[1mFetching data from http://localhost:5050/v1/data/10cae02b-5945-45de-ba93-2827d408f00a with params: {'last_value': False, 'start_date': '2025-01-01T00:00:00', 'end_date': '2025-01-01T23:59:59', 'aggregation': 'h', 'offset': 0, 'limit': 100}\u001b[0m\n",
      "\u001b[32m2025-05-14 21:21:34.492\u001b[0m | \u001b[1mINFO    \u001b[0m | \u001b[36msrc.agent.adapters.tools.base\u001b[0m:\u001b[36mcall_api\u001b[0m:\u001b[36m88\u001b[0m - \u001b[1mReached the last page.\u001b[0m\n",
      "\u001b[32m2025-05-14 21:21:34.494\u001b[0m | \u001b[1mINFO    \u001b[0m | \u001b[36msrc.agent.adapters.tools.base\u001b[0m:\u001b[36mcall_api\u001b[0m:\u001b[36m74\u001b[0m - \u001b[1mFetching data from http://localhost:5050/v1/data/b6044032-31a5-4027-b163-5bc329e5ccb5 with params: {'last_value': False, 'start_date': '2025-01-01T00:00:00', 'end_date': '2025-01-01T23:59:59', 'aggregation': 'h', 'offset': 0, 'limit': 100}\u001b[0m\n",
      "\u001b[32m2025-05-14 21:21:34.528\u001b[0m | \u001b[1mINFO    \u001b[0m | \u001b[36msrc.agent.adapters.tools.base\u001b[0m:\u001b[36mcall_api\u001b[0m:\u001b[36m88\u001b[0m - \u001b[1mReached the last page.\u001b[0m\n",
      "\u001b[32m2025-05-14 21:21:34.528\u001b[0m | \u001b[1mINFO    \u001b[0m | \u001b[36msrc.agent.adapters.tools.base\u001b[0m:\u001b[36mcall_api\u001b[0m:\u001b[36m74\u001b[0m - \u001b[1mFetching data from http://localhost:5050/v1/data/dba34c7b-f84f-4f6e-823f-f1195e66150b with params: {'last_value': False, 'start_date': '2025-01-01T00:00:00', 'end_date': '2025-01-01T23:59:59', 'aggregation': 'h', 'offset': 0, 'limit': 100}\u001b[0m\n",
      "\u001b[32m2025-05-14 21:21:34.564\u001b[0m | \u001b[1mINFO    \u001b[0m | \u001b[36msrc.agent.adapters.tools.base\u001b[0m:\u001b[36mcall_api\u001b[0m:\u001b[36m88\u001b[0m - \u001b[1mReached the last page.\u001b[0m\n"
     ]
    },
    {
     "data": {
      "text/html": [
       "<pre style=\"white-space:pre;overflow-x:auto;line-height:normal;font-family:Menlo,'DejaVu Sans Mono',consolas,'Courier New',monospace\"><span style=\"font-weight: bold\">Execution logs:</span>\n",
       "                     91c0992d-8db1-4803-82a9-b2319d459f16  \\\n",
       "timestamp                                                   \n",
       "2025-01-01T00:00:00                              1.526833   \n",
       "2025-01-01T01:00:00                              1.868833   \n",
       "2025-01-01T02:00:00                              2.169167   \n",
       "2025-01-01T03:00:00                              1.024667   \n",
       "2025-01-01T04:00:00                              1.181667   \n",
       "2025-01-01T05:00:00                              1.249333   \n",
       "2025-01-01T06:00:00                              1.336000   \n",
       "2025-01-01T07:00:00                              1.151667   \n",
       "2025-01-01T08:00:00                              0.594333   \n",
       "2025-01-01T09:00:00                              1.297333   \n",
       "2025-01-01T10:00:00                              1.738333   \n",
       "2025-01-01T11:00:00                              0.779167   \n",
       "2025-01-01T12:00:00                              1.174500   \n",
       "2025-01-01T13:00:00                              1.900333   \n",
       "2025-01-01T14:00:00                              1.035000   \n",
       "2025-01-01T15:00:00                              1.441000   \n",
       "2025-01-01T16:00:00                              1.203333   \n",
       "2025-01-01T17:00:00                              1.550167   \n",
       "2025-01-01T18:00:00                              1.563167   \n",
       "2025-01-01T19:00:00                              1.932667   \n",
       "2025-01-01T20:00:00                              1.878333   \n",
       "2025-01-01T21:00:00                              1.628333   \n",
       "2025-01-01T22:00:00                              1.943333   \n",
       "2025-01-01T23:00:00                              1.488500   \n",
       "\n",
       "                     d656698b-95a8-4e6b-a220-ead9ce1ed7bd  \\\n",
       "timestamp                                                   \n",
       "2025-01-01T00:00:00                             30.960500   \n",
       "2025-01-01T01:00:00                             32.009833   \n",
       "2025-01-01T02:00:00                             34.236333   \n",
       "2025-01-01T03:00:00                             32.892000   \n",
       "2025-01-01T04:00:00                             32.586500   \n",
       "2025-01-01T05:00:00                             31.181500   \n",
       "2025-01-01T06:00:00                             32.889500   \n",
       "2025-01-01T07:00:00                             32.404833   \n",
       "2025-01-01T08:00:00                             33.590833   \n",
       "2025-01-01T09:00:00                             30.364333   \n",
       "2025-01-01T10:00:00                             31.830167   \n",
       "2025-01-01T11:00:00                             32.255167   \n",
       "2025-01-01T12:00:00                             33.205500   \n",
       "2025-01-01T13:00:00                             32.135167   \n",
       "2025-01-01T14:00:00                             33.403167   \n",
       "2025-01-01T15:00:00                             32.305667   \n",
       "2025-01-01T16:00:00                             33.234667   \n",
       "2025-01-01T17:00:00                             33.998833   \n",
       "2025-01-01T18:00:00                             32.800167   \n",
       "2025-01-01T19:00:00                             34.201500   \n",
       "2025-01-01T20:00:00                             34.012000   \n",
       "2025-01-01T21:00:00                             33.232667   \n",
       "2025-01-01T22:00:00                             33.656167   \n",
       "2025-01-01T23:00:00                             32.535333   \n",
       "\n",
       "                     10cae02b-5945-45de-ba93-2827d408f00a  \\\n",
       "timestamp                                                   \n",
       "2025-01-01T00:00:00                                   1.0   \n",
       "2025-01-01T01:00:00                                   1.0   \n",
       "2025-01-01T02:00:00                                   1.0   \n",
       "2025-01-01T03:00:00                                   1.0   \n",
       "2025-01-01T04:00:00                                   1.0   \n",
       "2025-01-01T05:00:00                                   1.0   \n",
       "2025-01-01T06:00:00                                   1.0   \n",
       "2025-01-01T07:00:00                                   1.0   \n",
       "2025-01-01T08:00:00                                   1.0   \n",
       "2025-01-01T09:00:00                                   1.0   \n",
       "2025-01-01T10:00:00                                   1.0   \n",
       "2025-01-01T11:00:00                                   1.0   \n",
       "2025-01-01T12:00:00                                   1.0   \n",
       "2025-01-01T13:00:00                                   1.0   \n",
       "2025-01-01T14:00:00                                   1.0   \n",
       "2025-01-01T15:00:00                                   1.0   \n",
       "2025-01-01T16:00:00                                   1.0   \n",
       "2025-01-01T17:00:00                                   1.0   \n",
       "2025-01-01T18:00:00                                   1.0   \n",
       "2025-01-01T19:00:00                                   1.0   \n",
       "2025-01-01T20:00:00                                   1.0   \n",
       "2025-01-01T21:00:00                                   1.0   \n",
       "2025-01-01T22:00:00                                   1.0   \n",
       "2025-01-01T23:00:00                                   1.0   \n",
       "\n",
       "                     dba34c7b-f84f-4f6e-823f-f1195e66150b  \n",
       "timestamp                                                  \n",
       "2025-01-01T00:00:00                              5.848167  \n",
       "2025-01-01T01:00:00                              6.490167  \n",
       "2025-01-01T02:00:00                              5.814500  \n",
       "2025-01-01T03:00:00                              5.823000  \n",
       "2025-01-01T04:00:00                              6.567167  \n",
       "2025-01-01T05:00:00                              6.006833  \n",
       "2025-01-01T06:00:00                              6.105000  \n",
       "2025-01-01T07:00:00                              6.282167  \n",
       "2025-01-01T08:00:00                              6.042000  \n",
       "2025-01-01T09:00:00                              5.490500  \n",
       "2025-01-01T10:00:00                              6.133833  \n",
       "2025-01-01T11:00:00                              6.124333  \n",
       "2025-01-01T12:00:00                              6.111333  \n",
       "2025-01-01T13:00:00                              6.226333  \n",
       "2025-01-01T14:00:00                              6.707500  \n",
       "2025-01-01T15:00:00                              6.354833  \n",
       "2025-01-01T16:00:00                              6.399333  \n",
       "2025-01-01T17:00:00                              5.958833  \n",
       "2025-01-01T18:00:00                              5.820833  \n",
       "2025-01-01T19:00:00                              6.526000  \n",
       "2025-01-01T20:00:00                              6.273667  \n",
       "2025-01-01T21:00:00                              6.426667  \n",
       "2025-01-01T22:00:00                              6.306167  \n",
       "2025-01-01T23:00:00                              6.681667  \n",
       "\n",
       "Out: None\n",
       "</pre>\n"
      ],
      "text/plain": [
       "\u001b[1mExecution logs:\u001b[0m\n",
       "                     91c0992d-8db1-4803-82a9-b2319d459f16  \\\n",
       "timestamp                                                   \n",
       "2025-01-01T00:00:00                              1.526833   \n",
       "2025-01-01T01:00:00                              1.868833   \n",
       "2025-01-01T02:00:00                              2.169167   \n",
       "2025-01-01T03:00:00                              1.024667   \n",
       "2025-01-01T04:00:00                              1.181667   \n",
       "2025-01-01T05:00:00                              1.249333   \n",
       "2025-01-01T06:00:00                              1.336000   \n",
       "2025-01-01T07:00:00                              1.151667   \n",
       "2025-01-01T08:00:00                              0.594333   \n",
       "2025-01-01T09:00:00                              1.297333   \n",
       "2025-01-01T10:00:00                              1.738333   \n",
       "2025-01-01T11:00:00                              0.779167   \n",
       "2025-01-01T12:00:00                              1.174500   \n",
       "2025-01-01T13:00:00                              1.900333   \n",
       "2025-01-01T14:00:00                              1.035000   \n",
       "2025-01-01T15:00:00                              1.441000   \n",
       "2025-01-01T16:00:00                              1.203333   \n",
       "2025-01-01T17:00:00                              1.550167   \n",
       "2025-01-01T18:00:00                              1.563167   \n",
       "2025-01-01T19:00:00                              1.932667   \n",
       "2025-01-01T20:00:00                              1.878333   \n",
       "2025-01-01T21:00:00                              1.628333   \n",
       "2025-01-01T22:00:00                              1.943333   \n",
       "2025-01-01T23:00:00                              1.488500   \n",
       "\n",
       "                     d656698b-95a8-4e6b-a220-ead9ce1ed7bd  \\\n",
       "timestamp                                                   \n",
       "2025-01-01T00:00:00                             30.960500   \n",
       "2025-01-01T01:00:00                             32.009833   \n",
       "2025-01-01T02:00:00                             34.236333   \n",
       "2025-01-01T03:00:00                             32.892000   \n",
       "2025-01-01T04:00:00                             32.586500   \n",
       "2025-01-01T05:00:00                             31.181500   \n",
       "2025-01-01T06:00:00                             32.889500   \n",
       "2025-01-01T07:00:00                             32.404833   \n",
       "2025-01-01T08:00:00                             33.590833   \n",
       "2025-01-01T09:00:00                             30.364333   \n",
       "2025-01-01T10:00:00                             31.830167   \n",
       "2025-01-01T11:00:00                             32.255167   \n",
       "2025-01-01T12:00:00                             33.205500   \n",
       "2025-01-01T13:00:00                             32.135167   \n",
       "2025-01-01T14:00:00                             33.403167   \n",
       "2025-01-01T15:00:00                             32.305667   \n",
       "2025-01-01T16:00:00                             33.234667   \n",
       "2025-01-01T17:00:00                             33.998833   \n",
       "2025-01-01T18:00:00                             32.800167   \n",
       "2025-01-01T19:00:00                             34.201500   \n",
       "2025-01-01T20:00:00                             34.012000   \n",
       "2025-01-01T21:00:00                             33.232667   \n",
       "2025-01-01T22:00:00                             33.656167   \n",
       "2025-01-01T23:00:00                             32.535333   \n",
       "\n",
       "                     10cae02b-5945-45de-ba93-2827d408f00a  \\\n",
       "timestamp                                                   \n",
       "2025-01-01T00:00:00                                   1.0   \n",
       "2025-01-01T01:00:00                                   1.0   \n",
       "2025-01-01T02:00:00                                   1.0   \n",
       "2025-01-01T03:00:00                                   1.0   \n",
       "2025-01-01T04:00:00                                   1.0   \n",
       "2025-01-01T05:00:00                                   1.0   \n",
       "2025-01-01T06:00:00                                   1.0   \n",
       "2025-01-01T07:00:00                                   1.0   \n",
       "2025-01-01T08:00:00                                   1.0   \n",
       "2025-01-01T09:00:00                                   1.0   \n",
       "2025-01-01T10:00:00                                   1.0   \n",
       "2025-01-01T11:00:00                                   1.0   \n",
       "2025-01-01T12:00:00                                   1.0   \n",
       "2025-01-01T13:00:00                                   1.0   \n",
       "2025-01-01T14:00:00                                   1.0   \n",
       "2025-01-01T15:00:00                                   1.0   \n",
       "2025-01-01T16:00:00                                   1.0   \n",
       "2025-01-01T17:00:00                                   1.0   \n",
       "2025-01-01T18:00:00                                   1.0   \n",
       "2025-01-01T19:00:00                                   1.0   \n",
       "2025-01-01T20:00:00                                   1.0   \n",
       "2025-01-01T21:00:00                                   1.0   \n",
       "2025-01-01T22:00:00                                   1.0   \n",
       "2025-01-01T23:00:00                                   1.0   \n",
       "\n",
       "                     dba34c7b-f84f-4f6e-823f-f1195e66150b  \n",
       "timestamp                                                  \n",
       "2025-01-01T00:00:00                              5.848167  \n",
       "2025-01-01T01:00:00                              6.490167  \n",
       "2025-01-01T02:00:00                              5.814500  \n",
       "2025-01-01T03:00:00                              5.823000  \n",
       "2025-01-01T04:00:00                              6.567167  \n",
       "2025-01-01T05:00:00                              6.006833  \n",
       "2025-01-01T06:00:00                              6.105000  \n",
       "2025-01-01T07:00:00                              6.282167  \n",
       "2025-01-01T08:00:00                              6.042000  \n",
       "2025-01-01T09:00:00                              5.490500  \n",
       "2025-01-01T10:00:00                              6.133833  \n",
       "2025-01-01T11:00:00                              6.124333  \n",
       "2025-01-01T12:00:00                              6.111333  \n",
       "2025-01-01T13:00:00                              6.226333  \n",
       "2025-01-01T14:00:00                              6.707500  \n",
       "2025-01-01T15:00:00                              6.354833  \n",
       "2025-01-01T16:00:00                              6.399333  \n",
       "2025-01-01T17:00:00                              5.958833  \n",
       "2025-01-01T18:00:00                              5.820833  \n",
       "2025-01-01T19:00:00                              6.526000  \n",
       "2025-01-01T20:00:00                              6.273667  \n",
       "2025-01-01T21:00:00                              6.426667  \n",
       "2025-01-01T22:00:00                              6.306167  \n",
       "2025-01-01T23:00:00                              6.681667  \n",
       "\n",
       "Out: None\n"
      ]
     },
     "metadata": {},
     "output_type": "display_data"
    },
    {
     "data": {
      "text/html": [
       "<pre style=\"white-space:pre;overflow-x:auto;line-height:normal;font-family:Menlo,'DejaVu Sans Mono',consolas,'Courier New',monospace\"><span style=\"color: #7f7f7f; text-decoration-color: #7f7f7f\">[Step 3: Duration 4.90 seconds| Input tokens: 6,585 | Output tokens: 408]</span>\n",
       "</pre>\n"
      ],
      "text/plain": [
       "\u001b[2m[Step 3: Duration 4.90 seconds| Input tokens: 6,585 | Output tokens: 408]\u001b[0m\n"
      ]
     },
     "metadata": {},
     "output_type": "display_data"
    },
    {
     "data": {
      "text/html": [
       "<pre style=\"white-space:pre;overflow-x:auto;line-height:normal;font-family:Menlo,'DejaVu Sans Mono',consolas,'Courier New',monospace\"><span style=\"color: #d4b702; text-decoration-color: #d4b702\">━━━━━━━━━━━━━━━━━━━━━━━━━━━━━━━━━━━━━━━━━━━━━━━━━━━━━ </span><span style=\"font-weight: bold\">Step </span><span style=\"color: #008080; text-decoration-color: #008080; font-weight: bold\">4</span><span style=\"color: #d4b702; text-decoration-color: #d4b702\"> ━━━━━━━━━━━━━━━━━━━━━━━━━━━━━━━━━━━━━━━━━━━━━━━━━━━━━━</span>\n",
       "</pre>\n"
      ],
      "text/plain": [
       "\u001b[38;2;212;183;2m━━━━━━━━━━━━━━━━━━━━━━━━━━━━━━━━━━━━━━━━━━━━━━━━━━━━━ \u001b[0m\u001b[1mStep \u001b[0m\u001b[1;36m4\u001b[0m\u001b[38;2;212;183;2m ━━━━━━━━━━━━━━━━━━━━━━━━━━━━━━━━━━━━━━━━━━━━━━━━━━━━━━\u001b[0m\n"
      ]
     },
     "metadata": {},
     "output_type": "display_data"
    },
    {
     "data": {
      "application/vnd.jupyter.widget-view+json": {
       "model_id": "1a5bbd6b995b4674bb393ac099ac02cb",
       "version_major": 2,
       "version_minor": 0
      },
      "text/plain": [
       "Output()"
      ]
     },
     "metadata": {},
     "output_type": "display_data"
    },
    {
     "data": {
      "text/html": [
       "<pre style=\"white-space:pre;overflow-x:auto;line-height:normal;font-family:Menlo,'DejaVu Sans Mono',consolas,'Courier New',monospace\"></pre>\n"
      ],
      "text/plain": []
     },
     "metadata": {},
     "output_type": "display_data"
    },
    {
     "data": {
      "text/html": [
       "<pre style=\"white-space:pre;overflow-x:auto;line-height:normal;font-family:Menlo,'DejaVu Sans Mono',consolas,'Courier New',monospace\"> ─ <span style=\"font-weight: bold\">Executing parsed code:</span> ──────────────────────────────────────────────────────────────────────────────────────── \n",
       "  <span style=\"color: #f8f8f2; text-decoration-color: #f8f8f2; background-color: #272822\">plot_result </span><span style=\"color: #ff4689; text-decoration-color: #ff4689; background-color: #272822\">=</span><span style=\"color: #f8f8f2; text-decoration-color: #f8f8f2; background-color: #272822\"> plot_data(data[</span><span style=\"color: #e6db74; text-decoration-color: #e6db74; background-color: #272822\">\"data\"</span><span style=\"color: #f8f8f2; text-decoration-color: #f8f8f2; background-color: #272822\">])</span><span style=\"background-color: #272822\">                                                                          </span>  \n",
       "  <span style=\"color: #f8f8f2; text-decoration-color: #f8f8f2; background-color: #272822\">final_answer(plot_result)</span><span style=\"background-color: #272822\">                                                                                      </span>  \n",
       " ───────────────────────────────────────────────────────────────────────────────────────────────────────────────── \n",
       "</pre>\n"
      ],
      "text/plain": [
       " ─ \u001b[1mExecuting parsed code:\u001b[0m ──────────────────────────────────────────────────────────────────────────────────────── \n",
       "  \u001b[38;2;248;248;242;48;2;39;40;34mplot_result\u001b[0m\u001b[38;2;248;248;242;48;2;39;40;34m \u001b[0m\u001b[38;2;255;70;137;48;2;39;40;34m=\u001b[0m\u001b[38;2;248;248;242;48;2;39;40;34m \u001b[0m\u001b[38;2;248;248;242;48;2;39;40;34mplot_data\u001b[0m\u001b[38;2;248;248;242;48;2;39;40;34m(\u001b[0m\u001b[38;2;248;248;242;48;2;39;40;34mdata\u001b[0m\u001b[38;2;248;248;242;48;2;39;40;34m[\u001b[0m\u001b[38;2;230;219;116;48;2;39;40;34m\"\u001b[0m\u001b[38;2;230;219;116;48;2;39;40;34mdata\u001b[0m\u001b[38;2;230;219;116;48;2;39;40;34m\"\u001b[0m\u001b[38;2;248;248;242;48;2;39;40;34m]\u001b[0m\u001b[38;2;248;248;242;48;2;39;40;34m)\u001b[0m\u001b[48;2;39;40;34m                                                                          \u001b[0m  \n",
       "  \u001b[38;2;248;248;242;48;2;39;40;34mfinal_answer\u001b[0m\u001b[38;2;248;248;242;48;2;39;40;34m(\u001b[0m\u001b[38;2;248;248;242;48;2;39;40;34mplot_result\u001b[0m\u001b[38;2;248;248;242;48;2;39;40;34m)\u001b[0m\u001b[48;2;39;40;34m                                                                                      \u001b[0m  \n",
       " ───────────────────────────────────────────────────────────────────────────────────────────────────────────────── \n"
      ]
     },
     "metadata": {},
     "output_type": "display_data"
    },
    {
     "data": {
      "text/html": [
       "<pre style=\"white-space:pre;overflow-x:auto;line-height:normal;font-family:Menlo,'DejaVu Sans Mono',consolas,'Courier New',monospace\"><span style=\"color: #d4b702; text-decoration-color: #d4b702; font-weight: bold\">Out - Final answer: {'plot': </span>\n",
       "<span style=\"color: #d4b702; text-decoration-color: #d4b702; font-weight: bold\">'iVBORw0KGgoAAAANSUhEUgAABAUAAAIjCAYAAAB73KJlAAAAOnRFWHRTb2Z0d2FyZQBNYXRwbG90bGliIHZlcnNpb24zLjEwLjAsIGh0dHBzOi8vbW</span>\n",
       "<span style=\"color: #d4b702; text-decoration-color: #d4b702; font-weight: bold\">F0cGxvdGxpYi5vcmcvlHJYcgAAAAlwSFlzAAAPYQAAD2EBqD+naQABAABJREFUeJzs3QecE1XXx/Gz9A7SO1KkCwgKolgRCxbsXbH33gsq9l4fe8OKv</span>\n",
       "<span style=\"color: #d4b702; text-decoration-color: #d4b702; font-weight: bold\">TdULNgoAvaOoiAd6b3sPJ//HSZMQrKbhV12kvy+75tn3WQ2uZmZhLnnnntunud5ngEAAAAAgJxTprQbAAAAAAAASgdBAQAAAAAAchRBAQAAAAAAchRB</span>\n",
       "<span style=\"color: #d4b702; text-decoration-color: #d4b702; font-weight: bold\">AQAAAAAAchRBAQAAAAAAchRBAQAAAAAAchRBAQAAAAAAchRBAQAAAAAAchRBAQAAAAAAchRBAQBA5B1zzDG26aabWq6K8vvf2G0bM2aMVahQwf755x/</span>\n",
       "<span style=\"color: #d4b702; text-decoration-color: #d4b702; font-weight: bold\">LBX///bfl5eXZE088EbvvkksusV69epVquwAA2YOgAACgVKijk87t008/tah21o499lhr3bq1VapUyRo2bGjbb7+9XXXVVZYNdtxxx7jjULt2bdtqq6</span>\n",
       "<span style=\"color: #d4b702; text-decoration-color: #d4b702; font-weight: bold\">3s8ccft/z8/GJ5jRtuuMFef/31Iv3N5Zdfbocddpi1aNFinbZuttlmSf/mww8/jL2Pl19+2TLdOeecY9999529+eabpd0UAEAWKFfaDQAA5Kann3467</span>\n",
       "<span style=\"color: #d4b702; text-decoration-color: #d4b702; font-weight: bold\">vennnrKdd4S7+/QoYM98sgjxdYRLQ4TJkxwHeTKlSvbcccd50bKp02bZuPHj7ebb77Zrr766mJ9vdJ6/02bNrUbb7zR/fesWbPcMTr++OPt999/t5tu</span>\n",
       "<span style=\"color: #d4b702; text-decoration-color: #d4b702; font-weight: bold\">uqlYggIHHnig7bvvvmlt/+2339rw4cPtq6++WucxBWZ0XJRJ0LNnz7jHnn32Wff4smXLLBsoADVgwAC77bbbbJ999int5gAAMhxBAQBAqTjyyCPjfh8</span>\n",
       "<span style=\"color: #d4b702; text-decoration-color: #d4b702; font-weight: bold\">1apQLCiTeH0V33nmnLVq0yHVSwyPWMnPmzGJ7ncWLF1vVqlWtfPnyVhpq1qwZdzxOPvlka9eund1777127bXXbvR2DRkyxJo3b25bb731Oo8pY2PVql</span>\n",
       "<span style=\"color: #d4b702; text-decoration-color: #d4b702; font-weight: bold\">X23HPPxQUFFAh47bXXbM8997RXXnnFssXBBx9sBx10kP3111/WqlWr0m4OACCDMX0AABB5ifPWg3nWGim97777XKeoSpUqtuuuu9rkyZPN8zzXadVIt</span>\n",
       "<span style=\"color: #d4b702; text-decoration-color: #d4b702; font-weight: bold\">0bzNao6Z86cdZ73vffes+222851vKtXr+46jj/99FOh7fnzzz/dcycGBKR+/frr9Tp6j9WqVXPP3b9/f7fdEUcckfT9izIH7rrrLuvUqZMbBW/QoIHr</span>\n",
       "<span style=\"color: #d4b702; text-decoration-color: #d4b702; font-weight: bold\">tM+dOzduu7Fjx9puu+1mdevWdfuiZcuWLrthfWgfq0OuYIUyB1LR4+eff741a9bMKlas6AIJOlY6LgEdP2335JNPxlL79T4LoqkGO++8s9s2GU0reOG</span>\n",
       "<span style=\"color: #d4b702; text-decoration-color: #d4b702; font-weight: bold\">FF+KyKt566y1bsmSJ60QnUl2C0047zbVP+6ZOnTquo63zK0zz+fWaX375pZ133nlWr149dyz322+/dfaDths8ePA6r6XjF35/Oh8vuOAC23zzzd1xr1</span>\n",
       "<span style=\"color: #d4b702; text-decoration-color: #d4b702; font-weight: bold\">Gjhu2xxx5uWkA6dtllF/fzjTfeSGt7AABSISgAAMhYSgu///777cwzz3Sd0BEjRrjO36BBg2zYsGF28cUX20knneQ6huqAhWmagjrn6pAp5f+KK66wn</span>\n",
       "<span style=\"color: #d4b702; text-decoration-color: #d4b702; font-weight: bold\">3/+2fr06bNOpzCRggEKPnz88ceFtrEor6ORbnXgFVhQJ/qAAw5I+bwKAFx44YW27bbb2t133+3qG2h/6O9XrlwZy1pQoESvo+J0//vf/1ygQVkZ60sj</span>\n",
       "<span style=\"color: #d4b702; text-decoration-color: #d4b702; font-weight: bold\">02XLlrVatWolfVwdf6W0K5ti9913tzvuuMN1utVWdajD+0UBAwVL9N+66T2lMmXKFJs0aZJ179495TaHH364m8YRrkMxdOhQ69u3b9Jgzddff+2mIhx</span>\n",
       "<span style=\"color: #d4b702; text-decoration-color: #d4b702; font-weight: bold\">66KF2zz332CmnnGIfffSRq1GgQEIinWfqtKtuxKmnnurOqzPOOMPWdz8qyLHXXnu5faT988MPP9gOO+xgU6dOTSuLQ9kRClQAALBBPAAAIuD000/XMH</span>\n",
       "<span style=\"color: #d4b702; text-decoration-color: #d4b702; font-weight: bold\">LSxwYOHOi1aNEi9vvEiRPdtvXq1fPmzZsXu//SSy9193ft2tVbuXJl7P7DDjvMq1Chgrds2TL3+8KFC71atWp5J554YtzrTJ8+3atZs+Y69yf68ccfv</span>\n",
       "<span style=\"color: #d4b702; text-decoration-color: #d4b702; font-weight: bold\">cqVK7vX6tatm3f22Wd7r7/+urd48eK47YryOnqPer5LLrmk0Pf/+eefu22fffbZuO2GDRsWd/9rr73mfv/666+9otphhx289u3be7NmzXK3X375xTvr</span>\n",
       "<span style=\"color: #d4b702; text-decoration-color: #d4b702; font-weight: bold\">rLPc8+29994p26b9oG2uu+66uOc78MADvby8PG/ChAmx+6pWrer+Ph3Dhw93z/vWW28lbWunTp3cf2+55Zbe8ccf7/577ty57rg/+eST3ieffOL+/qW</span>\n",
       "<span style=\"color: #d4b702; text-decoration-color: #d4b702; font-weight: bold\">XXor93ZIlS9Z5rpEjR7rtnnrqqdh9Q4YMcfftsssuXn5+fuz+c8891ytbtmzcOajtrrrqqnWeV/so/F51Lq5evTpuG53XFStW9K655pq4+/ScakOiXX</span>\n",
       "<span style=\"color: #d4b702; text-decoration-color: #d4b702; font-weight: bold\">fd1evQoUPKfQYAQDrIFAAAZCylemvENBAs06Z58OXKlYu7f8WKFW60WVS7YN68eS7dfPbs2bGbRsC17SeffFLg6yplX/UE9DoahddIvYrlKYVfRQED6</span>\n",
       "<span style=\"color: #d4b702; text-decoration-color: #d4b702; font-weight: bold\">/M6GoEuzEsvveTed79+/eKet0ePHi4jIXjeYDT/7bffjmUPFMWvv/7qUuV1U8FHZRoo60ErEKTy7rvvuvd31llnxd2vTA71mTWVYn38999/7ucmm2xS</span>\n",
       "<span style=\"color: #d4b702; text-decoration-color: #d4b702; font-weight: bold\">4HbKFnj11Vfd8dZKA2qL0vyT0ZSBgPaPXqNNmzZuv6loZCJlnYSnLijLYfXq1eu1PKKyJMqU8S/D9Bx6bR07ZVUke+1ktC903AEA2BAUGgQAZCwVnQs</span>\n",
       "<span style=\"color: #d4b702; text-decoration-color: #d4b702; font-weight: bold\">LAgSay57s/mC+/R9//OF+an56MprfXZi2bdu6lHd16DQdQB3vW265xXUcNW9fc76L+joKZKhWQWH0vPPnz0+aEh8udqhUdE1B0GoISudXWryCF+o4q1</span>\n",
       "<span style=\"color: #d4b702; text-decoration-color: #d4b702; font-weight: bold\">NaGM2DV5BDHWHVLdCSf6leM6AOcuPGjV1NhDAFFYLHN0S4LkEymgqgqSIKPmg6hdLzE9sSWLp0qVtdQQUMFTAKP7f2b2HnWxCgSKzjkA7VPVAwSdNfJ</span>\n",
       "<span style=\"color: #d4b702; text-decoration-color: #d4b702; font-weight: bold\">k6c6M6jgGobpEPtTVVfAQCAdBEUAABkLI0CF+X+oNMXFKJTp17LuyUKZxmk0wYVi9Otd+/ettNOO7nOqIICRX2d8OhxQfS86pzrdZLRyL6ow6jRctUQ</span>\n",
       "<span style=\"color: #d4b702; text-decoration-color: #d4b702; font-weight: bold\">0Pz3999/3xUZvP322919GpkuiIrpBQXtSlvQUS6sA96oUSMX/NB71Hz7glYcUI0ABQTOOeccd+wUPNI+U2Ah2RKQhZ1XBQl3+oPlGFVfQsdDRTFr167</span>\n",
       "<span style=\"color: #d4b702; text-decoration-color: #d4b702; font-weight: bold\">tjr3aku7yk9oXKiAJAMCGICgAAMg5KtAm6lgXZ6d3yy23dD9V7K4kX0fPO3z4cFdkMJwCn4pWDNDt+uuvd4X3VGzw+eeftxNOOMGKm4owqm0LFy6MG6</span>\n",
       "<span style=\"color: #d4b702; text-decoration-color: #d4b702; font-weight: bold\">HXVITg8UBRRrnbt2/vfmpUvTDKhNB70zQAreSQigImAwcOdAGE8BKGmvKxvpQ9kPj3msoQnBPh11YA6bHHHou7X3+bbkdf+6Jr167r3VYAAISaAgCAn</span>\n",
       "<span style=\"color: #d4b702; text-decoration-color: #d4b702; font-weight: bold\">KMK/Urd12htsrn2BS23J59//nnSv9N8etG88OJ4nVS0woJGnjXCnEgrGASdUo0kJ45id+vWzf1cvny5lQR1wtW2e++9N+5+TV9QEEDL7oUzEdLtgDdp</span>\n",
       "<span style=\"color: #d4b702; text-decoration-color: #d4b702; font-weight: bold\">0sRNC9ESi4U58MAD3QoBSs2vUKFCyu008p+4f1Q3IXFUv6gBm88++yzuvocffnid50z22qoVEdS9KIymN2j5ym222Wa92woAgJApAADIOeqoP/DAA3b</span>\n",
       "<span style=\"color: #d4b702; text-decoration-color: #d4b702; font-weight: bold\">UUUe5Je6ULq6Uey15984777gR+MRObZiWFhw3bpztv//+1qVLF3efisM99dRTLg1cKeDF8TqpqFaAlu/TfHgVPNSyg+XLl3e1BtSx1Fx1dYyffPJJ1z</span>\n",
       "<span style=\"color: #d4b702; text-decoration-color: #d4b702; font-weight: bold\">FWoT11VjV6rxoBaldBI+gbYu+993Yj4JdffrkrwqiR7A8++MDeeOMNt1+C7AlRYURlFWhJPtUhUC2GoFhkMgMGDLDXXnut0Ln0mgYwePDgQtuqegOa2</span>\n",
       "<span style=\"color: #d4b702; text-decoration-color: #d4b702; font-weight: bold\">qHtO3bsaCNHjnTtSXdOfzLKUNDShqrloEKQWsJQ0zYSR//12tdcc41bSlIdey1HqOkgrVq1Sut11E7tB+0TAAA2BEEBAEBOUoq5OqI33XST3XrrrW7k</span>\n",
       "<span style=\"color: #d4b702; text-decoration-color: #d4b702; font-weight: bold\">XKPRqiivjlpBLrvsMpeGP2LECNeR05r2msuuTr/miatzWxyvU5AHH3zQdaofeugh1x7VJ1BhQK2IoGBDEDwYM2aMmyowY8YM1/nt2bOna3O4jcVJ8+L</span>\n",
       "<span style=\"color: #d4b702; text-decoration-color: #d4b702; font-weight: bold\">ffPNNu/LKK+2FF15wc/bVLr13rUAQpmCACjMOGjTIFf1TKn9BQQHNv1cQRbUC+vTps8FtVfBEI/baH5o2oP2mzrYyPNbXiSee6NL6NS1g2LBh7jhrFY</span>\n",
       "<span style=\"color: #d4b702; text-decoration-color: #d4b702; font-weight: bold\">q+ffvGbadjtnjxYnceaT8paKRA0SWXXJLW6yj4o30QDrIAALA+8rQu4Xr9JQAAwEamzrWCLBrhz1XTp093QR0Fe8gUAABsKIICAAAgY4wePdqNvmuqR</span>\n",
       "<span style=\"color: #d4b702; text-decoration-color: #d4b702; font-weight: bold\">LhoYS5RNsHHH3/sskAAANhQBAUAAAAAAMhRrD4AAAAAAECOIigAAAAAAECOIigAAAAAAECOIigAAAAAAECOKmdZLj8/36ZOnWrVq1e3vLy80m4OAAAA</span>\n",
       "<span style=\"color: #d4b702; text-decoration-color: #d4b702; font-weight: bold\">ACDLeZ5nCxcudMvolikT7bH4rA8KKCDQrFmz0m4GAAAAACDHTJ482Zo2bWpRlvVBAWUIBAejRo0aFlUrV660Dz74wHbddVcrX768RQFtyrz2CG3KzDZ</span>\n",
       "<span style=\"color: #d4b702; text-decoration-color: #d4b702; font-weight: bold\">FrT1Cm9JDmzKvPUKbMrNNUWuP0KbMbFPU2iO0KXPblMyCBQvc4HTQH42yrA8KBFMGFBCIelCgSpUqro1ROblpU+a1R2hTZrYpau0R2pQe2pR57RHalJ</span>\n",
       "<span style=\"color: #d4b702; text-decoration-color: #d4b702; font-weight: bold\">ltilp7hDZlZpui1h6hTZnbpoJkwhT2aE9uAAAAAAAAJYagAAAAAAAAOYqgAAAAAAAAOYqgAAAAAAAAOapUgwIPPPCAdenSJVYEsHfv3vbee+/FHt9xx</span>\n",
       "<span style=\"color: #d4b702; text-decoration-color: #d4b702; font-weight: bold\">x1dYYbw7ZRTTinNJgMAAAAAkDVKdfUBrdd400032WabbWae59mTTz5pAwYMsG+++cY6derktjnxxBPtmmuuif2NKk0CAAAAAIAMDwrsvffecb9ff/31</span>\n",
       "<span style=\"color: #d4b702; text-decoration-color: #d4b702; font-weight: bold\">Lntg1KhRsaCAggANGzYspRYCAAAAAJC9SjUoELZ69Wp76aWXbPHixW4aQeDZZ5+1Z555xgUGFES44oorCswWWL58ubsFFixYEFvPUreoCtoWpTbSpsx</span>\n",
       "<span style=\"color: #d4b702; text-decoration-color: #d4b702; font-weight: bold\">rj9CmzGxT1NojtCk9tCnz2iO0KTPbFLX2CG3KzDZFrT1CmzK3TclEvX1heZ7y9kvRDz/84IIAy5Yts2rVqtnQoUOtf//+7rGHH37YWrRoYY0bN7bvv/</span>\n",
       "<span style=\"color: #d4b702; text-decoration-color: #d4b702; font-weight: bold\">/eLr74YuvZs6e9+uqrKZ9v8ODBdvXVV69zv56XqQcAAAAAgJK2ZMkSO/zww23+/Pmufl6UlXpQYMWKFTZp0iS3s15++WV79NFHbcSIEdaxY8d1tv344</span>\n",
       "<span style=\"color: #d4b702; text-decoration-color: #d4b702; font-weight: bold\">4+tb9++NmHCBGvdunXamQLNmjWz2bNnR/pgKJL04YcfWr9+/ax8+fIWBbQp89ojtCkz2xS19ghtSg9tyrz2CG3KzDZFrT1CmzKzTVFrj9CmzG1TMuqH</span>\n",
       "<span style=\"color: #d4b702; text-decoration-color: #d4b702; font-weight: bold\">1q1bNyOCAqU+faBChQrWpk0b9989evSwr7/+2u6++2576KGH1tm2V69e7mdBQYGKFSu6WyKdMFE+aaLcTtqUee0R2pSZbYpae4Q2pYc2ZV57hDZlZpu</span>\n",
       "<span style=\"color: #d4b702; text-decoration-color: #d4b702; font-weight: bold\">i1h6hTZnZpqi1R2hT5rYpLMpti9SShMnk5+fHjfSHffvtt+5no0aNNnKrAAAAAADIPqWaKXDppZfaHnvsYc2bN7eFCxe6ef+ffvqpvf/++/bnn3/G6g</span>\n",
       "<span style=\"color: #d4b702; text-decoration-color: #d4b702; font-weight: bold\">vUqVPH1RQ499xzbfvtt7cuXbqUZrMBAAAAAMgKpRoUmDlzph199NE2bdo0q1mzpuvsKyCg+SGTJ0+24cOH21133eVWJFBdgAMOOMAGDRpUmk1Gacpfb</span>\n",
       "<span style=\"color: #d4b702; text-decoration-color: #d4b702; font-weight: bold\">Xn/fGFN5oy0vH9qmLXa3qxM2dJuFQAAAArCNRwQaaUaFHjsscdSPqYggAoOAs7Pb5oNu9jKLZhqW+r3fx4wq9HYbPebzTruU9qtAwAAQDJcwwGRF7ma</span>\n",
       "<span style=\"color: #d4b702; text-decoration-color: #d4b702; font-weight: bold\">AkDSf0xePNpswdT4+xdM8+/X4wAAAIgWruGAjEBQANGWv9pFl82SrZy55r5hl/jbAQAAlFpa/Bdcj2TKNRzHDYjWkoRAgf75at3ochzPbMEUf7uW223</span>\n",
       "<span style=\"color: #d4b702; text-decoration-color: #d4b702; font-weight: bold\">EhgEAgJxGWnzxXMO9fppZw83NKtcyq1TTrNKanw06m5UpgfFLjhuwDoICiLZFM4p3OwAAgOJKi08cBQ/S4g9+ig7m7N/T2+775/1bWF4Zsyv+W/v766</span>\n",
       "<span style=\"color: #d4b702; text-decoration-color: #d4b702; font-weight: bold\">eb/f35uoGD4PdtzzEru2ZN+DkTzVavXPt4uYprn4fjBiRFUADR5Xlm/36d3rYjbvW/9Nv1p5otAAAoxbT4PD8tvv2euXlNMm+S2Zf3mI17Ir3tde1Wo</span>\n",
       "<span style=\"color: #d4b702; text-decoration-color: #d4b702; font-weight: bold\">arZ0nlmy+abLZvn3x/OEljwr9m8f/xbIgUQ+py/9vfhV5n9/Mba38tV8oMIFWuYzfub4wYkQVAA0bRsgdlbZ5n99Fp628/+1eyFI81qtzbb5gyzroeZ</span>\n",
       "<span style=\"color: #d4b702; text-decoration-color: #d4b702; font-weight: bold\">la9c0q0EAAC55rdhTG1MZcJws6GHmOWv8n8vU94sf2WKjfP8tP1Dnim8E7733WaLZsYHDtxtvtmq5fEBhCAIoMd0LFYtM1s03b8VaM1xG/+UWfeBJTN</span>\n",
       "<span style=\"color: #d4b702; text-decoration-color: #d4b702; font-weight: bold\">1IdOwlGTOICiA6Fm5zOyRnc3++8OsTDmzLoeYfTt0zYPh6G6e/2Ofe8zm/m329WNmc/40e/tcs6/uNTtjLF/owPriQgAA/KzFWb/6Hc/G3fz7FhYUEM</span>\n",
       "<span style=\"color: #d4b702; text-decoration-color: #d4b702; font-weight: bold\">jBqY3LF5pVrO7/d/Pea+sBbHe+33F/cWDqa7jdb0rv35ZNNvVv6dj/Yf9nfr7ZioVrAwnKHvj8tsL//u1zzD66xqz1Tmb7P5q715LUXsgpBAUQPeUrm</span>\n",
       "<span style=\"color: #d4b702; text-decoration-color: #d4b702; font-weight: bold\">XU+wOybZ8wOesKs2VZmbXf3U/XCkXn3xXTT2i+mPueZffO02cj7zTrsvfZLXP+gz59sVqt56bwfINNwIQAgl2mgYeJnZn+N8H8unmnWuq/ZUa/6j9dr</span>\n",
       "<span style=\"color: #d4b702; text-decoration-color: #d4b702; font-weight: bold\">n97zVGtg9tenZrP/MOtysN9Zzha6tlImxOe3my2cbnbKF/51l6YBnDbarFq9tdtqnn5h13AlQe1x9QfW7HcFBtIJCpSrbLZ0jtncf+IDAnqvCky03MG</span>\n",
       "<span style=\"color: #d4b702; text-decoration-color: #d4b702; font-weight: bold\">sal3LatReyDkEBRANKxabLZ1rVrOp//sOF5ltfYpZ5U383/XF035PW/XXZ/bt5+9bt+12s3KJI5cVq5ltfarZVif6qWIB/YP8zP5mHfYx2/YssyY9Nv</span>\n",
       "<span style=\"color: #d4b702; text-decoration-color: #d4b702; font-weight: bold\">KbAzIIFwJA6SA7p/S9e5HZ78PWnbeuTqKmJKojnJdn1mIbv1Or78Wk89PXpMVrO11/6Drkw6vMNj/QbMvj1mYcZCLtgz8+9DvIk0f59+WVNZv+/dr3F</span>\n",
       "<span style=\"color: #d4b702; text-decoration-color: #d4b702; font-weight: bold\">Q4IpHsNtzGke9zOHG827Tuz1cvjp7V+fL2Zt2bpwgabm7XawazVTmYtevvBkGxBzYycRFAApW/mL35qWbkKZscP9zMF9CUTBAQCZcqa16KPTflpgXVt</span>\n",
       "<span style=\"color: #d4b702; text-decoration-color: #d4b702; font-weight: bold\">0Sf1F1HZcmZlq639XZFsL9/s59f9W4ttzbY5y2yzXXM3JQxIhgsBoHSQnbNxKZ387y/8648dLlx7/+zf/ICApi422dKs5fZ+x6/pVvEV7PX9p2PjAqh</span>\n",
       "<span style=\"color: #d4b702; text-decoration-color: #d4b702; font-weight: bold\">5qdPiVQCv3Z7+SLqmIIx/0r817u4HB5QVWaGKZcy/D7qG+vxOsxk/+PeVrWC2xZH+NVXtlgX/fbrXcCUp3eOm69DmveL/VtNHNPCkAM+MH/19oNvIe/</span>\n",
       "<span style=\"color: #d4b702; text-decoration-color: #d4b702; font-weight: bold\">26CX3OMdt5kGWslUv9VRs0DfeP4dTMyEEEBVC6vn3O7J3zzFYuMaveyP/HuF674n2NnS8367Sv2Vf/M/vhJbN/vvRvdduZbXOmX5RQgQQg16W7pjQXA</span>\n",
       "<span style=\"color: #d4b702; text-decoration-color: #d4b702; font-weight: bold\">kDxITun5LMplI04aZTZxDXTATQKrMEC6X60WfUGa6ch9j7DrPnWa+fIp6Jjkk5afK+TzHqeaDZppF/7SPPap443e3O82Y+vmB39umUE7beXj/P/u3xV</span>\n",
       "<span style=\"color: #d4b702; text-decoration-color: #d4b702; font-weight: bold\">s62OM9v6dLMajSyjpHvcEin7Ybfr/f9WwUM3veRT/6YpqtUbrt32vz/N3r/crNWOflBJ002UYVLa2UKq2TV3op/t0aDj2noQ9/Xy/20vKj0X1wJZg54</span>\n",
       "<span style=\"color: #d4b702; text-decoration-color: #d4b702; font-weight: bold\">QSi8i+e6Ffg0AUfrV/o+sm3JWXBp0MtvvQbOdrzAb/YDZ2Cf8EYGv7jHrdkTJvCaQSVSQKd2iWLlSPAvFg7T41MjOKflsis/vMPvkhnUr4NfZzM8ECN</span>\n",
       "<span style=\"color: #d4b702; text-decoration-color: #d4b702; font-weight: bold\">+vDlxRpJsWH0w50G3RTWbfPms2bohfSDmwZI7Znx/7NZHCWQmlRYGUGT/7dZ1EHVzNpdd76HmSWZXalrE2dDpDtfr+VBDd1MGe81d8dutfn5j9/p5/c</span>\n",
       "<span style=\"color: #d4b702; text-decoration-color: #d4b702; font-weight: bold\">9s3WBMgWLMPazYp2Wwh/XuuaTAa9VeAQj+VBTD/X/97RXW6Dn/B37ZCNbMVi/z/rljTrE4rswrVzf7+rPDXeecCf5BA19HKwiX7NqMRFMDGp4I7mi4w</span>\n",
       "<span style=\"color: #d4b702; text-decoration-color: #d4b702; font-weight: bold\">8yf/gmeny/wKtRvjgkdfxLteZ7b9hWbjnjSr1Wztl9iKJWaf3WK25fH+/UC208XM5DH+xem8yWY7XpLe3+kCB0gHafEFIzuneLIpVJR4kxb+6K1ufa8</span>\n",
       "<span style=\"color: #d4b702; text-decoration-color: #d4b702; font-weight: bold\">ya9TF30a1itTxr9HU7/QrEKCbzsPiUNS0eA1+KNVcKfdBtoJ897zZ+5eaVanrp+T3OKbwlPySoPpOYx41G3W/375zf/SzJhTYOPqN9Ea8M0FxTWfQ/q</span>\n",
       "<span style=\"color: #d4b702; text-decoration-color: #d4b702; font-weight: bold\">jTOv4+DXTtcrWfRaAMEQXSv3/Bv8mRr5q16bv23+Ff3ipattCqFX5mbazD/5dZ1Xpr/w1Xm149yV95IVHFGvFBJ217zLt+tq4CPfpdwcq7OhdQe0H7r</span>\n",
       "<span style=\"color: #d4b702; text-decoration-color: #d4b702; font-weight: bold\">5xfc+G75/ybCjDqc9h4i/XZi4gAggLY+N69wA8IVK1vdsCjRY/MFwdVolXRwbDvhpp9cafZl/eYdd7f/wc7uKgAsokqMH/3gh8MmPnz2vu1rnOBRZjM</span>\n",
       "<span style=\"color: #d4b702; text-decoration-color: #d4b702; font-weight: bold\">/9xqpAgoDGnxhVMaeTo0Jz1XFZpNYWYvHRP/+Kbbrf33W6OiKhxXu1W0OrRuQCI0sqp57NUb+8sdfnmX2Zd3+x1H1R7YbLeSn+aolPiR9/lTHILOpDp</span>\n",
       "<span style=\"color: #d4b702; text-decoration-color: #d4b702; font-weight: bold\">6Womh4eb+71Haf1GmIIECP7opZX/yaH/qioIE038wa+pCpL5Prjf74q70soVeGuj//bxJ8QEl0RSFcFCg3R5+MKx2a789+qnPgFZNSDyODTsXvfbCgY</span>\n",
       "<span style=\"color: #d4b702; text-decoration-color: #d4b702; font-weight: bold\">/7gQRl/P74mv+9Hl4yUoEKnc86r5ERCApg49vnf2bDLjXb8/b4OVilrV4Hf/RAowyqPaCbUr0UHGi9M/8YIvOpqJaKIv34ql/HI6iqrSBYj2P9C4OUF</span>\n",
       "<span style=\"color: #d4b702; text-decoration-color: #d4b702; font-weight: bold\">wJrbHs2acwoHGnxBe+bPz4wG/2g30lIxweX+xfZXQ/1R8RzSaHZFOL532UuE2AHs7a7rX2oUg3/FnXq/G9xtJ/2PfZxsz8/Mpsw3L/VamF2xtclM61A</span>\n",
       "<span style=\"color: #d4b702; text-decoration-color: #d4b702; font-weight: bold\">AafPbvM7d8HKTfU7+hmcHfel5tKGUqfYrVKwg1nfK82WL/JXywqoxkTi1JZU2UKaAqAgjXveqn6qvzr66vAnLpN5wCMbp/ZCs57+71O/jZ9C8coJZv9</span>\n",
       "<span style=\"color: #d4b702; text-decoration-color: #d4b702; font-weight: bold\">NMNv8ID/zpVE3rqMjjk86Sp4uZCZ85BfakVrNzQ591iJn023NNn3L/2JTUcKfXltbREZR8uM/9JckCjBPNnPl6rHT1J1vnlkbBNvyWH9Oa+VahV8IKO</span>\n",
       "<span style=\"color: #d4b702; text-decoration-color: #d4b702; font-weight: bold\">K//flmW52w8duNzKP13UmLXzdD55tnzcY8tPbCXsERdfTCy+iuI89PP/70Bv927DB/CbRc2We/vJnetnvfbdY1NEc/E6kD3mEv/6Zrp3FP+N/ZTbrHB</span>\n",
       "<span style=\"color: #d4b702; text-decoration-color: #d4b702; font-weight: bold\">wT+HeenaRfHHG7VDhj7mD/yrFUWFAxQZgLzw0tGOCAgWkb7vdAKGKnoO0CFDrXSgUb+NY2vpDvZ6dZe0HKMuoYOT0FR5ok+v18/6t/qdzLb4gj/mkPZ</span>\n",
       "<span style=\"color: #d4b702; text-decoration-color: #d4b702; font-weight: bold\">CogcggIo+fTRN043W77ADwaEo/dRpXV2D3zMj+iOesBs/FP+XMRwQEAjrR9czjzZTJQrc5wV3NL0gDpt/FU2ROmE6tQrct+sV+oLinQuBHRRqguTcEA</span>\n",
       "<span style=\"color: #d4b702; text-decoration-color: #d4b702; font-weight: bold\">BuU11WTSqqfmxuqVDBeC8i/1072wPzGmNcwUEgils3Qf6n0dVwnfZOZY8TVdFeNVhU3E6LWsXTj3W95mey+2/LOnELZxh9ts7Zr+87WfuFTiKGlJcNQ</span>\n",
       "<span style=\"color: #d4b702; text-decoration-color: #d4b702; font-weight: bold\">KiQiPA/a4x2+lyfwnFcHD30Z39VG1leGkUNrGTVVDge8o4s0mjzXqf5v+u73Fd72gJxk37MJq7sdXvkN52CgKURgB1fWovKGPg7O/9KRMKaunfA00bf</span>\n",
       "<span style=\"color: #d4b702; text-decoration-color: #d4b702; font-weight: bold\">v8ysw+vXFtLDJFCUAAlQ0VQ9MFXpX9ptrVZg4Q5S1GnFM09bjLb4SI/qBFQWt/b5667PfNkoy/b5zgrLVFLXCkYMPUb/74aTcx6ne</span>\n",
       "<span style=\"color: #d4b702; text-decoration-color: #d4b702; font-weight: bold\">..._This content has been truncated to stay below 20000 characters_...</span>\n",
       "<span style=\"color: #d4b702; text-decoration-color: #d4b702; font-weight: bold\">pWrlzp1mdkZMikSZNk7ty5wbbVq1cP9DRr1kw2b97stkPThAkT3HH22WefQBMBKb0OvgPbHH744S7f2A4mT57s1i9cuNBd06ZNm9z6pk2bFkmjFi1ay</span>\n",
       "<span style=\"color: #d4b702; text-decoration-color: #d4b702; font-weight: bold\">I8//ujyjWP76YGmBg0auL+7dOni1nM8tiFdOdecOXMkJydnlzRim6VLl8qvv/7q0qBevXoyY8aMIJ30Grh+bMPXxPXPnj07yLeDDz64SDrp3/pJOl18</span>\n",
       "<span style=\"color: #d4b702; text-decoration-color: #d4b702; font-weight: bold\">8cVBGnE+TSdfk25Lvv3222/u+Fy/kpWV5T6rVasW2NJJJ53k1i1atMhdMzYDRxxxRLDf6aefHlxzpHx74403JD8/Xzp37izPPvusS8P99tvP7UP6oOO</span>\n",
       "<span style=\"color: #d4b702; text-decoration-color: #d4b702; font-weight: bold\">LL75w31977bUgjcg37K8sbalv375un+eeey44zmGHHVbElqJpql27dsR8U1uqWrVqEU3YAOy9994xNXFM7E5tT22Ae45822uvvdx5fPtmP9K4a9euEe</span>\n",
       "<span style=\"color: #d4b702; text-decoration-color: #d4b702; font-weight: bold\">1bbYlz+fZds2ZN9/fq1avdJ8fzbQkbjmbf1157rbMl8oXjaJ7q74B/Lgtb4n5cvHixyxt8JDz99NOydu3awJai+YA99tijiC2RRlybb0t+GrVq1cr5b</span>\n",
       "<span style=\"color: #d4b702; text-decoration-color: #d4b702; font-weight: bold\">rWlaD6A+4d0UL/E9h9//LF8/fXXwbmXLVsWaCJN2aYkfknPtX79epk+fbpLL9B8Y6Ec8PPtww8/dOmkfon7xNcExbGlcE2cm+OGa1JbatiwYaDp/PPP</span>\n",
       "<span style=\"color: #d4b702; text-decoration-color: #d4b702; font-weight: bold\">D2ypTp06zpZ0P/wGYC9qSwMHDnTr5s2b5/JB763f//73QR6OGjUqsEGFNNJ7HS2rVq1yvgV8+54/f7688sor8t5777nvO3bsCNJI/UtxbYnzal0gWr5</span>\n",
       "<span style=\"color: #d4b702; text-decoration-color: #d4b702; font-weight: bold\">FKuM++OADWbJkifM/FWFLnON///tfcB6Os3Xr1iDfytuWNF8ffvhh2bZtm/ub6/NtiXsSW0IPqJ3gl9WWqDsA37El7A/UX8E555xTxJbC04h9SYsaNW</span>\n",
       "<span style=\"color: #d4b702; text-decoration-color: #d4b702; font-weight: bold\">pIp06d5N133w22xZ9yvfgCyMzMDK5F8400Crelfffddxdb6tevX5BGarfYZiT7pq6I3wm3JXwW57/99tsDjdHsu6xsaeTIkUXuDY7z4IMPSt26dZ0G8</span>\n",
       "<span style=\"color: #d4b702; text-decoration-color: #d4b702; font-weight: bold\">qlJkyZF0gmwL8o/XxPpxDnUltjXTyetV1NfUDiun05cf5s2bYr4AHRSB37//ffll19+cWl18sknB9dCXofXl4rrl9Dz7bffOq3ql1gXXu7+/PPPrh6g</span>\n",
       "<span style=\"color: #d4b702; text-decoration-color: #d4b702; font-weight: bold\">fknLIv9a/fpSsuWu2pKWu/gbjklbS+twgCa9T8hLvw4Xr9xFE+fTdhqa1G7C2yLc1+or9VpJAzTpsdQ2OBb1pAEDBgTtKS1jyHu/7s3fmk6K3otqJ+S</span>\n",
       "<span style=\"color: #d4b702; text-decoration-color: #d4b702; font-weight: bold\">hX4dTTX47LFI65UZok3LfkL/oQ2ePHj2cPw+vV2L/aruRNLHvQQcdlJAm9XmJtJNVU7S2YCKUe1AAg7ziiitk0KBB0r17d7cOgyBx/MozcGH8FgkqaG</span>\n",
       "<span style=\"color: #d4b702; text-decoration-color: #d4b702; font-weight: bold\">PGjJELL7wwWIdBP/XUU/L666+7pW3btnLIIYe4TIyGHv/RRx8toolCiEwM14Rz4BoS0cSxW7duXUSTGu8nn3yStCY1oHBNOLNw1Cg4D5pwfJqeqummm</span>\n",
       "<span style=\"color: #d4b702; text-decoration-color: #d4b702; font-weight: bold\">25yBQLftWFHIeHr4GbSQgAomLXxqzq1cqFoQaQ3CmnJcdXZT5061WnW6+AmIl258Y899liXbzhMoIBmXwpg39BxuH4asQ96tEGsuhUcFqgD5HgcV69d</span>\n",
       "<span style=\"color: #d4b702; text-decoration-color: #d4b702; font-weight: bold\">HWF4GnFcjsWNpteiQSNNe66TvAnPN00nzTcKq0j5pvtxbCpdmm84BU0nKrbYF+eigD/xxBMDW2IbP9+0YoUT12M/8cQTbjstAMn3cFvy0zdSvhFEghE</span>\n",
       "<span style=\"color: #d4b702; text-decoration-color: #d4b702; font-weight: bold\">jRriGJA6Ja9JCE/vWxqlvS3pctZOysCXSjfyiwKLg5bqys7Pd9mpL3LeRNGlhF55v0WwJh+/bVDRNFDArVqxw573mmmucLbF+zZo1wXF1X9++0YTdR7</span>\n",
       "<span style=\"color: #d4b702; text-decoration-color: #d4b702; font-weight: bold\">JvtSUaJbFsieP5tkTlVq+bbbTSQSV+//33D2yJ/PNtiUpNWdrSzTffLC+88IJ89tlnQQCXgnfs2LGBLVGYRfIBVIp8W9I0Up1+gBP03Lo+mg+g0P3nP</span>\n",
       "<span style=\"color: #d4b702; text-decoration-color: #d4b702; font-weight: bold\">//p8u7AAw90lVX24Tq5D8P9EmlBYKkkfsm3f9KV7bnfNd9If/XV2PngwYOLBAnZ3rcl9UvFsaVwTRyH44ZrUlvi2tGCJt+WyB/dzw9YUWH1fSX3m1+x</span>\n",
       "<span style=\"color: #d4b702; text-decoration-color: #d4b702; font-weight: bold\">DrclroXrUDsD0kh1Uinjt1NOOSXQTTrhs7n3SC/dlgqWppFfHhTXllRTtHxTe9UAO/bBvlQqKZcrwpY4D/ffAQccEPhMjqX5VhG2dMstt7h6DvU1KrH</span>\n",
       "<span style=\"color: #d4b702; text-decoration-color: #d4b702; font-weight: bold\">YAw2XcFvSfFO/tH379iK2RH5qXsXyS5HyDbTB3759e1eG0YjkOvGlbIddaf5QwddrIY204Uj54NsSwQXflsJBE+kXyb5Jo1dffbWIdupLaEI7dQHy4M</span>\n",
       "<span style=\"color: #d4b702; text-decoration-color: #d4b702; font-weight: bold\">knnyySvuH2XVa2RIOehcAu5yY/SB8aPGpL6mc1nTR/tB6tmjSd1Jb8Bx2RNAHHDU8n8mXWrFnOFm+77bagnMLP6LX6fkmPh82V1C9hr1OmTHFtAPVLl</span>\n",
       "<span style=\"color: #d4b702; text-decoration-color: #d4b702; font-weight: bold\">GN+vZIHFfgAftO6BAEkv9zVB32+vmTKXf2Na0QTwQc0abl76aWXBsfmeOg45phjitThYpW7qon1fjuN9Aj3leGaOB6aPv30U6fJP5Zq4m8CUdgtfl3t</span>\n",
       "<span style=\"color: #d4b702; text-decoration-color: #d4b702; font-weight: bold\">16/DkRZ+Ovn5Qv1Gj0tgIbxe6Z8rUjotD2uTUs8lnVhPWfe73/0u0Om3B/S46guiadJ942ny7+VE2smJHDflggIYI09aX3755WIfg/2PO+44V5BodBh</span>\n",
       "<span style=\"color: #d4b702; text-decoration-color: #d4b702; font-weight: bold\">IQCJ5PDWkwHvmmWfcJ5FLoPKJk9RFK4HAU6KSaKIAw7FppFQhA31Nd955p1v//PPP76KJCCBRrdLSBFdddZXTxA0WrkkbDaSjno9FNeFQqcCh6f7773</span>\n",
       "<span style=\"color: #d4b702; text-decoration-color: #d4b702; font-weight: bold\">fbaOGTDP3793fH9XtHcNwjjzzS/U0hwoLx4zTJN3XgVMgJXpC32kD0KW4acR72Pffcc933cMdCGuEoiWKSr/fdd19QOT/++OOdJs03nJ3fe6S4mkin7</span>\n",
       "<span style=\"color: #d4b702; text-decoration-color: #d4b702; font-weight: bold\">7//Psg30ONSuSAQ8Pe//909HcTRqS1RUfPz7a677gqeQPmawh1VInrYTyt6L774ovskqIdt4LRIJ8077Fujo74tab5xLWVlS2jCpnGARJixbfKYa1Zb</span>\n",
       "<span style=\"color: #d4b702; text-decoration-color: #d4b702; font-weight: bold\">orGn+aaa/AK9JPnGvr4v4lopwLArKrl33323q+SwDfe55g/7htt3aWji2n1bCrdvDQxwXp7kqC1RCQr3AX4lvLRt6Y477pDLL7/cVQixbxooVCzxj2p</span>\n",
       "<span style=\"color: #d4b702; text-decoration-color: #d4b702; font-weight: bold\">LVPjYlyCZ7wNKakvqA/SJi6YRT6vwTTxJI1DBZ8eOHYsUsL5fIp00sFTSfCNdCbaddtppQXnio76bAKo+PQHO79uS+qXSsCXubfaNpomKSocOHZwe35</span>\n",
       "<span style=\"color: #d4b702; text-decoration-color: #d4b702; font-weight: bold\">bUL9GwQo8+4cB/+ZoIJCQLaYQfptwlSAnayPbPjV2deeaZ7slguC2hCf9eGrak+YZPpEGkaXTGGWe4z969e7snffgmfBdPSTWwUN629Oc//9mdGx+JL</span>\n",
       "<span style=\"color: #d4b702; text-decoration-color: #d4b702; font-weight: bold\">eG/qTRrvlWELaGDyjX5RUCQRjn+UTUR6Pbz7bzzzovol/QJaLJpxPWy70UXXeTW06jEDxFYIp3oxcTTYx4waa80Gsa+fWsdi2BCSWwJ0MR5fVu68sor</span>\n",
       "<span style=\"color: #d4b702; text-decoration-color: #d4b702; font-weight: bold\">3Sf5RQOFck/rS6RXJFtS+y4rW6IxS1rxG08yCeqgTQOA2BIa0TRkyJDAlkpDk+5L+eZrohz57rvvXO+zhx56KHiopnlLuRzJL2kP5uL6Jdol+J1bb73</span>\n",
       "<span style=\"color: #d4b702; text-decoration-color: #d4b702; font-weight: bold\">V9SpRv+Tfz/hvbEkb3ieccEJwPr/cJaiEzvD2QLLlLv4ITdTx0aTlud9GocHKdtRP/DpcrHK3JOD/NJ1Gjx4dpL/6SqBXDXbFPeefm23RVNr46XS4V4</span>\n",
       "<span style=\"color: #d4b702; text-decoration-color: #d4b702; font-weight: bold\">9TaCvysIdyjs+XXnop+I1yqCw0aZ1JH1qUF+UaFLjsssucIyVC5D81xRiJBPkNV+BJTXi0EEOhWzDRnBtvvDGhhNVuWzyFpqKsC8ZPpBz49DVhINyU4</span>\n",
       "<span style=\"color: #d4b702; text-decoration-color: #d4b702; font-weight: bold\">ZrohhEedUIT67np+JunTHpdXEP4NfkNNl8TBTUR3GiaNFoWrsnvdqZ8+eWX7pOKCJpwjJqeqoFPnIw6w3BN3LSAs//mm2/c3zh0KnUcR/MmvOeEdpvz</span>\n",
       "<span style=\"color: #d4b702; text-decoration-color: #d4b702; font-weight: bold\">nT8aNAigx9WCU/OfNNdjqiPgu+p55513guNpxFPTSK9Nn2SEv+Kh10i3NV+TpiWvTmiaaBchooEUdkQGNc30KbxqwkFoHvj5xjE0nTTf6DIeKd98G/f</span>\n",
       "<span style=\"color: #d4b702; text-decoration-color: #d4b702; font-weight: bold\">zjS76pCEaaZTQYLvgggtcoUE0XDXpNakmGlnAPqrpsccec2mg59IC1LelcFsN16TRf2yde5munXT1pgAjzylc9Hi+Lfn5Vh62xHWw0DWdez+WLXE+fU</span>\n",
       "<span style=\"color: #d4b702; text-decoration-color: #d4b702; font-weight: bold\">Idnm/RbEkLeb8S4dsSmtBLMILCRgMYaPKfBoTnm2pi30ceeSSifast6ZOoRG2JruaqgW3Qe9ZZZ7lKte8Twu2bJ/lAFL0sbIlKEhU6KmBcA+enGyMVX</span>\n",
       "<span style=\"color: #d4b702; text-decoration-color: #d4b702; font-weight: bold\">c3zaLZE90a1JZ7+6LWprvDKpx4nmi2pD7jhhhvc+ekayVMdAnL4ZoKE6o99W8IHaBoU1y/5+UYaaHmi+ca5OYfvu/VJVyy/VBxbiqTJL+PCbYkeOf73</span>\n",
       "<span style=\"color: #d4b702; text-decoration-color: #d4b702; font-weight: bold\">aLb01ltvue/cF76v5H4KL+d9W8IuNMDmo5qoC1Am46/9Lvo03rRBoE9C1QerJg2sFNeWfE1cL3UTGh+aRvSoAiqTpDcNJnpU4CM0KFDetkQFl4Yrvhu</span>\n",
       "<span style=\"color: #d4b702; text-decoration-color: #d4b702; font-weight: bold\">fzZNNyhbtDVeRtqS2Q/CA64xmS2o/7OPbEr42Eb8UzZa0+zUNWNKGIIWWJ/oQRe3d90t+vvF3LFsKh9/1tYpItsT1+vbNcX744QfXWKC+CH6PCr9Oqf</span>\n",
       "<span style=\"color: #d4b702; text-decoration-color: #d4b702; font-weight: bold\">ZdVrZEWcA5qWsQ+OI+Pfroo4Nu0tFsCbC/WLYU/mQzni1pOlHekY807jiGBn39J+zYhGrSXg+kVXH9kt8uoaHv+yXyyLdv9d3UvTU4EO6XtPHvtweSK</span>\n",
       "<span style=\"color: #d4b702; text-decoration-color: #d4b702; font-weight: bold\">XejaaI3QLy6t6ZXtHKX3im6rV6PX38L95XRNNF+45UOTX/1ldgMgQite0Ok3iOkP/di+PlYr3U4INgYXq9UTVoXCm9Ttghrk2Lf2vPs0EMPdf47VvtO</span>\n",
       "<span style=\"color: #d4b702; text-decoration-color: #d4b702; font-weight: bold\">X1mNpinWvtH8RCLt5OIcdxdC5QADSTBICiNEMtVftAEUGDxGYcpCfwAFYJRGBu5gcItEYRRGBmmKpYnRGf/2t78VGRlSBxqMpMkfxCOWJh1MIicnJ1j</span>\n",
       "<span style=\"color: #d4b702; text-decoration-color: #d4b702; font-weight: bold\">HYDoMTBJJE4MBMthJNE06iEckTSwrVqwINDEoCNewbds2t45BVhiV0tfEaJgMdhJN08yZM4PrZUYHBgNhRgYdMINBzfTceo2qRwdUQZOmEQNMMeAF6/</span>\n",
       "<span style=\"color: #d4b702; text-decoration-color: #d4b702; font-weight: bold\">z8RpNem+a3ji6s16SDnulxGalT00jPyfR9/sA5uq+fRgzCEUkTU31wfRyPganY9t///rcb2ZSBXEgjBkthPaN+Kh9++GFwbEZbVk2sRwfn9gcaDE+nW</span>\n",
       "<span style=\"color: #d4b702; text-decoration-color: #d4b702; font-weight: bold\">Pnm3xeabz/++KPbB61o0tGM/XTSQfcYHVltyc83bEnT6OWXXw72YzC5WJpYx0A+jHSLjhtvvDHID2yXdYzwyncG0/LzTafWKQ9b0qmhGGkem45mS76m</span>\n",
       "<span style=\"color: #d4b702; text-decoration-color: #d4b702; font-weight: bold\">SPnm21KkfItmS6qJgev49PON0e75jJRvOqgfC/tEsm9/QK9I9q0DDYbbkg7mw/F0cCNGxY1n3wzSxTpGSS9tWyJtBgwY4GZ+8PNNB3BiRoBItuRPk6i</span>\n",
       "<span style=\"color: #d4b702; text-decoration-color: #d4b702; font-weight: bold\">2hH9T/+HbUngaafrF8wHhAx4x+jb+UqcYi+YDiuuX1E8zgBf3mJYnmm/cV1wvdrF69WqXb4wGrdPkxtJUXFtCEwN6MfiRX8b5tkQacW2MWh7PlsaOHe</span>\n",
       "<span style=\"color: #d4b702; text-decoration-color: #d4b702; font-weight: bold\">vWMYib2tKdd94Z7OeXcf70TDqtrz/QYLgmZgJgNGwGG0YP23IORq6GK6+80h2D7RT/WotjS/5Ag9HyLZIt6bboqwhb4ju+G5vHB5DmnIvBvCraltS+8</span>\n",
       "<span style=\"color: #d4b702; text-decoration-color: #d4b702; font-weight: bold\">a0MVBfNlhgVXgeSVFvy8w1b0gHUGLxOYdAyvw4Xrkn14OPYju013xhkjnX4Kz79Qa79NEKv2pJv374t6bX4aaQDDYbnm2/fcPvttwd5ofats/lEqxuW</span>\n",
       "<span style=\"color: #d4b702; text-decoration-color: #d4b702; font-weight: bold\">lS0xUw8Ds/p+iXzU+yOaLeH7uV7VRH6xb/hAg5HSSQcaDLclP53UltDPtZM+2BJ/c71+OulgbYz6Xxy/RH6rjvD2AHqYLs+ve3MOBkmk7h3PL7Fdccp</span>\n",
       "<span style=\"color: #d4b702; text-decoration-color: #d4b702; font-weight: bold\">d/FkkTeFtrUh1b7Xv8HI30kCD4fecX776+5JGlNuR2kq+D2CmBeyM+1MHGwW9H6P5JdLRXx9poMHwdhj2E639tj5Gm1RnotNB/cKvVQcaDNcaaaDBSJ</span>\n",
       "<span style=\"color: #d4b702; text-decoration-color: #d4b702; font-weight: bold\">qikUg7OZom7jW9l+NRLkEBHAqFJ1M/+FMFMtexwqjh3LiffPKJS0ymHGFRqFTT6GLUR/8YjGKtMHL/m2++Gfrll1/c9oy+TgLh/GJpYsoJEu25555zI</span>\n",
       "<span style=\"color: #d4b702; text-decoration-color: #d4b702; font-weight: bold\">8hT2dIpCVUT03XQyKJCg3Ez3QOjQHKzRtNEJrItU+GQWYyuqXPZqyZGhORYLNzIOCIq4ugL18T1YxThmnQkc6an4Bzsp9PJqCZGwuT4TMGB0TIKKzow</span>\n",
       "<span style=\"color: #d4b702; text-decoration-color: #d4b702; font-weight: bold\">cNVEYxKjVE06CimFItN0MM0H2zEFxg8//OA0aeOGKVqYtoN006mh0IQ+zqfznaomRsPlOmgAMH2MFiI0OJnOhO9MA0OjgcoB6cD+Oi8qx9O5OBltFqe</span>\n",
       "<span style=\"color: #d4b702; text-decoration-color: #d4b702; font-weight: bold\">r+UZBpdPdMbI663RaGLZFE3lPeuhcvGiioqRTELKtVoC4WTWNaGhyPLQzpaVOWcRv2IZW3rWx4ecbxyWdmApHC3H203wjnfhOUELzjetHw1NPPRVMG8</span>\n",
       "<span style=\"color: #d4b702; text-decoration-color: #d4b702; font-weight: bold\">U2TBejmjgX5ySPdcosnaKOEfA13ziW2pJOicg5mS4I5842Ot0WmnSaONJC04hpXGgYYX/cO/o7aaL2zXEZUZ58e+edd4rkW1nZEse944473L2omjQwo</span>\n",
       "<span style=\"color: #d4b702; text-decoration-color: #d4b702; font-weight: bold\">LZEARtNEyNG63R3mm+cH32qSfNNp2tSW6Kw1Aabr4n7kvNiH+hmX53aiAUt5AkFzF133eX2J/3QT2MPTezn27faEku4ffu2hCa+U8CrLWHfXCuBR7ZH</span>\n",
       "<span style=\"color: #d4b702; text-decoration-color: #d4b702; font-weight: bold\">CwETplhSW6KSzbV9+eWXgX2rnZaFLaGH9CFQwe+kIxpIO7Ul8imaD+Bama6JffFpakvakCCNqGhwTM6j106+4Zs5RrgPIO0YzRh97KP5hx/nmOQXU0b</span>\n",
       "<span style=\"color: #d4b702; text-decoration-color: #d4b702; font-weight: bold\">xyWjspBH3fkn80ltvveWuhbQn7bhHGB2cEcvRhEYWtPCpUxJqvmPnaEILPlT9UnFtiXVUNgmq65zRaEKPn07YDr+jhfNQIVdb4n7jevDxaktakSUgj2</span>\n",
       "<span style=\"color: #d4b702; text-decoration-color: #d4b702; font-weight: bold\">3qtLs0TlWTzqXO/UYlXBv5aFBNHIPZTzSN8I86NRr3Hn9z/RyDhp3aEvZGXpHe2IDabnFsiXIKTeynjavwfEM3FU78kupDAw2QirIlneYMbVw/+ci2f</span>\n",
       "<span style=\"color: #d4b702; text-decoration-color: #d4b702; font-weight: bold\">hlXnrbE8dBCo4C01mAtZalqYgpRNBIMCLelP/3pT0G+oUn9EuWmNtqoU2EHXAfXq7akdQ1mFtE0oj7INhyLacg0XbEJFrUl8oyFCr6fb1wv51L7Jm0o</span>\n",
       "<span style=\"color: #d4b702; text-decoration-color: #d4b702; font-weight: bold\">m31bwobwZ6Qzx2Y6QLUlzTcavqqJe4j17EMDkmNwbPwtATm+cwz8eTT7Lgtb0gaQTrWJfZBGWmZgS4x0T/rcdNNNgS1pIArtHIN0pvFLWa+2RFqRTvf</span>\n",
       "<span style=\"color: #d4b702; text-decoration-color: #d4b702; font-weight: bold\">ff7/TrPe02pL6ZdJJbYlt2Y5ZA/yZf5gnXm1J605Mn/rCCy+4dCquX9L6GGlLHml5R/sDPfglnbZQfYD6bK17a0CIfKNxhx4W3S7ZcpdjqSbqrhyHv1</span>\n",
       "<span style=\"color: #d4b702; text-decoration-color: #d4b702; font-weight: bold\">WT1uHQq0F/dJC33EvRyl3SkHtTp2+lsU0e0GZQX6nTWVKHYvp5HqyxL4ER1URDHxujTaRtJQJuHJvj0cBXn09jmmvjb+yI/bjnCP5iS8zChW1Sb2NKQ</span>\n",
       "<span style=\"color: #d4b702; text-decoration-color: #d4b702; font-weight: bold\">WwD+/On/yO/ODd6CQKwDcfDRrRNiRZs7Ntvvw000SZFOwEi/A42Sr2W68dH6PR/Wq8k6M3xdErC3r17hyZNmuTqUuGaaBtyr4Zr8qckZF/S9rfffku4</span>\n",
       "<span style=\"color: #d4b702; text-decoration-color: #d4b702; font-weight: bold\">nayaNP19TYlSLkEBjeaELzh3hac0TAdBJuhTawxY8adS8RcMROFGJWO5UXFOVOJIvGQ0cUPgNIj0+pr0Rklk8TVR2dWCAMPEqHxNCxYsiHs81URUmBu</span>\n",
       "<span style=\"color: #d4b702; text-decoration-color: #d4b702; font-weight: bold\">+uJq4kbSQUyfoayI/WBdPk1Yi0ETUWucT5Tc/yhtrwbC5jmi/E5BZuHBhUADqnMqJ5JvOU+3PVZ1oGuk81eELDQjSaM2aNc4xJ3K88Hwj+JFMnrGQzz</span>\n",
       "<span style=\"color: #d4b702; text-decoration-color: #d4b702; font-weight: bold\">r1kL/4+UahzTptVCeqiWvSymkyC/mv9yn3m/+UCE1UOKmgqP7ysCUcoz4Z8hcKF7WlRDVFsqVk803tO5LdUrCRb759J2tLFCbFsW+dQkinPgy3JSoGr</span>\n",
       "<span style=\"color: #d4b702; text-decoration-color: #d4b702; font-weight: bold\">NOKeXnYkj69UZ8UbkuJ+oBItqRpFMk2oqURBW+k/FZbwgcMGTIkoXQqLb9EhTrcD/j55msqL1vSnh3hi2oisJU6Ns0AAAWvSURBVKzplowm8lEbFsks</span>\n",
       "<span style=\"color: #d4b702; text-decoration-color: #d4b702; font-weight: bold\">sc6DJipIVFwT0VRatqQN21SzJZ0v3r+WirIlGjfagI9m3zROWad1qWT8kgY2k1mwbTT5dSVfEw+ftCdTPE1oCLcltT//2PHyDd+sgQdfl9oS9dVE7bs</span>\n",
       "<span style=\"color: #d4b702; text-decoration-color: #d4b702; font-weight: bold\">0bSmSHyCoq7ak6RRvobz3bYlGaCK+w19IHxpo4enq25I+XU22jCuuX8Jv02iNpgm/pPdbcey7uOVutN8SLXfRT6OVRqfat6YTwR7K9Xh1Um0r0VsgWt</span>\n",
       "<span style=\"color: #d4b702; text-decoration-color: #d4b702; font-weight: bold\">2bfCJo4Ne9/SmVw22Ih2qbNm0K2li0a9DEAwH0EBDhePHalNnZ2cFDBE137fGRl5fntvHrlfgLgiq5ublOK0EAdOo01b4mmD59+i6afGivaXss0Xaya</span>\n",
       "<span style=\"color: #d4b702; text-decoration-color: #d4b702; font-weight: bold\">tL09zUlSpXCBrJhGIZhGIZhGIZhGJWMcp99wDAMwzAMwzAMwzCM1MCCAoZhGIZhGIZhGIZRSbGggGEYhmEYhmEYhmFUUiwoYBiGYRiGYRiGYRiVFAsK</span>\n",
       "<span style=\"color: #d4b702; text-decoration-color: #d4b702; font-weight: bold\">GIZhGIZhGIZhGEYlxYIChmEYhmEYhmEYhlFJsaCAYRiGYRiGYRiGYVRSLChgGIZhGIZhGIZhGJUUCwoYhmEYhmEYhmEYRiXFggKGYRiGsZtz7rnnSpU</span>\n",
       "<span style=\"color: #d4b702; text-decoration-color: #d4b702; font-weight: bold\">qVdySmZkpzZs3l2HDhskzzzwj+fn5CR/nueeekwYNGpSpVsMwDMMwyhcLChiGYRhGJeCII46QZcuWycKFC+WDDz6QQw89VC6//HI5+uijZceOHRUtzz</span>\n",
       "<span style=\"color: #d4b702; text-decoration-color: #d4b702; font-weight: bold\">AMwzCMCsKCAoZhGIZRCahRo4a0aNFCWrduLX369JHrr79e3nrrLRcgoAcAPPDAA9KjRw+pXbu2tG3bVi655BLZvHmz+23ChAkyatQo2bBhQ9Dr4NZbb</span>\n",
       "<span style=\"color: #d4b702; text-decoration-color: #d4b702; font-weight: bold\">3W/bd++Xa666ip3bPYdMGCA294wDMMwjNTHggKGYRiGUUkZMmSI9OzZU9544w33PSMjQx555BGZOXOmPP/88/LJJ5/I1Vdf7X474IAD5KGHHpJ69eq5</span>\n",
       "<span style=\"color: #d4b702; text-decoration-color: #d4b702; font-weight: bold\">HgcsBALgsssuk4kTJ8rLL78sP/zwg5x88smuZ8Ivv/xSoddnGIZhGEZ8qoRCoVAC2xmGYRiGkcZjCqxfv17efPPNXX479dRTXUN+1qxZu/z22muvyUU</span>\n",
       "<span style=\"color: #d4b702; text-decoration-color: #d4b702; font-weight: bold\">XXSSrV6923+lRcMUVV7hjKYsWLZJOnTq5z1atWgXrhw4dKv3795e//OUvZXZdhmEYhmGUnGqlcAzDMAzDMNIUng3wKgCMGzdO/vrXv8qcOXNk48aNbq</span>\n",
       "<span style=\"color: #d4b702; text-decoration-color: #d4b702; font-weight: bold\">yBbdu2ydatWyUrKyvi/j/++KPk5eXJHnvsUWQ9rxQ0bty4XK7BMAzDMIziY0EBwzAMw6jEzJ49Wzp27OgGIGTQwYsvvljuuusuadSokXz55Zdy/vnnS</span>\n",
       "<span style=\"color: #d4b702; text-decoration-color: #d4b702; font-weight: bold\">05OTtSgAGMOVK1aVaZNm+Y+ferUqVNOV2EYhmEYRnGxoIBhGIZhVFIYM4An/aNHj3aNeqYnvP/++93YAvDKK68U2b569equV4BP79693bqVK1fK4MGD</span>\n",
       "<span style=\"color: #d4b702; text-decoration-color: #d4b702; font-weight: bold\">y1W/YRiGYRglx4IChmEYhlEJoDv/8uXLXQN+xYoVMnbsWPeqAL0Dzj77bJkxY4bk5ubKo48+Ksccc4x89dVX8tRTTxU5RocOHVzPgPHjx7sBCuk9wGs</span>\n",
       "<span style=\"color: #d4b702; text-decoration-color: #d4b702; font-weight: bold\">DZ5xxhjsGAQWCBKtWrXLb7LvvvnLUUUdV2DUbhmEYhhEfm33AMAzDMCoBBAFatmzpGvbMDPDpp5+6mQaYlpBu/zTymZLwnnvuke7du8sLL7zgggY+zE</span>\n",
       "<span style=\"color: #d4b702; text-decoration-color: #d4b702; font-weight: bold\">DAwIMjR46Upk2byr333uvWP/vssy4o8Kc//Un23HNPGTFihEyZMkXatWtXQVdrGIZhGEai2OwDhmEYhmEYhmEYhlFJsZ4ChmEYhmEYhmEYhlFJsaCAY</span>\n",
       "<span style=\"color: #d4b702; text-decoration-color: #d4b702; font-weight: bold\">RiGYRiGYRiGYVRSLChgGIZhGIZhGIZhGJUUCwoYhmEYhmEYhmEYRiXFggKGYRiGYRiGYRiGUUmxoIBhGIZhGIZhGIZhVFIsKGAYhmEYhmEYhmEYlRQL</span>\n",
       "<span style=\"color: #d4b702; text-decoration-color: #d4b702; font-weight: bold\">ChiGYRiGYRiGYRhGJcWCAoZhGIZhGIZhGIZRSbGggGEYhmEYhmEYhmFUUiwoYBiGYRiGYRiGYRhSOfl/M9CKACYjTbAAAAAASUVORK5CYII='}</span>\n",
       "</pre>\n"
      ],
      "text/plain": [
       "\u001b[1;38;2;212;183;2mOut - Final answer: {'plot': \u001b[0m\n",
       "\u001b[1;38;2;212;183;2m'iVBORw0KGgoAAAANSUhEUgAABAUAAAIjCAYAAAB73KJlAAAAOnRFWHRTb2Z0d2FyZQBNYXRwbG90bGliIHZlcnNpb24zLjEwLjAsIGh0dHBzOi8vbW\u001b[0m\n",
       "\u001b[1;38;2;212;183;2mF0cGxvdGxpYi5vcmcvlHJYcgAAAAlwSFlzAAAPYQAAD2EBqD+naQABAABJREFUeJzs3QecE1XXx/Gz9A7SO1KkCwgKolgRCxbsXbH33gsq9l4fe8OKv\u001b[0m\n",
       "\u001b[1;38;2;212;183;2mTdULNgoAvaOoiAd6b3sPJ//HSZMQrKbhV12kvy+75tn3WQ2uZmZhLnnnntunud5ngEAAAAAgJxTprQbAAAAAAAASgdBAQAAAAAAchRBAQAAAAAAchRB\u001b[0m\n",
       "\u001b[1;38;2;212;183;2mAQAAAAAAchRBAQAAAAAAchRBAQAAAAAAchRBAQAAAAAAchRBAQAAAAAAchRBAQAAAAAAchRBAQBA5B1zzDG26aabWq6K8vvf2G0bM2aMVahQwf755x/\u001b[0m\n",
       "\u001b[1;38;2;212;183;2mLBX///bfl5eXZE088EbvvkksusV69epVquwAA2YOgAACgVKijk87t008/tah21o499lhr3bq1VapUyRo2bGjbb7+9XXXVVZYNdtxxx7jjULt2bdtqq6\u001b[0m\n",
       "\u001b[1;38;2;212;183;2m3s8ccft/z8/GJ5jRtuuMFef/31Iv3N5Zdfbocddpi1aNFinbZuttlmSf/mww8/jL2Pl19+2TLdOeecY9999529+eabpd0UAEAWKFfaDQAA5Kann3467\u001b[0m\n",
       "\u001b[1;38;2;212;183;2mvennnrKdd4S7+/QoYM98sgjxdYRLQ4TJkxwHeTKlSvbcccd50bKp02bZuPHj7ebb77Zrr766mJ9vdJ6/02bNrUbb7zR/fesWbPcMTr++OPt999/t5tu\u001b[0m\n",
       "\u001b[1;38;2;212;183;2muqlYggIHHnig7bvvvmlt/+2339rw4cPtq6++WucxBWZ0XJRJ0LNnz7jHnn32Wff4smXLLBsoADVgwAC77bbbbJ999int5gAAMhxBAQBAqTjyyCPjfh8\u001b[0m\n",
       "\u001b[1;38;2;212;183;2m1apQLCiTeH0V33nmnLVq0yHVSwyPWMnPmzGJ7ncWLF1vVqlWtfPnyVhpq1qwZdzxOPvlka9eund1777127bXXbvR2DRkyxJo3b25bb731Oo8pY2PVql\u001b[0m\n",
       "\u001b[1;38;2;212;183;2mX23HPPxQUFFAh47bXXbM8997RXXnnFssXBBx9sBx10kP3111/WqlWr0m4OACCDMX0AABB5ifPWg3nWGim97777XKeoSpUqtuuuu9rkyZPN8zzXadVIt\u001b[0m\n",
       "\u001b[1;38;2;212;183;2m0bzNao6Z86cdZ73vffes+222851vKtXr+46jj/99FOh7fnzzz/dcycGBKR+/frr9Tp6j9WqVXPP3b9/f7fdEUcckfT9izIH7rrrLuvUqZMbBW/QoIHr\u001b[0m\n",
       "\u001b[1;38;2;212;183;2mtM+dOzduu7Fjx9puu+1mdevWdfuiZcuWLrthfWgfq0OuYIUyB1LR4+eff741a9bMKlas6AIJOlY6LgEdP2335JNPxlL79T4LoqkGO++8s9s2GU0reOG\u001b[0m\n",
       "\u001b[1;38;2;212;183;2mFF+KyKt566y1bsmSJ60QnUl2C0047zbVP+6ZOnTquo63zK0zz+fWaX375pZ133nlWr149dyz322+/dfaDths8ePA6r6XjF35/Oh8vuOAC23zzzd1xr1\u001b[0m\n",
       "\u001b[1;38;2;212;183;2mGjhu2xxx5uWkA6dtllF/fzjTfeSGt7AABSISgAAMhYSgu///777cwzz3Sd0BEjRrjO36BBg2zYsGF28cUX20knneQ6huqAhWmagjrn6pAp5f+KK66wn\u001b[0m\n",
       "\u001b[1;38;2;212;183;2m3/+2fr06bNOpzCRggEKPnz88ceFtrEor6ORbnXgFVhQJ/qAAw5I+bwKAFx44YW27bbb2t133+3qG2h/6O9XrlwZy1pQoESvo+J0//vf/1ygQVkZ60sj\u001b[0m\n",
       "\u001b[1;38;2;212;183;2m02XLlrVatWolfVwdf6W0K5ti9913tzvuuMN1utVWdajD+0UBAwVL9N+66T2lMmXKFJs0aZJ179495TaHH364m8YRrkMxdOhQ69u3b9Jgzddff+2mIhx\u001b[0m\n",
       "\u001b[1;38;2;212;183;2m66KF2zz332CmnnGIfffSRq1GgQEIinWfqtKtuxKmnnurOqzPOOMPWdz8qyLHXXnu5faT988MPP9gOO+xgU6dOTSuLQ9kRClQAALBBPAAAIuD000/XMH\u001b[0m\n",
       "\u001b[1;38;2;212;183;2mLSxwYOHOi1aNEi9vvEiRPdtvXq1fPmzZsXu//SSy9193ft2tVbuXJl7P7DDjvMq1Chgrds2TL3+8KFC71atWp5J554YtzrTJ8+3atZs+Y69yf68ccfv\u001b[0m\n",
       "\u001b[1;38;2;212;183;2mcqVK7vX6tatm3f22Wd7r7/+urd48eK47YryOnqPer5LLrmk0Pf/+eefu22fffbZuO2GDRsWd/9rr73mfv/666+9otphhx289u3be7NmzXK3X375xTvr\u001b[0m\n",
       "\u001b[1;38;2;212;183;2mrLPc8+29994p26b9oG2uu+66uOc78MADvby8PG/ChAmx+6pWrer+Ph3Dhw93z/vWW28lbWunTp3cf2+55Zbe8ccf7/577ty57rg/+eST3ieffOL+/qW\u001b[0m\n",
       "\u001b[1;38;2;212;183;2mXXor93ZIlS9Z5rpEjR7rtnnrqqdh9Q4YMcfftsssuXn5+fuz+c8891ytbtmzcOajtrrrqqnWeV/so/F51Lq5evTpuG53XFStW9K655pq4+/ScakOiXX\u001b[0m\n",
       "\u001b[1;38;2;212;183;2mfd1evQoUPKfQYAQDrIFAAAZCylemvENBAs06Z58OXKlYu7f8WKFW60WVS7YN68eS7dfPbs2bGbRsC17SeffFLg6yplX/UE9DoahddIvYrlKYVfRQED6\u001b[0m\n",
       "\u001b[1;38;2;212;183;2m/M6GoEuzEsvveTed79+/eKet0ePHi4jIXjeYDT/7bffjmUPFMWvv/7qUuV1U8FHZRoo60ErEKTy7rvvuvd31llnxd2vTA71mTWVYn38999/7ucmm2xS\u001b[0m\n",
       "\u001b[1;38;2;212;183;2m4HbKFnj11Vfd8dZKA2qL0vyT0ZSBgPaPXqNNmzZuv6loZCJlnYSnLijLYfXq1eu1PKKyJMqU8S/D9Bx6bR07ZVUke+1ktC903AEA2BAUGgQAZCwVnQs\u001b[0m\n",
       "\u001b[1;38;2;212;183;2mLAgSay57s/mC+/R9//OF+an56MprfXZi2bdu6lHd16DQdQB3vW265xXUcNW9fc76L+joKZKhWQWH0vPPnz0+aEh8udqhUdE1B0GoISudXWryCF+o4q1\u001b[0m\n",
       "\u001b[1;38;2;212;183;2mNaGM2DV5BDHWHVLdCSf6leM6AOcuPGjV1NhDAFFYLHN0S4LkEymgqgqSIKPmg6hdLzE9sSWLp0qVtdQQUMFTAKP7f2b2HnWxCgSKzjkA7VPVAwSdNfJ\u001b[0m\n",
       "\u001b[1;38;2;212;183;2mk6c6M6jgGobpEPtTVVfAQCAdBEUAABkLI0CF+X+oNMXFKJTp17LuyUKZxmk0wYVi9Otd+/ettNOO7nOqIICRX2d8OhxQfS86pzrdZLRyL6ow6jRctUQ\u001b[0m\n",
       "\u001b[1;38;2;212;183;2m0Pz3999/3xUZvP322919GpkuiIrpBQXtSlvQUS6sA96oUSMX/NB71Hz7glYcUI0ABQTOOeccd+wUPNI+U2Ah2RKQhZ1XBQl3+oPlGFVfQsdDRTFr167\u001b[0m\n",
       "\u001b[1;38;2;212;183;2mtjr3aku7yk9oXKiAJAMCGICgAAMg5KtAm6lgXZ6d3yy23dD9V7K4kX0fPO3z4cFdkMJwCn4pWDNDt+uuvd4X3VGzw+eeftxNOOMGKm4owqm0LFy6MG6\u001b[0m\n",
       "\u001b[1;38;2;212;183;2mHXVITg8UBRRrnbt2/vfmpUvTDKhNB70zQAreSQigImAwcOdAGE8BKGmvKxvpQ9kPj3msoQnBPh11YA6bHHHou7X3+bbkdf+6Jr167r3VYAAISaAgCAn\u001b[0m\n",
       "\u001b[1;38;2;212;183;2mKMK/Urd12htsrn2BS23J59//nnSv9N8etG88OJ4nVS0woJGnjXCnEgrGASdUo0kJ45id+vWzf1cvny5lQR1wtW2e++9N+5+TV9QEEDL7oUzEdLtgDdp\u001b[0m\n",
       "\u001b[1;38;2;212;183;2m0sRNC9ESi4U58MAD3QoBSs2vUKFCyu008p+4f1Q3IXFUv6gBm88++yzuvocffnid50z22qoVEdS9KIymN2j5ym222Wa92woAgJApAADIOeqoP/DAA3b\u001b[0m\n",
       "\u001b[1;38;2;212;183;2mUUUe5Je6ULq6Uey15984777gR+MRObZiWFhw3bpztv//+1qVLF3efisM99dRTLg1cKeDF8TqpqFaAlu/TfHgVPNSyg+XLl3e1BtSx1Fx1dYyffPJJ1z\u001b[0m\n",
       "\u001b[1;38;2;212;183;2mFWoT11VjV6rxoBaldBI+gbYu+993Yj4JdffrkrwqiR7A8++MDeeOMNt1+C7AlRYURlFWhJPtUhUC2GoFhkMgMGDLDXXnut0Ln0mgYwePDgQtuqegOa2\u001b[0m\n",
       "\u001b[1;38;2;212;183;2mqHtO3bsaCNHjnTtSXdOfzLKUNDShqrloEKQWsJQ0zYSR//12tdcc41bSlIdey1HqOkgrVq1Sut11E7tB+0TAAA2BEEBAEBOUoq5OqI33XST3XrrrW7k\u001b[0m\n",
       "\u001b[1;38;2;212;183;2mXKPRqiivjlpBLrvsMpeGP2LECNeR05r2msuuTr/miatzWxyvU5AHH3zQdaofeugh1x7VJ1BhQK2IoGBDEDwYM2aMmyowY8YM1/nt2bOna3O4jcVJ8+L\u001b[0m\n",
       "\u001b[1;38;2;212;183;2mffPNNu/LKK+2FF15wc/bVLr13rUAQpmCACjMOGjTIFf1TKn9BQQHNv1cQRbUC+vTps8FtVfBEI/baH5o2oP2mzrYyPNbXiSee6NL6NS1g2LBh7jhrFY\u001b[0m\n",
       "\u001b[1;38;2;212;183;2mq+ffvGbadjtnjxYnceaT8paKRA0SWXXJLW6yj4o30QDrIAALA+8rQu4Xr9JQAAwEamzrWCLBrhz1XTp093QR0Fe8gUAABsKIICAAAgY4wePdqNvmuqR\u001b[0m\n",
       "\u001b[1;38;2;212;183;2mLhoYS5RNsHHH3/sskAAANhQBAUAAAAAAMhRrD4AAAAAAECOIigAAAAAAECOIigAAAAAAECOIigAAAAAAECOKmdZLj8/36ZOnWrVq1e3vLy80m4OAAAA\u001b[0m\n",
       "\u001b[1;38;2;212;183;2mACDLeZ5nCxcudMvolikT7bH4rA8KKCDQrFmz0m4GAAAAACDHTJ482Zo2bWpRlvVBAWUIBAejRo0aFlUrV660Dz74wHbddVcrX768RQFtyrz2CG3KzDZ\u001b[0m\n",
       "\u001b[1;38;2;212;183;2mFrT1Cm9JDmzKvPUKbMrNNUWuP0KbMbFPU2iO0KXPblMyCBQvc4HTQH42yrA8KBFMGFBCIelCgSpUqro1ROblpU+a1R2hTZrYpau0R2pQe2pR57RHalJ\u001b[0m\n",
       "\u001b[1;38;2;212;183;2mltilp7hDZlZpui1h6hTZnbpoJkwhT2aE9uAAAAAAAAJYagAAAAAAAAOYqgAAAAAAAAOYqgAAAAAAAAOapUgwIPPPCAdenSJVYEsHfv3vbee+/FHt9xx\u001b[0m\n",
       "\u001b[1;38;2;212;183;2mx1dYYbw7ZRTTinNJgMAAAAAkDVKdfUBrdd400032WabbWae59mTTz5pAwYMsG+++cY6derktjnxxBPtmmuuif2NKk0CAAAAAIAMDwrsvffecb9ff/31\u001b[0m\n",
       "\u001b[1;38;2;212;183;2mLntg1KhRsaCAggANGzYspRYCAAAAAJC9SjUoELZ69Wp76aWXbPHixW4aQeDZZ5+1Z555xgUGFES44oorCswWWL58ubsFFixYEFvPUreoCtoWpTbSpsx\u001b[0m\n",
       "\u001b[1;38;2;212;183;2mrj9CmzGxT1NojtCk9tCnz2iO0KTPbFLX2CG3KzDZFrT1CmzK3TclEvX1heZ7y9kvRDz/84IIAy5Yts2rVqtnQoUOtf//+7rGHH37YWrRoYY0bN7bvv/\u001b[0m\n",
       "\u001b[1;38;2;212;183;2m/eLr74YuvZs6e9+uqrKZ9v8ODBdvXVV69zv56XqQcAAAAAgJK2ZMkSO/zww23+/Pmufl6UlXpQYMWKFTZp0iS3s15++WV79NFHbcSIEdaxY8d1tv344\u001b[0m\n",
       "\u001b[1;38;2;212;183;2m4+tb9++NmHCBGvdunXamQLNmjWz2bNnR/pgKJL04YcfWr9+/ax8+fIWBbQp89ojtCkz2xS19ghtSg9tyrz2CG3KzDZFrT1CmzKzTVFrj9CmzG1TMuqH\u001b[0m\n",
       "\u001b[1;38;2;212;183;2m1q1bNyOCAqU+faBChQrWpk0b9989evSwr7/+2u6++2576KGH1tm2V69e7mdBQYGKFSu6WyKdMFE+aaLcTtqUee0R2pSZbYpae4Q2pYc2ZV57hDZlZpu\u001b[0m\n",
       "\u001b[1;38;2;212;183;2mi1h6hTZnZpqi1R2hT5rYpLMpti9SShMnk5+fHjfSHffvtt+5no0aNNnKrAAAAAADIPqWaKXDppZfaHnvsYc2bN7eFCxe6ef+ffvqpvf/++/bnn3/G6g\u001b[0m\n",
       "\u001b[1;38;2;212;183;2mvUqVPH1RQ499xzbfvtt7cuXbqUZrMBAAAAAMgKpRoUmDlzph199NE2bdo0q1mzpuvsKyCg+SGTJ0+24cOH21133eVWJFBdgAMOOMAGDRpUmk1Gacpfb\u001b[0m\n",
       "\u001b[1;38;2;212;183;2mXn/fGFN5oy0vH9qmLXa3qxM2dJuFQAAAArCNRwQaaUaFHjsscdSPqYggAoOAs7Pb5oNu9jKLZhqW+r3fx4wq9HYbPebzTruU9qtAwAAQDJcwwGRF7ma\u001b[0m\n",
       "\u001b[1;38;2;212;183;2mAkDSf0xePNpswdT4+xdM8+/X4wAAAIgWruGAjEBQANGWv9pFl82SrZy55r5hl/jbAQAAlFpa/Bdcj2TKNRzHDYjWkoRAgf75at3ochzPbMEUf7uW223\u001b[0m\n",
       "\u001b[1;38;2;212;183;2mEhgEAgJxGWnzxXMO9fppZw83NKtcyq1TTrNKanw06m5UpgfFLjhuwDoICiLZFM4p3OwAAgOJKi08cBQ/S4g9+ig7m7N/T2+775/1bWF4Zsyv+W/v766\u001b[0m\n",
       "\u001b[1;38;2;212;183;2meb/f35uoGD4PdtzzEru2ZN+DkTzVavXPt4uYprn4fjBiRFUADR5Xlm/36d3rYjbvW/9Nv1p5otAAAoxbT4PD8tvv2euXlNMm+S2Zf3mI17Ir3tde1Wo\u001b[0m\n",
       "\u001b[1;38;2;212;183;2marZ0nlmy+abLZvn3x/OEljwr9m8f/xbIgUQ+py/9vfhV5n9/Mba38tV8oMIFWuYzfub4wYkQVAA0bRsgdlbZ5n99Fp628/+1eyFI81qtzbb5gyzroeZ\u001b[0m\n",
       "\u001b[1;38;2;212;183;2mla9c0q0EAAC55rdhTG1MZcJws6GHmOWv8n8vU94sf2WKjfP8tP1Dnim8E7733WaLZsYHDtxtvtmq5fEBhCAIoMd0LFYtM1s03b8VaM1xG/+UWfeBJTN\u001b[0m\n",
       "\u001b[1;38;2;212;183;2m1IdOwlGTOICiA6Fm5zOyRnc3++8OsTDmzLoeYfTt0zYPh6G6e/2Ofe8zm/m329WNmc/40e/tcs6/uNTtjLF/owPriQgAA/KzFWb/6Hc/G3fz7FhYUEM\u001b[0m\n",
       "\u001b[1;38;2;212;183;2mjBqY3LF5pVrO7/d/Pea+sBbHe+33F/cWDqa7jdb0rv35ZNNvVv6dj/Yf9nfr7ZioVrAwnKHvj8tsL//u1zzD66xqz1Tmb7P5q715LUXsgpBAUQPeUrm\u001b[0m\n",
       "\u001b[1;38;2;212;183;2mXU+wOybZ8wOesKs2VZmbXf3U/XCkXn3xXTT2i+mPueZffO02cj7zTrsvfZLXP+gz59sVqt56bwfINNwIQAgl2mgYeJnZn+N8H8unmnWuq/ZUa/6j9dr\u001b[0m\n",
       "\u001b[1;38;2;212;183;2mn97zVGtg9tenZrP/MOtysN9Zzha6tlImxOe3my2cbnbKF/51l6YBnDbarFq9tdtqnn5h13AlQe1x9QfW7HcFBtIJCpSrbLZ0jtncf+IDAnqvCky03MG\u001b[0m\n",
       "\u001b[1;38;2;212;183;2msal3LatReyDkEBRANKxabLZ1rVrOp//sOF5ltfYpZ5U383/XF035PW/XXZ/bt5+9bt+12s3KJI5cVq5ltfarZVif6qWIB/YP8zP5mHfYx2/YssyY9Nv\u001b[0m\n",
       "\u001b[1;38;2;212;183;2mKbAzIIFwJA6SA7p/S9e5HZ78PWnbeuTqKmJKojnJdn1mIbv1Or78Wk89PXpMVrO11/6Drkw6vMNj/QbMvj1mYcZCLtgz8+9DvIk0f59+WVNZv+/dr3F\u001b[0m\n",
       "\u001b[1;38;2;212;183;2mQ4IpHsNtzGke9zOHG827Tuz1cvjp7V+fL2Zt2bpwgabm7XawazVTmYtevvBkGxBzYycRFAApW/mL35qWbkKZscP9zMF9CUTBAQCZcqa16KPTflpgXVt\u001b[0m\n",
       "\u001b[1;38;2;212;183;2m0Sf1F1HZcmZlq639XZFsL9/s59f9W4ttzbY5y2yzXXM3JQxIhgsBoHSQnbNxKZ387y/8648dLlx7/+zf/ICApi422dKs5fZ+x6/pVvEV7PX9p2PjAqh\u001b[0m\n",
       "\u001b[1;38;2;212;183;2m5qdPiVQCv3Z7+SLqmIIx/0r817u4HB5QVWaGKZcy/D7qG+vxOsxk/+PeVrWC2xZH+NVXtlgX/fbrXcCUp3eOm69DmveL/VtNHNPCkAM+MH/19oNvIe/\u001b[0m\n",
       "\u001b[1;38;2;212;183;2m26CX3OMdt5kGWslUv9VRs0DfeP4dTMyEEEBVC6vn3O7J3zzFYuMaveyP/HuF674n2NnS8367Sv2Vf/M/vhJbN/vvRvdduZbXOmX5RQgQQg16W7pjQXA\u001b[0m\n",
       "\u001b[1;38;2;212;183;2mkDxITun5LMplI04aZTZxDXTATQKrMEC6X60WfUGa6ch9j7DrPnWa+fIp6Jjkk5afK+TzHqeaDZppF/7SPPap443e3O82Y+vmB39umUE7beXj/P/u3xV\u001b[0m\n",
       "\u001b[1;38;2;212;183;2ms62OM9v6dLMajSyjpHvcEin7Ybfr/f9WwUM3veRT/6YpqtUbrt32vz/N3r/crNWOflBJ002UYVLa2UKq2TV3op/t0aDj2noQ9/Xy/20vKj0X1wJZg54\u001b[0m\n",
       "\u001b[1;38;2;212;183;2mQSi8i+e6Ffg0AUfrV/o+sm3JWXBp0MtvvQbOdrzAb/YDZ2Cf8EYGv7jHrdkTJvCaQSVSQKd2iWLlSPAvFg7T41MjOKflsis/vMPvkhnUr4NfZzM8ECN\u001b[0m\n",
       "\u001b[1;38;2;212;183;2m+vDlxRpJsWH0w50G3RTWbfPms2bohfSDmwZI7Znx/7NZHCWQmlRYGUGT/7dZ1EHVzNpdd76HmSWZXalrE2dDpDtfr+VBDd1MGe81d8dutfn5j9/p5/c\u001b[0m\n",
       "\u001b[1;38;2;212;183;2m9s3WBMgWLMPazYp2Wwh/XuuaTAa9VeAQj+VBTD/X/97RXW6Dn/B37ZCNbMVi/z/rljTrE4rswrVzf7+rPDXeecCf5BA19HKwiX7NqMRFMDGp4I7mi4w\u001b[0m\n",
       "\u001b[1;38;2;212;183;2m8yf/gmeny/wKtRvjgkdfxLteZ7b9hWbjnjSr1Wztl9iKJWaf3WK25fH+/UC208XM5DH+xem8yWY7XpLe3+kCB0gHafEFIzuneLIpVJR4kxb+6K1ufa8\u001b[0m\n",
       "\u001b[1;38;2;212;183;2mya9TF30a1itTxr9HU7/QrEKCbzsPiUNS0eA1+KNVcKfdBtoJ897zZ+5eaVanrp+T3OKbwlPySoPpOYx41G3W/375zf/SzJhTYOPqN9Ea8M0FxTWfQ/q\u001b[0m\n",
       "\u001b[1;38;2;212;183;2mjTOv4+DXTtcrWfRaAMEQXSv3/Bv8mRr5q16bv23+Ff3ipattCqFX5mbazD/5dZ1Xpr/w1Xm149yV95IVHFGvFBJ217zLt+tq4CPfpdwcq7OhdQe0H7r\u001b[0m\n",
       "\u001b[1;38;2;212;183;2m5xfc+G75/ybCjDqc9h4i/XZi4gAggLY+N69wA8IVK1vdsCjRY/MFwdVolXRwbDvhpp9cafZl/eYdd7f/wc7uKgAsokqMH/3gh8MmPnz2vu1rnOBRZjM\u001b[0m\n",
       "\u001b[1;38;2;212;183;2m/9xqpAgoDGnxhVMaeTo0Jz1XFZpNYWYvHRP/+Kbbrf33W6OiKhxXu1W0OrRuQCI0sqp57NUb+8sdfnmX2Zd3+x1H1R7YbLeSn+aolPiR9/lTHILOpDp\u001b[0m\n",
       "\u001b[1;38;2;212;183;2m6Womh4eb+71Haf1GmIIECP7opZX/yaH/qioIE038wa+pCpL5Prjf74q70soVeGuj//bxJ8QEl0RSFcFCg3R5+MKx2a789+qnPgFZNSDyODTsXvfbCgY\u001b[0m\n",
       "\u001b[1;38;2;212;183;2m/7gQRl/P74mv+9Hl4yUoEKnc86r5ERCApg49vnf2bDLjXb8/b4OVilrV4Hf/RAowyqPaCbUr0UHGi9M/8YIvOpqJaKIv34ql/HI6iqrSBYj2P9C4OUF\u001b[0m\n",
       "\u001b[1;38;2;212;183;2mwJrbHs2acwoHGnxBe+bPz4wG/2g30lIxweX+xfZXQ/1R8RzSaHZFOL532UuE2AHs7a7rX2oUg3/FnXq/G9xtJ/2PfZxsz8/Mpsw3L/VamF2xtclM61A\u001b[0m\n",
       "\u001b[1;38;2;212;183;2mAafPbvM7d8HKTfU7+hmcHfel5tKGUqfYrVKwg1nfK82WL/JXywqoxkTi1JZU2UKaAqAgjXveqn6qvzr66vAnLpN5wCMbp/ZCs57+71O/jZ9C8coJZv9\u001b[0m\n",
       "\u001b[1;38;2;212;183;2mNMNv8ID/zpVE3rqMjjk86Sp4uZCZ85BfakVrNzQ591iJn023NNn3L/2JTUcKfXltbREZR8uM/9JckCjBPNnPl6rHT1J1vnlkbBNvyWH9Oa+VahV8IKO\u001b[0m\n",
       "\u001b[1;38;2;212;183;2mK//flmW52w8duNzKP13UmLXzdD55tnzcY8tPbCXsERdfTCy+iuI89PP/70Bv927DB/CbRc2We/vJnetnvfbdY1NEc/E6kD3mEv/6Zrp3FP+N/ZTbrHB\u001b[0m\n",
       "\u001b[1;38;2;212;183;2mwT+HeenaRfHHG7VDhj7mD/yrFUWFAxQZgLzw0tGOCAgWkb7vdAKGKnoO0CFDrXSgUb+NY2vpDvZ6dZe0HKMuoYOT0FR5ok+v18/6t/qdzLb4gj/mkPZ\u001b[0m\n",
       "\u001b[1;38;2;212;183;2mCogcggIo+fTRN043W77ADwaEo/dRpXV2D3zMj+iOesBs/FP+XMRwQEAjrR9czjzZTJQrc5wV3NL0gDpt/FU2ROmE6tQrct+sV+oLinQuBHRRqguTcEA\u001b[0m\n",
       "\u001b[1;38;2;212;183;2mBuU11WTSqqfmxuqVDBeC8i/1072wPzGmNcwUEgils3Qf6n0dVwnfZOZY8TVdFeNVhU3E6LWsXTj3W95mey+2/LOnELZxh9ts7Zr+87WfuFTiKGlJcNQ\u001b[0m\n",
       "\u001b[1;38;2;212;183;2mKiQiPA/a4x2+lyfwnFcHD30Z39VG1leGkUNrGTVVDge8o4s0mjzXqf5v+u73Fd72gJxk37MJq7sdXvkN52CgKURgB1fWovKGPg7O/9KRMKaunfA00bf\u001b[0m\n",
       "\u001b[1;38;2;212;183;2mv8ysw+vXFtLDJFCUAAlQ0VQ9MFXpX9ptrVZg4Q5S1GnFM09bjLb4SI/qBFQWt/b5667PfNkoy/b5zgrLVFLXCkYMPUb/74aTcx6ne\u001b[0m\n",
       "\u001b[1;38;2;212;183;2m..._This content has been truncated to stay below 20000 characters_...\u001b[0m\n",
       "\u001b[1;38;2;212;183;2mpWrlzp1mdkZMikSZNk7ty5wbbVq1cP9DRr1kw2b97stkPThAkT3HH22WefQBMBKb0OvgPbHH744S7f2A4mT57s1i9cuNBd06ZNm9z6pk2bFkmjFi1ay\u001b[0m\n",
       "\u001b[1;38;2;212;183;2mI8//ujyjWP76YGmBg0auL+7dOni1nM8tiFdOdecOXMkJydnlzRim6VLl8qvv/7q0qBevXoyY8aMIJ30Grh+bMPXxPXPnj07yLeDDz64SDrp3/pJOl18\u001b[0m\n",
       "\u001b[1;38;2;212;183;2m8cVBGnE+TSdfk25Lvv3222/u+Fy/kpWV5T6rVasW2NJJJ53k1i1atMhdMzYDRxxxRLDf6aefHlxzpHx74403JD8/Xzp37izPPvusS8P99tvP7UP6oOO\u001b[0m\n",
       "\u001b[1;38;2;212;183;2mLL75w31977bUgjcg37K8sbalv375un+eeey44zmGHHVbElqJpql27dsR8U1uqWrVqEU3YAOy9994xNXFM7E5tT22Ae45822uvvdx5fPtmP9K4a9euEe\u001b[0m\n",
       "\u001b[1;38;2;212;183;2m1bbYlz+fZds2ZN9/fq1avdJ8fzbQkbjmbf1157rbMl8oXjaJ7q74B/Lgtb4n5cvHixyxt8JDz99NOydu3awJai+YA99tijiC2RRlybb0t+GrVq1cr5b\u001b[0m\n",
       "\u001b[1;38;2;212;183;2mrWlaD6A+4d0UL/E9h9//LF8/fXXwbmXLVsWaCJN2aYkfknPtX79epk+fbpLL9B8Y6Ec8PPtww8/dOmkfon7xNcExbGlcE2cm+OGa1JbatiwYaDp/PPP\u001b[0m\n",
       "\u001b[1;38;2;212;183;2mD2ypTp06zpZ0P/wGYC9qSwMHDnTr5s2b5/JB763f//73QR6OGjUqsEGFNNJ7HS2rVq1yvgV8+54/f7688sor8t5777nvO3bsCNJI/UtxbYnzal0gWr5\u001b[0m\n",
       "\u001b[1;38;2;212;183;2mFKuM++OADWbJkifM/FWFLnON///tfcB6Os3Xr1iDfytuWNF8ffvhh2bZtm/ub6/NtiXsSW0IPqJ3gl9WWqDsA37El7A/UX8E555xTxJbC04h9SYsaNW\u001b[0m\n",
       "\u001b[1;38;2;212;183;2mpIp06d5N133w22xZ9yvfgCyMzMDK5F8400Crelfffddxdb6tevX5BGarfYZiT7pq6I3wm3JXwW57/99tsDjdHsu6xsaeTIkUXuDY7z4IMPSt26dZ0G8\u001b[0m\n",
       "\u001b[1;38;2;212;183;2mqlJkyZF0gmwL8o/XxPpxDnUltjXTyetV1NfUDiun05cf5s2bYr4AHRSB37//ffll19+cWl18sknB9dCXofXl4rrl9Dz7bffOq3ql1gXXu7+/PPPrh6g\u001b[0m\n",
       "\u001b[1;38;2;212;183;2mfknLIv9a/fpSsuWu2pKWu/gbjklbS+twgCa9T8hLvw4Xr9xFE+fTdhqa1G7C2yLc1+or9VpJAzTpsdQ2OBb1pAEDBgTtKS1jyHu/7s3fmk6K3otqJ+S\u001b[0m\n",
       "\u001b[1;38;2;212;183;2mhX4dTTX47LFI65UZok3LfkL/oQ2ePHj2cPw+vV2L/aruRNLHvQQcdlJAm9XmJtJNVU7S2YCKUe1AAg7ziiitk0KBB0r17d7cOgyBx/MozcGH8FgkqaG\u001b[0m\n",
       "\u001b[1;38;2;212;183;2mPGjJELL7wwWIdBP/XUU/L666+7pW3btnLIIYe4TIyGHv/RRx8toolCiEwM14Rz4BoS0cSxW7duXUSTGu8nn3yStCY1oHBNOLNw1Cg4D5pwfJqeqummm\u001b[0m\n",
       "\u001b[1;38;2;212;183;2m25yBQLftWFHIeHr4GbSQgAomLXxqzq1cqFoQaQ3CmnJcdXZT5061WnW6+AmIl258Y899liXbzhMoIBmXwpg39BxuH4asQ96tEGsuhUcFqgD5HgcV69d\u001b[0m\n",
       "\u001b[1;38;2;212;183;2mHWF4GnFcjsWNpteiQSNNe66TvAnPN00nzTcKq0j5pvtxbCpdmm84BU0nKrbYF+eigD/xxBMDW2IbP9+0YoUT12M/8cQTbjstAMn3cFvy0zdSvhFEghE\u001b[0m\n",
       "\u001b[1;38;2;212;183;2mjRriGJA6Ja9JCE/vWxqlvS3pctZOysCXSjfyiwKLg5bqys7Pd9mpL3LeRNGlhF55v0WwJh+/bVDRNFDArVqxw573mmmucLbF+zZo1wXF1X9++0YTdR7\u001b[0m\n",
       "\u001b[1;38;2;212;183;2mJvtSUaJbFsieP5tkTlVq+bbbTSQSV+//33D2yJ/PNtiUpNWdrSzTffLC+88IJ89tlnQQCXgnfs2LGBLVGYRfIBVIp8W9I0Up1+gBP03Lo+mg+g0P3nP\u001b[0m\n",
       "\u001b[1;38;2;212;183;2m//p8u7AAw90lVX24Tq5D8P9EmlBYKkkfsm3f9KV7bnfNd9If/XV2PngwYOLBAnZ3rcl9UvFsaVwTRyH44ZrUlvi2tGCJt+WyB/dzw9YUWH1fSX3m1+x\u001b[0m\n",
       "\u001b[1;38;2;212;183;2mDrclroXrUDsD0kh1Uinjt1NOOSXQTTrhs7n3SC/dlgqWppFfHhTXllRTtHxTe9UAO/bBvlQqKZcrwpY4D/ffAQccEPhMjqX5VhG2dMstt7h6DvU1KrH\u001b[0m\n",
       "\u001b[1;38;2;212;183;2mYAw2XcFvSfFO/tH379iK2RH5qXsXyS5HyDbTB3759e1eG0YjkOvGlbIddaf5QwddrIY204Uj54NsSwQXflsJBE+kXyb5Jo1dffbWIdupLaEI7dQHy4M\u001b[0m\n",
       "\u001b[1;38;2;212;183;2mknnyySvuH2XVa2RIOehcAu5yY/SB8aPGpL6mc1nTR/tB6tmjSd1Jb8Bx2RNAHHDU8n8mXWrFnOFm+77bagnMLP6LX6fkmPh82V1C9hr1OmTHFtAPVLl\u001b[0m\n",
       "\u001b[1;38;2;212;183;2mGN+vZIHFfgAftO6BAEkv9zVB32+vmTKXf2Na0QTwQc0abl76aWXBsfmeOg45phjitThYpW7qon1fjuN9Aj3leGaOB6aPv30U6fJP5Zq4m8CUdgtfl3t\u001b[0m\n",
       "\u001b[1;38;2;212;183;2m16/DkRZ+Ovn5Qv1Gj0tgIbxe6Z8rUjotD2uTUs8lnVhPWfe73/0u0Om3B/S46guiadJ942ny7+VE2smJHDflggIYI09aX3755WIfg/2PO+44V5BodBh\u001b[0m\n",
       "\u001b[1;38;2;212;183;2mIQCJ5PDWkwHvmmWfcJ5FLoPKJk9RFK4HAU6KSaKIAw7FppFQhA31Nd955p1v//PPP76KJCCBRrdLSBFdddZXTxA0WrkkbDaSjno9FNeFQqcCh6f7773\u001b[0m\n",
       "\u001b[1;38;2;212;183;2mfbaOGTDP3793fH9XtHcNwjjzzS/U0hwoLx4zTJN3XgVMgJXpC32kD0KW4acR72Pffcc933cMdCGuEoiWKSr/fdd19QOT/++OOdJs03nJ3fe6S4mkin7\u001b[0m\n",
       "\u001b[1;38;2;212;183;2m7//Psg30ONSuSAQ8Pe//909HcTRqS1RUfPz7a677gqeQPmawh1VInrYTyt6L774ovskqIdt4LRIJ8077Fujo74tab5xLWVlS2jCpnGARJixbfKYa1Zb\u001b[0m\n",
       "\u001b[1;38;2;212;183;2morGn+aaa/AK9JPnGvr4v4lopwLArKrl33323q+SwDfe55g/7htt3aWji2n1bCrdvDQxwXp7kqC1RCQr3AX4lvLRt6Y477pDLL7/cVQixbxooVCzxj2p\u001b[0m\n",
       "\u001b[1;38;2;212;183;2mLVPjYlyCZ7wNKakvqA/SJi6YRT6vwTTxJI1DBZ8eOHYsUsL5fIp00sFTSfCNdCbaddtppQXnio76bAKo+PQHO79uS+qXSsCXubfaNpomKSocOHZwe35\u001b[0m\n",
       "\u001b[1;38;2;212;183;2mbUL9GwQo8+4cB/+ZoIJCQLaYQfptwlSAnayPbPjV2deeaZ7slguC2hCf9eGrak+YZPpEGkaXTGGWe4z969e7snffgmfBdPSTWwUN629Oc//9mdGx+JL\u001b[0m\n",
       "\u001b[1;38;2;212;183;2meG/qTRrvlWELaGDyjX5RUCQRjn+UTUR6Pbz7bzzzovol/QJaLJpxPWy70UXXeTW06jEDxFYIp3oxcTTYx4waa80Gsa+fWsdi2BCSWwJ0MR5fVu68sor\u001b[0m\n",
       "\u001b[1;38;2;212;183;2m3Sf5RQOFck/rS6RXJFtS+y4rW6IxS1rxG08yCeqgTQOA2BIa0TRkyJDAlkpDk+5L+eZrohz57rvvXO+zhx56KHiopnlLuRzJL2kP5uL6Jdol+J1bb73\u001b[0m\n",
       "\u001b[1;38;2;212;183;2mV9SpRv+Tfz/hvbEkb3ieccEJwPr/cJaiEzvD2QLLlLv4ITdTx0aTlud9GocHKdtRP/DpcrHK3JOD/NJ1Gjx4dpL/6SqBXDXbFPeefm23RVNr46XS4V4\u001b[0m\n",
       "\u001b[1;38;2;212;183;2m9TaCvysIdyjs+XXnop+I1yqCw0aZ1JH1qUF+UaFLjsssucIyVC5D81xRiJBPkNV+BJTXi0EEOhWzDRnBtvvDGhhNVuWzyFpqKsC8ZPpBz49DVhINyU4\u001b[0m\n",
       "\u001b[1;38;2;212;183;2mZrohhEedUIT67np+JunTHpdXEP4NfkNNl8TBTUR3GiaNFoWrsnvdqZ8+eWX7pOKCJpwjJqeqoFPnIw6w3BN3LSAs//mm2/c3zh0KnUcR/MmvOeEdpvz\u001b[0m\n",
       "\u001b[1;38;2;212;183;2mnT8aNAigx9WCU/OfNNdjqiPgu+p55513guNpxFPTSK9Nn2SEv+Kh10i3NV+TpiWvTmiaaBchooEUdkQGNc30KbxqwkFoHvj5xjE0nTTf6DIeKd98G/f\u001b[0m\n",
       "\u001b[1;38;2;212;183;2mzjS76pCEaaZTQYLvgggtcoUE0XDXpNakmGlnAPqrpsccec2mg59IC1LelcFsN16TRf2yde5munXT1pgAjzylc9Hi+Lfn5Vh62xHWw0DWdez+WLXE+fU\u001b[0m\n",
       "\u001b[1;38;2;212;183;2mIdnm/RbEkLeb8S4dsSmtBLMILCRgMYaPKfBoTnm2pi30ceeSSifast6ZOoRG2JruaqgW3Qe9ZZZ7lKte8Twu2bJ/lAFL0sbIlKEhU6KmBcA+enGyMVX\u001b[0m\n",
       "\u001b[1;38;2;212;183;2mc3zaLZE90a1JZ7+6LWprvDKpx4nmi2pD7jhhhvc+ekayVMdAnL4ZoKE6o99W8IHaBoU1y/5+UYaaHmi+ca5OYfvu/VJVyy/VBxbiqTJL+PCbYkeOf73\u001b[0m\n",
       "\u001b[1;38;2;212;183;2maLb01ltvue/cF76v5H4KL+d9W8IuNMDmo5qoC1Am46/9Lvo03rRBoE9C1QerJg2sFNeWfE1cL3UTGh+aRvSoAiqTpDcNJnpU4CM0KFDetkQFl4Yrvhu\u001b[0m\n",
       "\u001b[1;38;2;212;183;2mfzZNNyhbtDVeRtqS2Q/CA64xmS2o/7OPbEr42Eb8UzZa0+zUNWNKGIIWWJ/oQRe3d90t+vvF3LFsKh9/1tYpItsT1+vbNcX744QfXWKC+CH6PCr9Oqf\u001b[0m\n",
       "\u001b[1;38;2;212;183;2mZdVrZEWcA5qWsQ+OI+Pfroo4Nu0tFsCbC/WLYU/mQzni1pOlHekY807jiGBn39J+zYhGrSXg+kVXH9kt8uoaHv+yXyyLdv9d3UvTU4EO6XtPHvtweSK\u001b[0m\n",
       "\u001b[1;38;2;212;183;2mXejaaI3QLy6t6ZXtHKX3im6rV6PX38L95XRNNF+45UOTX/1ldgMgQite0Ok3iOkP/di+PlYr3U4INgYXq9UTVoXCm9Ttghrk2Lf2vPs0EMPdf47VvtO\u001b[0m\n",
       "\u001b[1;38;2;212;183;2mX1mNpinWvtH8RCLt5OIcdxdC5QADSTBICiNEMtVftAEUGDxGYcpCfwAFYJRGBu5gcItEYRRGBmmKpYnRGf/2t78VGRlSBxqMpMkfxCOWJh1MIicnJ1j\u001b[0m\n",
       "\u001b[1;38;2;212;183;2mHYDoMTBJJE4MBMthJNE06iEckTSwrVqwINDEoCNewbds2t45BVhiV0tfEaJgMdhJN08yZM4PrZUYHBgNhRgYdMINBzfTceo2qRwdUQZOmEQNMMeAF6/\u001b[0m\n",
       "\u001b[1;38;2;212;183;2mz8RpNem+a3ji6s16SDnulxGalT00jPyfR9/sA5uq+fRgzCEUkTU31wfRyPganY9t///rcb2ZSBXEgjBkthPaN+Kh9++GFwbEZbVk2sRwfn9gcaDE+nW\u001b[0m\n",
       "\u001b[1;38;2;212;183;2mPnm3xeabz/++KPbB61o0tGM/XTSQfcYHVltyc83bEnT6OWXXw72YzC5WJpYx0A+jHSLjhtvvDHID2yXdYzwyncG0/LzTafWKQ9b0qmhGGkem45mS76m\u001b[0m\n",
       "\u001b[1;38;2;212;183;2mSPnm21KkfItmS6qJgev49PON0e75jJRvOqgfC/tEsm9/QK9I9q0DDYbbkg7mw/F0cCNGxY1n3wzSxTpGSS9tWyJtBgwY4GZ+8PNNB3BiRoBItuRPk6i\u001b[0m\n",
       "\u001b[1;38;2;212;183;2m2hH9T/+HbUngaafrF8wHhAx4x+jb+UqcYi+YDiuuX1E8zgBf3mJYnmm/cV1wvdrF69WqXb4wGrdPkxtJUXFtCEwN6MfiRX8b5tkQacW2MWh7PlsaOHe\u001b[0m\n",
       "\u001b[1;38;2;212;183;2mvWMYib2tKdd94Z7OeXcf70TDqtrz/QYLgmZgJgNGwGG0YP23IORq6GK6+80h2D7RT/WotjS/5Ag9HyLZIt6bboqwhb4ju+G5vHB5DmnIvBvCraltS+8\u001b[0m\n",
       "\u001b[1;38;2;212;183;2ma0MVBfNlhgVXgeSVFvy8w1b0gHUGLxOYdAyvw4Xrkn14OPYju013xhkjnX4Kz79Qa79NEKv2pJv374t6bX4aaQDDYbnm2/fcPvttwd5ofats/lEqxuW\u001b[0m\n",
       "\u001b[1;38;2;212;183;2mlS0xUw8Ds/p+iXzU+yOaLeH7uV7VRH6xb/hAg5HSSQcaDLclP53UltDPtZM+2BJ/c71+OulgbYz6Xxy/RH6rjvD2AHqYLs+ve3MOBkmk7h3PL7Fdccp\u001b[0m\n",
       "\u001b[1;38;2;212;183;2md/FkkTeFtrUh1b7Xv8HI30kCD4fecX776+5JGlNuR2kq+D2CmBeyM+1MHGwW9H6P5JdLRXx9poMHwdhj2E639tj5Gm1RnotNB/cKvVQcaDNcaaaDBSJ\u001b[0m\n",
       "\u001b[1;38;2;212;183;2mqikUg7OZom7jW9l+NRLkEBHAqFJ1M/+FMFMtexwqjh3LiffPKJS0ymHGFRqFTT6GLUR/8YjGKtMHL/m2++Gfrll1/c9oy+TgLh/GJpYsoJEu25555zI\u001b[0m\n",
       "\u001b[1;38;2;212;183;2m8hT2dIpCVUT03XQyKJCg3Ez3QOjQHKzRtNEJrItU+GQWYyuqXPZqyZGhORYLNzIOCIq4ugL18T1YxThmnQkc6an4Bzsp9PJqCZGwuT4TMGB0TIKKzow\u001b[0m\n",
       "\u001b[1;38;2;212;183;2mcNVEYxKjVE06CimFItN0MM0H2zEFxg8//OA0aeOGKVqYtoN006mh0IQ+zqfznaomRsPlOmgAMH2MFiI0OJnOhO9MA0OjgcoB6cD+Oi8qx9O5OBltFqe\u001b[0m\n",
       "\u001b[1;38;2;212;183;2mr+UZBpdPdMbI663RaGLZFE3lPeuhcvGiioqRTELKtVoC4WTWNaGhyPLQzpaVOWcRv2IZW3rWx4ecbxyWdmApHC3H203wjnfhOUELzjetHw1NPPRVMG8\u001b[0m\n",
       "\u001b[1;38;2;212;183;2mU2TBejmjgX5ySPdcosnaKOEfA13ziW2pJOicg5mS4I5842Ot0WmnSaONJC04hpXGgYYX/cO/o7aaL2zXEZUZ58e+edd4rkW1nZEse944473L2omjQwo\u001b[0m\n",
       "\u001b[1;38;2;212;183;2mLZEARtNEyNG63R3mm+cH32qSfNNp2tSW6Kw1Aabr4n7kvNiH+hmX53aiAUt5AkFzF133eX2J/3QT2MPTezn27faEku4ffu2hCa+U8CrLWHfXCuBR7ZH\u001b[0m\n",
       "\u001b[1;38;2;212;183;2mCwETplhSW6KSzbV9+eWXgX2rnZaFLaGH9CFQwe+kIxpIO7Ul8imaD+Bama6JffFpakvakCCNqGhwTM6j106+4Zs5RrgPIO0YzRh97KP5hx/nmOQXU0b\u001b[0m\n",
       "\u001b[1;38;2;212;183;2mxyWjspBH3fkn80ltvveWuhbQn7bhHGB2cEcvRhEYWtPCpUxJqvmPnaEILPlT9UnFtiXVUNgmq65zRaEKPn07YDr+jhfNQIVdb4n7jevDxaktakSUgj2\u001b[0m\n",
       "\u001b[1;38;2;212;183;2m3qtLs0TlWTzqXO/UYlXBv5aFBNHIPZTzSN8I86NRr3Hn9z/RyDhp3aEvZGXpHe2IDabnFsiXIKTeynjavwfEM3FU78kupDAw2QirIlneYMbVw/+ci2f\u001b[0m\n",
       "\u001b[1;38;2;212;183;2mhlXnrbE8dBCo4C01mAtZalqYgpRNBIMCLelP/3pT0G+oUn9EuWmNtqoU2EHXAfXq7akdQ1mFtE0oj7INhyLacg0XbEJFrUl8oyFCr6fb1wv51L7Jm0o\u001b[0m\n",
       "\u001b[1;38;2;212;183;2mm31bwobwZ6Qzx2Y6QLUlzTcavqqJe4j17EMDkmNwbPwtATm+cwz8eTT7Lgtb0gaQTrWJfZBGWmZgS4x0T/rcdNNNgS1pIArtHIN0pvFLWa+2RFqRTvf\u001b[0m\n",
       "\u001b[1;38;2;212;183;2mff7/TrPe02pL6ZdJJbYlt2Y5ZA/yZf5gnXm1J605Mn/rCCy+4dCquX9L6GGlLHml5R/sDPfglnbZQfYD6bK17a0CIfKNxhx4W3S7ZcpdjqSbqrhyHv1\u001b[0m\n",
       "\u001b[1;38;2;212;183;2mWT1uHQq0F/dJC33EvRyl3SkHtTp2+lsU0e0GZQX6nTWVKHYvp5HqyxL4ER1URDHxujTaRtJQJuHJvj0cBXn09jmmvjb+yI/bjnCP5iS8zChW1Sb2NKQ\u001b[0m\n",
       "\u001b[1;38;2;212;183;2mWwD+/On/yO/ODd6CQKwDcfDRrRNiRZs7Ntvvw000SZFOwEi/A42Sr2W68dH6PR/Wq8k6M3xdErC3r17hyZNmuTqUuGaaBtyr4Zr8qckZF/S9rfffku4\u001b[0m\n",
       "\u001b[1;38;2;212;183;2mnayaNP19TYlSLkEBjeaELzh3hac0TAdBJuhTawxY8adS8RcMROFGJWO5UXFOVOJIvGQ0cUPgNIj0+pr0Rklk8TVR2dWCAMPEqHxNCxYsiHs81URUmBu\u001b[0m\n",
       "\u001b[1;38;2;212;183;2m+uJq4kbSQUyfoayI/WBdPk1Yi0ETUWucT5Tc/yhtrwbC5jmi/E5BZuHBhUADqnMqJ5JvOU+3PVZ1oGuk81eELDQjSaM2aNc4xJ3K88Hwj+JFMnrGQzz\u001b[0m\n",
       "\u001b[1;38;2;212;183;2mr1kL/4+UahzTptVCeqiWvSymkyC/mv9yn3m/+UCE1UOKmgqP7ysCUcoz4Z8hcKF7WlRDVFsqVk803tO5LdUrCRb759J2tLFCbFsW+dQkinPgy3JSoGr\u001b[0m\n",
       "\u001b[1;38;2;212;183;2mNOKeXnYkj69UZ8UbkuJ+oBItqRpFMk2oqURBW+k/FZbwgcMGTIkoXQqLb9EhTrcD/j55msqL1vSnh3hi2oisJU6Ns0AAAWvSURBVKzplowm8lEbFsks\u001b[0m\n",
       "\u001b[1;38;2;212;183;2msc6DJipIVFwT0VRatqQN21SzJZ0v3r+WirIlGjfagI9m3zROWad1qWT8kgY2k1mwbTT5dSVfEw+ftCdTPE1oCLcltT//2PHyDd+sgQdfl9oS9dVE7bs\u001b[0m\n",
       "\u001b[1;38;2;212;183;2m0bSmSHyCoq7ak6RRvobz3bYlGaCK+w19IHxpo4enq25I+XU22jCuuX8Jv02iNpgm/pPdbcey7uOVutN8SLXfRT6OVRqfat6YTwR7K9Xh1Um0r0VsgWt\u001b[0m\n",
       "\u001b[1;38;2;212;183;2m2bfCJo4Ne9/SmVw22Ih2qbNm0K2li0a9DEAwH0EBDhePHalNnZ2cFDBE137fGRl5fntvHrlfgLgiq5ublOK0EAdOo01b4mmD59+i6afGivaXss0Xaya\u001b[0m\n",
       "\u001b[1;38;2;212;183;2mtL09zUlSpXCBrJhGIZhGIZhGIZhGJWMcp99wDAMwzAMwzAMwzCM1MCCAoZhGIZhGIZhGIZRSbGggGEYhmEYhmEYhmFUUiwoYBiGYRiGYRiGYRiVFAsK\u001b[0m\n",
       "\u001b[1;38;2;212;183;2mGIZhGIZhGIZhGEYlxYIChmEYhmEYhmEYhlFJsaCAYRiGYRiGYRiGYVRSLChgGIZhGIZhGIZhGJUUCwoYhmEYhmEYhmEYRiXFggKGYRiGsZtz7rnnSpU\u001b[0m\n",
       "\u001b[1;38;2;212;183;2mqVdySmZkpzZs3l2HDhskzzzwj+fn5CR/nueeekwYNGpSpVsMwDMMwyhcLChiGYRhGJeCII46QZcuWycKFC+WDDz6QQw89VC6//HI5+uijZceOHRUtzz\u001b[0m\n",
       "\u001b[1;38;2;212;183;2mAMwzCMCsKCAoZhGIZRCahRo4a0aNFCWrduLX369JHrr79e3nrrLRcgoAcAPPDAA9KjRw+pXbu2tG3bVi655BLZvHmz+23ChAkyatQo2bBhQ9Dr4NZbb\u001b[0m\n",
       "\u001b[1;38;2;212;183;2m3W/bd++Xa666ip3bPYdMGCA294wDMMwjNTHggKGYRiGUUkZMmSI9OzZU9544w33PSMjQx555BGZOXOmPP/88/LJJ5/I1Vdf7X474IAD5KGHHpJ69eq5\u001b[0m\n",
       "\u001b[1;38;2;212;183;2mHgcsBALgsssuk4kTJ8rLL78sP/zwg5x88smuZ8Ivv/xSoddnGIZhGEZ8qoRCoVAC2xmGYRiGkcZjCqxfv17efPPNXX479dRTXUN+1qxZu/z22muvyUU\u001b[0m\n",
       "\u001b[1;38;2;212;183;2mXXSSrV6923+lRcMUVV7hjKYsWLZJOnTq5z1atWgXrhw4dKv3795e//OUvZXZdhmEYhmGUnGqlcAzDMAzDMNIUng3wKgCMGzdO/vrXv8qcOXNk48aNbq\u001b[0m\n",
       "\u001b[1;38;2;212;183;2myBbdu2ydatWyUrKyvi/j/++KPk5eXJHnvsUWQ9rxQ0bty4XK7BMAzDMIziY0EBwzAMw6jEzJ49Wzp27OgGIGTQwYsvvljuuusuadSokXz55Zdy/vnnS\u001b[0m\n",
       "\u001b[1;38;2;212;183;2m05OTtSgAGMOVK1aVaZNm+Y+ferUqVNOV2EYhmEYRnGxoIBhGIZhVFIYM4An/aNHj3aNeqYnvP/++93YAvDKK68U2b569equV4BP79693bqVK1fK4MGD\u001b[0m\n",
       "\u001b[1;38;2;212;183;2my1W/YRiGYRglx4IChmEYhlEJoDv/8uXLXQN+xYoVMnbsWPeqAL0Dzj77bJkxY4bk5ubKo48+Ksccc4x89dVX8tRTTxU5RocOHVzPgPHjx7sBCuk9wGs\u001b[0m\n",
       "\u001b[1;38;2;212;183;2mDZ5xxhjsGAQWCBKtWrXLb7LvvvnLUUUdV2DUbhmEYhhEfm33AMAzDMCoBBAFatmzpGvbMDPDpp5+6mQaYlpBu/zTymZLwnnvuke7du8sLL7zgggY+zE\u001b[0m\n",
       "\u001b[1;38;2;212;183;2mDAwIMjR46Upk2byr333uvWP/vssy4o8Kc//Un23HNPGTFihEyZMkXatWtXQVdrGIZhGEai2OwDhmEYhmEYhmEYhlFJsZ4ChmEYhmEYhmEYhlFJsaCAY\u001b[0m\n",
       "\u001b[1;38;2;212;183;2mRiGYRiGYRiGYVRSLChgGIZhGIZhGIZhGJUUCwoYhmEYhmEYhmEYRiXFggKGYRiGYRiGYRiGUUmxoIBhGIZhGIZhGIZhVFIsKGAYhmEYhmEYhmEYlRQL\u001b[0m\n",
       "\u001b[1;38;2;212;183;2mChiGYRiGYRiGYRhGJcWCAoZhGIZhGIZhGIZRSbGggGEYhmEYhmEYhmFUUiwoYBiGYRiGYRiGYRhSOfl/M9CKACYjTbAAAAAASUVORK5CYII='}\u001b[0m\n"
      ]
     },
     "metadata": {},
     "output_type": "display_data"
    },
    {
     "data": {
      "text/html": [
       "<pre style=\"white-space:pre;overflow-x:auto;line-height:normal;font-family:Menlo,'DejaVu Sans Mono',consolas,'Courier New',monospace\"><span style=\"color: #7f7f7f; text-decoration-color: #7f7f7f\">[Step 4: Duration 2.21 seconds| Input tokens: 11,473 | Output tokens: 468]</span>\n",
       "</pre>\n"
      ],
      "text/plain": [
       "\u001b[2m[Step 4: Duration 2.21 seconds| Input tokens: 11,473 | Output tokens: 468]\u001b[0m\n"
      ]
     },
     "metadata": {},
     "output_type": "display_data"
    }
   ],
   "source": [
    "result = agent.run(tasks[2])"
   ]
  },
  {
   "cell_type": "code",
   "execution_count": 14,
   "id": "acdd028d-0efc-4f9c-bb73-8b8846c8f54a",
   "metadata": {},
   "outputs": [],
   "source": [
    "base64_string_to_decode = result[\"plot\"]"
   ]
  },
  {
   "cell_type": "code",
   "execution_count": 19,
   "id": "8b07dea9-1ec3-4c97-921f-51b04f33b475",
   "metadata": {},
   "outputs": [],
   "source": [
    "import matplotlib.image as mpimg\n",
    "\n",
    "import base64\n",
    "import io\n",
    "import matplotlib.pyplot as plt\n"
   ]
  },
  {
   "cell_type": "code",
   "execution_count": 20,
   "id": "464d72ec-c86b-4f8d-b947-33e7cbd2be65",
   "metadata": {},
   "outputs": [
    {
     "data": {
      "image/png": "[encoded data removed]",
      "text/plain": [
       "<Figure size 800x600 with 1 Axes>"
      ]
     },
     "metadata": {},
     "output_type": "display_data"
    }
   ],
   "source": [
    "image_bytes = base64.b64decode(base64_string_to_decode)\n",
    "\n",
    "# 2. Create an in-memory buffer from the bytes\n",
    "image_buffer = io.BytesIO(image_bytes)\n",
    "\n",
    "# 3. Load Image from Buffer using Matplotlib\n",
    "# mpimg.imread can read from a file-like object\n",
    "img_data = mpimg.imread(image_buffer, format='png') # Specify format if known (e.g., 'png', 'jpeg')\n",
    "\n",
    "# 4. Display Image using Matplotlib\n",
    "plt.figure(figsize=(8, 6)) # Optional: Adjust figure size\n",
    "plt.imshow(img_data)\n",
    "plt.axis('off')  # Turn off axis numbers and ticks for a cleaner image display\n",
    "plt.title(\"Decoded Image\")\n",
    "plt.show()\n"
   ]
  },
  {
   "cell_type": "code",
   "execution_count": null,
   "id": "ce0709eb-9756-4974-a2df-0b1bec9d709a",
   "metadata": {},
   "outputs": [],
   "source": []
  },
  {
   "cell_type": "code",
   "execution_count": null,
   "id": "775b93c5-6c04-454c-ad2d-b95719d2c410",
   "metadata": {},
   "outputs": [],
   "source": []
  },
  {
   "cell_type": "code",
   "execution_count": null,
   "id": "704ce1db-b273-4468-a69e-bf68c7605b6f",
   "metadata": {},
   "outputs": [],
   "source": [
    "result = agent.run(tasks[3])"
   ]
  },
  {
   "cell_type": "code",
   "execution_count": null,
   "id": "dad1da26-009f-4b74-a39a-e090bd58e01b",
   "metadata": {},
   "outputs": [],
   "source": []
  },
  {
   "cell_type": "code",
   "execution_count": null,
   "id": "ebcf54ef-f00c-4e98-a6c8-5e3ebb7dd1ba",
   "metadata": {},
   "outputs": [],
   "source": [
    "result = agent.run(tasks[4])"
   ]
  },
  {
   "cell_type": "code",
   "execution_count": null,
   "id": "143584db-5b62-42d5-a460-940318091bab",
   "metadata": {},
   "outputs": [],
   "source": []
  },
  {
   "cell_type": "code",
   "execution_count": null,
   "id": "a119c94a-fa34-42cd-b87e-3146b779fb25",
   "metadata": {},
   "outputs": [],
   "source": [
    "result = agent.run(tasks[5])"
   ]
  },
  {
   "cell_type": "code",
   "execution_count": null,
   "id": "ff56c723-ba77-404e-b2bc-75873ff88b2d",
   "metadata": {},
   "outputs": [],
   "source": []
  },
  {
   "cell_type": "code",
   "execution_count": null,
   "id": "e395de43-c344-4e4e-a66c-98e37d0af452",
   "metadata": {},
   "outputs": [],
   "source": []
  },
  {
   "cell_type": "code",
   "execution_count": null,
   "id": "0adc3986-c1ad-484e-84f0-cefa7b8186d9",
   "metadata": {},
   "outputs": [],
   "source": []
  },
  {
   "cell_type": "code",
   "execution_count": 14,
   "id": "33ee8582-6aa5-4557-aa7e-1de9e7575ef2",
   "metadata": {},
   "outputs": [],
   "source": [
    "import jinja2\n",
    "import yaml\n",
    "from jinja2 import StrictUndefined, Template\n"
   ]
  },
  {
   "cell_type": "code",
   "execution_count": 15,
   "id": "ba32964f-1fc8-4d5a-aab7-9262a2781fe2",
   "metadata": {},
   "outputs": [],
   "source": [
    "with open(\"/Users/steffen/agentic_ai/src/agent/prompts/base_prompts.yaml\", \"r\") as file:\n",
    "    base_prompts = yaml.safe_load(file)\n"
   ]
  },
  {
   "cell_type": "code",
   "execution_count": 19,
   "id": "2cc56a8c-a3a0-403b-be58-3598203cae3c",
   "metadata": {},
   "outputs": [],
   "source": [
    "abc = base_prompts.get(\"final_answer\",{}).get(\"final_answer\", None)"
   ]
  },
  {
   "cell_type": "code",
   "execution_count": 20,
   "id": "6ceb22fe-1426-4c5c-94af-5103b1ba3c7e",
   "metadata": {},
   "outputs": [],
   "source": [
    "def populate_template(template: str, variables: dict[str, Any]) -> str:\n",
    "    compiled_template = Template(template, undefined=StrictUndefined)\n",
    "    try:\n",
    "        return compiled_template.render(**variables)\n",
    "    except Exception as e:\n",
    "        raise Exception(f\"Error during jinja template rendering: {type(e).__name__}: {e}\")\n"
   ]
  },
  {
   "cell_type": "code",
   "execution_count": 22,
   "id": "6d0fbc5b-e845-4a51-b331-ae1152af2b5d",
   "metadata": {},
   "outputs": [],
   "source": [
    "bc = populate_template(abc, {\"query\": \"oh\", \"response\": \"my\"})"
   ]
  },
  {
   "cell_type": "code",
   "execution_count": 33,
   "id": "eb1e1737-0ced-4151-879a-cd9d01a58892",
   "metadata": {},
   "outputs": [],
   "source": [
    "command = \"abc\"\n",
    "is_answered = True"
   ]
  },
  {
   "cell_type": "code",
   "execution_count": 38,
   "id": "bff65a30-ebd7-48df-ba1f-e1f3eadabd2c",
   "metadata": {},
   "outputs": [],
   "source": [
    "while not is_answered and command is not None:\n",
    "    print(\"hrlp\")\n",
    "    break"
   ]
  },
  {
   "cell_type": "code",
   "execution_count": 43,
   "id": "ae122b1d-accd-43c5-8d24-999359e72c95",
   "metadata": {},
   "outputs": [
    {
     "data": {
      "text/plain": [
       "True"
      ]
     },
     "execution_count": 43,
     "metadata": {},
     "output_type": "execute_result"
    }
   ],
   "source": [
    "True and True"
   ]
  },
  {
   "cell_type": "code",
   "execution_count": null,
   "id": "d42b5bb7-b524-484a-9373-25519453ea5a",
   "metadata": {},
   "outputs": [],
   "source": []
  }
 ],
 "metadata": {
  "kernelspec": {
   "display_name": "Python 3 (ipykernel)",
   "language": "python",
   "name": "python3"
  },
  "language_info": {
   "codemirror_mode": {
    "name": "ipython",
    "version": 3
   },
   "file_extension": ".py",
   "mimetype": "text/x-python",
   "name": "python",
   "nbconvert_exporter": "python",
   "pygments_lexer": "ipython3",
   "version": "3.12.7"
  }
 },
 "nbformat": 4,
 "nbformat_minor": 5
}
