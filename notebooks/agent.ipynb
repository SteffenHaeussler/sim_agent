{
 "cells": [
  {
   "cell_type": "code",
   "execution_count": 1,
   "id": "23cb0013-b3c9-4be3-beff-41ffc3dfa26e",
   "metadata": {},
   "outputs": [],
   "source": [
    "import os\n",
    "import sys\n",
    "\n",
    "sys.path.append(os.path.abspath('..'))"
   ]
  },
  {
   "cell_type": "code",
   "execution_count": 2,
   "id": "319664a9-bfdf-4d9c-bdec-24750f900271",
   "metadata": {},
   "outputs": [],
   "source": [
    "from typing import Dict, List, Optional, Any\n",
    "from datetime import datetime\n",
    "\n",
    "import httpx\n",
    "from loguru import logger\n",
    "from smolagents import CodeAgent, LiteLLMModel, Tool, PromptTemplates\n",
    "import yaml\n",
    "\n",
    "import src.agent.adapters.tools  as tools"
   ]
  },
  {
   "cell_type": "code",
   "execution_count": 3,
   "id": "f3e50466-af3e-435c-b0f4-281c57af5555",
   "metadata": {},
   "outputs": [],
   "source": [
    "api_base=None\n",
    "\n",
    "# model_id=\"ollama/qwen3:4b\"\n",
    "# api_base=\"http://localhost:11434\"\n",
    "\n",
    "# anthorpic\n",
    "# model_id=\"claude-3-7-sonnet-20250219\"\n",
    "\n",
    "#openai\n",
    "model_id = \"gpt-4o\"\n",
    "\n",
    "# google\n",
    "# model_id = \"gemini/gemini-2.0-flash-exp\"\n",
    "# model_id = \"gemin/gemini-2.5-flash-preview-04-17\"\n",
    "# model_id = \"gemini/gemini-2.5-pro-preview-05-06\"\n",
    "\n",
    "kwargs = {\"tools_api_base\": \"http://localhost:5050\",\n",
    "          \"tools_api_limit\": 100}"
   ]
  },
  {
   "cell_type": "code",
   "execution_count": 4,
   "id": "a9a646e7-1eee-44d0-b5e5-98920a6d9414",
   "metadata": {},
   "outputs": [
    {
     "name": "stderr",
     "output_type": "stream",
     "text": [
      "/Users/steffen/miniconda3/envs/py312/lib/python3.12/site-packages/pydantic/_internal/_config.py:345: UserWarning: Valid config keys have changed in V2:\n",
      "* 'fields' has been removed\n",
      "  warnings.warn(message, UserWarning)\n"
     ]
    }
   ],
   "source": [
    "model = LiteLLMModel(model_id=model_id, api_base=api_base)"
   ]
  },
  {
   "cell_type": "code",
   "execution_count": 5,
   "id": "afdc28b8-75ed-45ea-aeed-569e8cdc5fee",
   "metadata": {},
   "outputs": [],
   "source": [
    "with open(\"/Users/steffen/agentic_ai/src/agent/prompts/base_prompts.yaml\", \"r\") as file:\n",
    "    base_prompts = yaml.safe_load(file)\n",
    "\n",
    "\n",
    "base_prompts['system_prompt'] = base_prompts['system_prompt'].replace(\"{{current_date}}\", datetime.now().strftime(\"%Y-%m-%d %H:%M:%S\"))\n",
    "prompt_templates = PromptTemplates(**base_prompts)"
   ]
  },
  {
   "cell_type": "code",
   "execution_count": 6,
   "id": "f2324aea-d0e2-4980-8f1d-e0f84dc37901",
   "metadata": {},
   "outputs": [],
   "source": [
    "class FinalAnswerTool(Tool):\n",
    "    name = \"final_answer\"\n",
    "    description = \"Provides a final answer to the given problem.\"\n",
    "    inputs = {\"answer\": {\"type\": \"any\", \"description\": \"The final answer to the problem\"}}\n",
    "    outputs = {\"result\": {\"type\": \"any\", \"description\": \"The final response to the problem\"}}\n",
    "    output_type = \"any\"\n",
    "\n",
    "    def forward(self, answer: Any) -> Any:\n",
    "        return answer\n"
   ]
  },
  {
   "cell_type": "code",
   "execution_count": 7,
   "id": "080d6a89-ee7e-4629-b6ba-afaa0cb54a1c",
   "metadata": {},
   "outputs": [],
   "source": [
    "agent = CodeAgent(tools=[tools.CompareData(**kwargs), \n",
    "                         tools.ConvertIdToName(**kwargs),\n",
    "                         tools.ConvertNameToId(**kwargs),\n",
    "                         tools.GetData(**kwargs),\n",
    "                         tools.GetInformation(**kwargs),\n",
    "                         tools.GetNeighbors(**kwargs),\n",
    "                         tools.PlotData(**kwargs),\n",
    "                         FinalAnswerTool()\n",
    "                        ],  \n",
    "                  model=model, \n",
    "                  stream_outputs=True,\n",
    "                  additional_authorized_imports=[\"pandas\", \"numpy\"],\n",
    "                  prompt_templates=prompt_templates,\n",
    "                  max_steps=5)"
   ]
  },
  {
   "cell_type": "code",
   "execution_count": 8,
   "id": "d2a62802-9d21-47a9-8798-43bb0eea653e",
   "metadata": {},
   "outputs": [
    {
     "data": {
      "text/html": [
       "<pre style=\"white-space:pre;overflow-x:auto;line-height:normal;font-family:Menlo,'DejaVu Sans Mono',consolas,'Courier New',monospace\"><span style=\"color: #d4b702; text-decoration-color: #d4b702\">╭──────────────────────────────────────────────────── </span><span style=\"color: #d4b702; text-decoration-color: #d4b702; font-weight: bold\">New run</span><span style=\"color: #d4b702; text-decoration-color: #d4b702\"> ────────────────────────────────────────────────────╮</span>\n",
       "<span style=\"color: #d4b702; text-decoration-color: #d4b702\">│</span>                                                                                                                 <span style=\"color: #d4b702; text-decoration-color: #d4b702\">│</span>\n",
       "<span style=\"color: #d4b702; text-decoration-color: #d4b702\">│</span> <span style=\"font-weight: bold\">What is the daily maximum value of PI-P0017 in April 2025?</span>                                                      <span style=\"color: #d4b702; text-decoration-color: #d4b702\">│</span>\n",
       "<span style=\"color: #d4b702; text-decoration-color: #d4b702\">│</span>                                                                                                                 <span style=\"color: #d4b702; text-decoration-color: #d4b702\">│</span>\n",
       "<span style=\"color: #d4b702; text-decoration-color: #d4b702\">╰─ LiteLLMModel - gpt-4o ─────────────────────────────────────────────────────────────────────────────────────────╯</span>\n",
       "</pre>\n"
      ],
      "text/plain": [
       "\u001b[38;2;212;183;2m╭─\u001b[0m\u001b[38;2;212;183;2m───────────────────────────────────────────────────\u001b[0m\u001b[38;2;212;183;2m \u001b[0m\u001b[1;38;2;212;183;2mNew run\u001b[0m\u001b[38;2;212;183;2m \u001b[0m\u001b[38;2;212;183;2m───────────────────────────────────────────────────\u001b[0m\u001b[38;2;212;183;2m─╮\u001b[0m\n",
       "\u001b[38;2;212;183;2m│\u001b[0m                                                                                                                 \u001b[38;2;212;183;2m│\u001b[0m\n",
       "\u001b[38;2;212;183;2m│\u001b[0m \u001b[1mWhat is the daily maximum value of PI-P0017 in April 2025?\u001b[0m                                                      \u001b[38;2;212;183;2m│\u001b[0m\n",
       "\u001b[38;2;212;183;2m│\u001b[0m                                                                                                                 \u001b[38;2;212;183;2m│\u001b[0m\n",
       "\u001b[38;2;212;183;2m╰─\u001b[0m\u001b[38;2;212;183;2m LiteLLMModel - gpt-4o \u001b[0m\u001b[38;2;212;183;2m────────────────────────────────────────────────────────────────────────────────────────\u001b[0m\u001b[38;2;212;183;2m─╯\u001b[0m\n"
      ]
     },
     "metadata": {},
     "output_type": "display_data"
    },
    {
     "data": {
      "text/html": [
       "<pre style=\"white-space:pre;overflow-x:auto;line-height:normal;font-family:Menlo,'DejaVu Sans Mono',consolas,'Courier New',monospace\"><span style=\"color: #d4b702; text-decoration-color: #d4b702\">━━━━━━━━━━━━━━━━━━━━━━━━━━━━━━━━━━━━━━━━━━━━━━━━━━━━━ </span><span style=\"font-weight: bold\">Step </span><span style=\"color: #008080; text-decoration-color: #008080; font-weight: bold\">1</span><span style=\"color: #d4b702; text-decoration-color: #d4b702\"> ━━━━━━━━━━━━━━━━━━━━━━━━━━━━━━━━━━━━━━━━━━━━━━━━━━━━━━</span>\n",
       "</pre>\n"
      ],
      "text/plain": [
       "\u001b[38;2;212;183;2m━━━━━━━━━━━━━━━━━━━━━━━━━━━━━━━━━━━━━━━━━━━━━━━━━━━━━ \u001b[0m\u001b[1mStep \u001b[0m\u001b[1;36m1\u001b[0m\u001b[38;2;212;183;2m ━━━━━━━━━━━━━━━━━━━━━━━━━━━━━━━━━━━━━━━━━━━━━━━━━━━━━━\u001b[0m\n"
      ]
     },
     "metadata": {},
     "output_type": "display_data"
    },
    {
     "data": {
      "application/vnd.jupyter.widget-view+json": {
       "model_id": "506c508478394243a40919180cd5a1bf",
       "version_major": 2,
       "version_minor": 0
      },
      "text/plain": [
       "Output()"
      ]
     },
     "metadata": {},
     "output_type": "display_data"
    },
    {
     "data": {
      "text/html": [
       "<pre style=\"white-space:pre;overflow-x:auto;line-height:normal;font-family:Menlo,'DejaVu Sans Mono',consolas,'Courier New',monospace\"></pre>\n"
      ],
      "text/plain": []
     },
     "metadata": {},
     "output_type": "display_data"
    },
    {
     "data": {
      "text/html": [
       "<pre style=\"white-space:pre;overflow-x:auto;line-height:normal;font-family:Menlo,'DejaVu Sans Mono',consolas,'Courier New',monospace\"> ─ <span style=\"font-weight: bold\">Executing parsed code:</span> ──────────────────────────────────────────────────────────────────────────────────────── \n",
       "  <span style=\"color: #959077; text-decoration-color: #959077; background-color: #272822\"># Step 1: Convert the asset name to its id</span><span style=\"background-color: #272822\">                                                                     </span>  \n",
       "  <span style=\"color: #f8f8f2; text-decoration-color: #f8f8f2; background-color: #272822\">out </span><span style=\"color: #ff4689; text-decoration-color: #ff4689; background-color: #272822\">=</span><span style=\"color: #f8f8f2; text-decoration-color: #f8f8f2; background-color: #272822\"> name_to_id([</span><span style=\"color: #e6db74; text-decoration-color: #e6db74; background-color: #272822\">\"PI-P0017\"</span><span style=\"color: #f8f8f2; text-decoration-color: #f8f8f2; background-color: #272822\">])</span><span style=\"background-color: #272822\">                                                                                 </span>  \n",
       "  <span style=\"color: #f8f8f2; text-decoration-color: #f8f8f2; background-color: #272822\">asset_id </span><span style=\"color: #ff4689; text-decoration-color: #ff4689; background-color: #272822\">=</span><span style=\"color: #f8f8f2; text-decoration-color: #f8f8f2; background-color: #272822\"> out[</span><span style=\"color: #e6db74; text-decoration-color: #e6db74; background-color: #272822\">\"asset_ids\"</span><span style=\"color: #f8f8f2; text-decoration-color: #f8f8f2; background-color: #272822\">]</span><span style=\"background-color: #272822\">                                                                                    </span>  \n",
       "  <span style=\"color: #f8f8f2; text-decoration-color: #f8f8f2; background-color: #272822\">print(asset_id)</span><span style=\"background-color: #272822\">                                                                                                </span>  \n",
       " ───────────────────────────────────────────────────────────────────────────────────────────────────────────────── \n",
       "</pre>\n"
      ],
      "text/plain": [
       " ─ \u001b[1mExecuting parsed code:\u001b[0m ──────────────────────────────────────────────────────────────────────────────────────── \n",
       "  \u001b[38;2;149;144;119;48;2;39;40;34m# Step 1: Convert the asset name to its id\u001b[0m\u001b[48;2;39;40;34m                                                                     \u001b[0m  \n",
       "  \u001b[38;2;248;248;242;48;2;39;40;34mout\u001b[0m\u001b[38;2;248;248;242;48;2;39;40;34m \u001b[0m\u001b[38;2;255;70;137;48;2;39;40;34m=\u001b[0m\u001b[38;2;248;248;242;48;2;39;40;34m \u001b[0m\u001b[38;2;248;248;242;48;2;39;40;34mname_to_id\u001b[0m\u001b[38;2;248;248;242;48;2;39;40;34m(\u001b[0m\u001b[38;2;248;248;242;48;2;39;40;34m[\u001b[0m\u001b[38;2;230;219;116;48;2;39;40;34m\"\u001b[0m\u001b[38;2;230;219;116;48;2;39;40;34mPI-P0017\u001b[0m\u001b[38;2;230;219;116;48;2;39;40;34m\"\u001b[0m\u001b[38;2;248;248;242;48;2;39;40;34m]\u001b[0m\u001b[38;2;248;248;242;48;2;39;40;34m)\u001b[0m\u001b[48;2;39;40;34m                                                                                 \u001b[0m  \n",
       "  \u001b[38;2;248;248;242;48;2;39;40;34masset_id\u001b[0m\u001b[38;2;248;248;242;48;2;39;40;34m \u001b[0m\u001b[38;2;255;70;137;48;2;39;40;34m=\u001b[0m\u001b[38;2;248;248;242;48;2;39;40;34m \u001b[0m\u001b[38;2;248;248;242;48;2;39;40;34mout\u001b[0m\u001b[38;2;248;248;242;48;2;39;40;34m[\u001b[0m\u001b[38;2;230;219;116;48;2;39;40;34m\"\u001b[0m\u001b[38;2;230;219;116;48;2;39;40;34masset_ids\u001b[0m\u001b[38;2;230;219;116;48;2;39;40;34m\"\u001b[0m\u001b[38;2;248;248;242;48;2;39;40;34m]\u001b[0m\u001b[48;2;39;40;34m                                                                                    \u001b[0m  \n",
       "  \u001b[38;2;248;248;242;48;2;39;40;34mprint\u001b[0m\u001b[38;2;248;248;242;48;2;39;40;34m(\u001b[0m\u001b[38;2;248;248;242;48;2;39;40;34masset_id\u001b[0m\u001b[38;2;248;248;242;48;2;39;40;34m)\u001b[0m\u001b[48;2;39;40;34m                                                                                                \u001b[0m  \n",
       " ───────────────────────────────────────────────────────────────────────────────────────────────────────────────── \n"
      ]
     },
     "metadata": {},
     "output_type": "display_data"
    },
    {
     "name": "stderr",
     "output_type": "stream",
     "text": [
      "\u001b[32m2025-05-30 10:26:36.499\u001b[0m | \u001b[1mINFO    \u001b[0m | \u001b[36msrc.agent.adapters.tools.base\u001b[0m:\u001b[36mcall_api\u001b[0m:\u001b[36m90\u001b[0m - \u001b[1mFetching data from http://localhost:5050/v1/id_from_name/PI-P0017 with params: {'offset': 0, 'limit': 100}\u001b[0m\n",
      "\u001b[32m2025-05-30 10:26:36.675\u001b[0m | \u001b[1mINFO    \u001b[0m | \u001b[36msrc.agent.adapters.tools.base\u001b[0m:\u001b[36mcall_api\u001b[0m:\u001b[36m104\u001b[0m - \u001b[1mReached the last page.\u001b[0m\n"
     ]
    },
    {
     "data": {
      "text/html": [
       "<pre style=\"white-space:pre;overflow-x:auto;line-height:normal;font-family:Menlo,'DejaVu Sans Mono',consolas,'Courier New',monospace\"><span style=\"font-weight: bold\">Execution logs:</span>\n",
       "['18b04353-839d-40a1-84c1-9b547d09dd80']\n",
       "\n",
       "Out: None\n",
       "</pre>\n"
      ],
      "text/plain": [
       "\u001b[1mExecution logs:\u001b[0m\n",
       "['18b04353-839d-40a1-84c1-9b547d09dd80']\n",
       "\n",
       "Out: None\n"
      ]
     },
     "metadata": {},
     "output_type": "display_data"
    },
    {
     "data": {
      "text/html": [
       "<pre style=\"white-space:pre;overflow-x:auto;line-height:normal;font-family:Menlo,'DejaVu Sans Mono',consolas,'Courier New',monospace\"><span style=\"color: #7f7f7f; text-decoration-color: #7f7f7f\">[Step 1: Duration 4.57 seconds| Input tokens: 1,960 | Output tokens: 93]</span>\n",
       "</pre>\n"
      ],
      "text/plain": [
       "\u001b[2m[Step 1: Duration 4.57 seconds| Input tokens: 1,960 | Output tokens: 93]\u001b[0m\n"
      ]
     },
     "metadata": {},
     "output_type": "display_data"
    },
    {
     "data": {
      "text/html": [
       "<pre style=\"white-space:pre;overflow-x:auto;line-height:normal;font-family:Menlo,'DejaVu Sans Mono',consolas,'Courier New',monospace\"><span style=\"color: #d4b702; text-decoration-color: #d4b702\">━━━━━━━━━━━━━━━━━━━━━━━━━━━━━━━━━━━━━━━━━━━━━━━━━━━━━ </span><span style=\"font-weight: bold\">Step </span><span style=\"color: #008080; text-decoration-color: #008080; font-weight: bold\">2</span><span style=\"color: #d4b702; text-decoration-color: #d4b702\"> ━━━━━━━━━━━━━━━━━━━━━━━━━━━━━━━━━━━━━━━━━━━━━━━━━━━━━━</span>\n",
       "</pre>\n"
      ],
      "text/plain": [
       "\u001b[38;2;212;183;2m━━━━━━━━━━━━━━━━━━━━━━━━━━━━━━━━━━━━━━━━━━━━━━━━━━━━━ \u001b[0m\u001b[1mStep \u001b[0m\u001b[1;36m2\u001b[0m\u001b[38;2;212;183;2m ━━━━━━━━━━━━━━━━━━━━━━━━━━━━━━━━━━━━━━━━━━━━━━━━━━━━━━\u001b[0m\n"
      ]
     },
     "metadata": {},
     "output_type": "display_data"
    },
    {
     "data": {
      "application/vnd.jupyter.widget-view+json": {
       "model_id": "42bad2f6a1bd477d880662773d5067cc",
       "version_major": 2,
       "version_minor": 0
      },
      "text/plain": [
       "Output()"
      ]
     },
     "metadata": {},
     "output_type": "display_data"
    },
    {
     "data": {
      "text/html": [
       "<pre style=\"white-space:pre;overflow-x:auto;line-height:normal;font-family:Menlo,'DejaVu Sans Mono',consolas,'Courier New',monospace\"></pre>\n"
      ],
      "text/plain": []
     },
     "metadata": {},
     "output_type": "display_data"
    },
    {
     "data": {
      "text/html": [
       "<pre style=\"white-space:pre;overflow-x:auto;line-height:normal;font-family:Menlo,'DejaVu Sans Mono',consolas,'Courier New',monospace\"> ─ <span style=\"font-weight: bold\">Executing parsed code:</span> ──────────────────────────────────────────────────────────────────────────────────────── \n",
       "  <span style=\"color: #959077; text-decoration-color: #959077; background-color: #272822\"># Step 2: Get data for the asset in April 2025</span><span style=\"background-color: #272822\">                                                                 </span>  \n",
       "  <span style=\"color: #f8f8f2; text-decoration-color: #f8f8f2; background-color: #272822\">data </span><span style=\"color: #ff4689; text-decoration-color: #ff4689; background-color: #272822\">=</span><span style=\"color: #f8f8f2; text-decoration-color: #f8f8f2; background-color: #272822\"> get_data(asset_ids</span><span style=\"color: #ff4689; text-decoration-color: #ff4689; background-color: #272822\">=</span><span style=\"color: #f8f8f2; text-decoration-color: #f8f8f2; background-color: #272822\">[</span><span style=\"color: #e6db74; text-decoration-color: #e6db74; background-color: #272822\">'18b04353-839d-40a1-84c1-9b547d09dd80'</span><span style=\"color: #f8f8f2; text-decoration-color: #f8f8f2; background-color: #272822\">], start_date</span><span style=\"color: #ff4689; text-decoration-color: #ff4689; background-color: #272822\">=</span><span style=\"color: #e6db74; text-decoration-color: #e6db74; background-color: #272822\">\"2025-04-01T00:00:00Z\"</span><span style=\"color: #f8f8f2; text-decoration-color: #f8f8f2; background-color: #272822\">, </span><span style=\"background-color: #272822\">        </span>  \n",
       "  <span style=\"color: #f8f8f2; text-decoration-color: #f8f8f2; background-color: #272822\">end_date</span><span style=\"color: #ff4689; text-decoration-color: #ff4689; background-color: #272822\">=</span><span style=\"color: #e6db74; text-decoration-color: #e6db74; background-color: #272822\">\"2025-04-30T23:59:59Z\"</span><span style=\"color: #f8f8f2; text-decoration-color: #f8f8f2; background-color: #272822\">, aggregation</span><span style=\"color: #ff4689; text-decoration-color: #ff4689; background-color: #272822\">=</span><span style=\"color: #e6db74; text-decoration-color: #e6db74; background-color: #272822\">'day'</span><span style=\"color: #f8f8f2; text-decoration-color: #f8f8f2; background-color: #272822\">, last_value</span><span style=\"color: #ff4689; text-decoration-color: #ff4689; background-color: #272822\">=</span><span style=\"color: #66d9ef; text-decoration-color: #66d9ef; background-color: #272822\">False</span><span style=\"color: #f8f8f2; text-decoration-color: #f8f8f2; background-color: #272822\">)</span><span style=\"background-color: #272822\">                                          </span>  \n",
       "  <span style=\"color: #f8f8f2; text-decoration-color: #f8f8f2; background-color: #272822\">print(data)</span><span style=\"background-color: #272822\">                                                                                                    </span>  \n",
       " ───────────────────────────────────────────────────────────────────────────────────────────────────────────────── \n",
       "</pre>\n"
      ],
      "text/plain": [
       " ─ \u001b[1mExecuting parsed code:\u001b[0m ──────────────────────────────────────────────────────────────────────────────────────── \n",
       "  \u001b[38;2;149;144;119;48;2;39;40;34m# Step 2: Get data for the asset in April 2025\u001b[0m\u001b[48;2;39;40;34m                                                                 \u001b[0m  \n",
       "  \u001b[38;2;248;248;242;48;2;39;40;34mdata\u001b[0m\u001b[38;2;248;248;242;48;2;39;40;34m \u001b[0m\u001b[38;2;255;70;137;48;2;39;40;34m=\u001b[0m\u001b[38;2;248;248;242;48;2;39;40;34m \u001b[0m\u001b[38;2;248;248;242;48;2;39;40;34mget_data\u001b[0m\u001b[38;2;248;248;242;48;2;39;40;34m(\u001b[0m\u001b[38;2;248;248;242;48;2;39;40;34masset_ids\u001b[0m\u001b[38;2;255;70;137;48;2;39;40;34m=\u001b[0m\u001b[38;2;248;248;242;48;2;39;40;34m[\u001b[0m\u001b[38;2;230;219;116;48;2;39;40;34m'\u001b[0m\u001b[38;2;230;219;116;48;2;39;40;34m18b04353-839d-40a1-84c1-9b547d09dd80\u001b[0m\u001b[38;2;230;219;116;48;2;39;40;34m'\u001b[0m\u001b[38;2;248;248;242;48;2;39;40;34m]\u001b[0m\u001b[38;2;248;248;242;48;2;39;40;34m,\u001b[0m\u001b[38;2;248;248;242;48;2;39;40;34m \u001b[0m\u001b[38;2;248;248;242;48;2;39;40;34mstart_date\u001b[0m\u001b[38;2;255;70;137;48;2;39;40;34m=\u001b[0m\u001b[38;2;230;219;116;48;2;39;40;34m\"\u001b[0m\u001b[38;2;230;219;116;48;2;39;40;34m2025-04-01T00:00:00Z\u001b[0m\u001b[38;2;230;219;116;48;2;39;40;34m\"\u001b[0m\u001b[38;2;248;248;242;48;2;39;40;34m,\u001b[0m\u001b[38;2;248;248;242;48;2;39;40;34m \u001b[0m\u001b[48;2;39;40;34m        \u001b[0m  \n",
       "  \u001b[38;2;248;248;242;48;2;39;40;34mend_date\u001b[0m\u001b[38;2;255;70;137;48;2;39;40;34m=\u001b[0m\u001b[38;2;230;219;116;48;2;39;40;34m\"\u001b[0m\u001b[38;2;230;219;116;48;2;39;40;34m2025-04-30T23:59:59Z\u001b[0m\u001b[38;2;230;219;116;48;2;39;40;34m\"\u001b[0m\u001b[38;2;248;248;242;48;2;39;40;34m,\u001b[0m\u001b[38;2;248;248;242;48;2;39;40;34m \u001b[0m\u001b[38;2;248;248;242;48;2;39;40;34maggregation\u001b[0m\u001b[38;2;255;70;137;48;2;39;40;34m=\u001b[0m\u001b[38;2;230;219;116;48;2;39;40;34m'\u001b[0m\u001b[38;2;230;219;116;48;2;39;40;34mday\u001b[0m\u001b[38;2;230;219;116;48;2;39;40;34m'\u001b[0m\u001b[38;2;248;248;242;48;2;39;40;34m,\u001b[0m\u001b[38;2;248;248;242;48;2;39;40;34m \u001b[0m\u001b[38;2;248;248;242;48;2;39;40;34mlast_value\u001b[0m\u001b[38;2;255;70;137;48;2;39;40;34m=\u001b[0m\u001b[38;2;102;217;239;48;2;39;40;34mFalse\u001b[0m\u001b[38;2;248;248;242;48;2;39;40;34m)\u001b[0m\u001b[48;2;39;40;34m                                          \u001b[0m  \n",
       "  \u001b[38;2;248;248;242;48;2;39;40;34mprint\u001b[0m\u001b[38;2;248;248;242;48;2;39;40;34m(\u001b[0m\u001b[38;2;248;248;242;48;2;39;40;34mdata\u001b[0m\u001b[38;2;248;248;242;48;2;39;40;34m)\u001b[0m\u001b[48;2;39;40;34m                                                                                                    \u001b[0m  \n",
       " ───────────────────────────────────────────────────────────────────────────────────────────────────────────────── \n"
      ]
     },
     "metadata": {},
     "output_type": "display_data"
    },
    {
     "name": "stderr",
     "output_type": "stream",
     "text": [
      "\u001b[32m2025-05-30 10:26:42.910\u001b[0m | \u001b[1mINFO    \u001b[0m | \u001b[36msrc.agent.adapters.tools.base\u001b[0m:\u001b[36mcall_api\u001b[0m:\u001b[36m90\u001b[0m - \u001b[1mFetching data from http://localhost:5050/v1/data/18b04353-839d-40a1-84c1-9b547d09dd80 with params: {'last_value': False, 'start_date': '2025-04-01T00:00:00', 'end_date': '2025-04-30T23:59:59', 'aggregation': 'd', 'offset': 0, 'limit': 100}\u001b[0m\n",
      "\u001b[32m2025-05-30 10:26:42.977\u001b[0m | \u001b[1mINFO    \u001b[0m | \u001b[36msrc.agent.adapters.tools.base\u001b[0m:\u001b[36mcall_api\u001b[0m:\u001b[36m104\u001b[0m - \u001b[1mReached the last page.\u001b[0m\n"
     ]
    },
    {
     "data": {
      "text/html": [
       "<pre style=\"white-space:pre;overflow-x:auto;line-height:normal;font-family:Menlo,'DejaVu Sans Mono',consolas,'Courier New',monospace\"><span style=\"font-weight: bold\">Execution logs:</span>\n",
       "{'data':                      18b04353-839d-40a1-84c1-9b547d09dd80\n",
       "timestamp                                                \n",
       "2025-04-01T00:00:00                              1.588889\n",
       "2025-04-02T00:00:00                              1.556674\n",
       "2025-04-03T00:00:00                              1.458451\n",
       "2025-04-04T00:00:00                              1.481194\n",
       "2025-04-05T00:00:00                              1.378924\n",
       "2025-04-06T00:00:00                              1.267590\n",
       "2025-04-07T00:00:00                              1.261139\n",
       "2025-04-08T00:00:00                              1.290472\n",
       "2025-04-09T00:00:00                              1.241875\n",
       "2025-04-10T00:00:00                              1.178278\n",
       "2025-04-11T00:00:00                              1.025847\n",
       "2025-04-12T00:00:00                              1.014632\n",
       "2025-04-13T00:00:00                              0.948687\n",
       "2025-04-14T00:00:00                              0.888639\n",
       "2025-04-15T00:00:00                              0.945736\n",
       "2025-04-16T00:00:00                              0.842243\n",
       "2025-04-17T00:00:00                              0.785375\n",
       "2025-04-18T00:00:00                              0.804521\n",
       "2025-04-19T00:00:00                              0.783035\n",
       "2025-04-20T00:00:00                              0.699667\n",
       "2025-04-21T00:00:00                              0.635833\n",
       "2025-04-22T00:00:00                              0.625757\n",
       "2025-04-23T00:00:00                              0.619875\n",
       "2025-04-24T00:00:00                              0.515604\n",
       "2025-04-25T00:00:00                              0.608785\n",
       "2025-04-26T00:00:00                              0.500250\n",
       "2025-04-27T00:00:00                              0.435174\n",
       "2025-04-28T00:00:00                              0.363062\n",
       "2025-04-29T00:00:00                              0.378806\n",
       "2025-04-30T00:00:00                              0.355576}\n",
       "\n",
       "Out: None\n",
       "</pre>\n"
      ],
      "text/plain": [
       "\u001b[1mExecution logs:\u001b[0m\n",
       "{'data':                      18b04353-839d-40a1-84c1-9b547d09dd80\n",
       "timestamp                                                \n",
       "2025-04-01T00:00:00                              1.588889\n",
       "2025-04-02T00:00:00                              1.556674\n",
       "2025-04-03T00:00:00                              1.458451\n",
       "2025-04-04T00:00:00                              1.481194\n",
       "2025-04-05T00:00:00                              1.378924\n",
       "2025-04-06T00:00:00                              1.267590\n",
       "2025-04-07T00:00:00                              1.261139\n",
       "2025-04-08T00:00:00                              1.290472\n",
       "2025-04-09T00:00:00                              1.241875\n",
       "2025-04-10T00:00:00                              1.178278\n",
       "2025-04-11T00:00:00                              1.025847\n",
       "2025-04-12T00:00:00                              1.014632\n",
       "2025-04-13T00:00:00                              0.948687\n",
       "2025-04-14T00:00:00                              0.888639\n",
       "2025-04-15T00:00:00                              0.945736\n",
       "2025-04-16T00:00:00                              0.842243\n",
       "2025-04-17T00:00:00                              0.785375\n",
       "2025-04-18T00:00:00                              0.804521\n",
       "2025-04-19T00:00:00                              0.783035\n",
       "2025-04-20T00:00:00                              0.699667\n",
       "2025-04-21T00:00:00                              0.635833\n",
       "2025-04-22T00:00:00                              0.625757\n",
       "2025-04-23T00:00:00                              0.619875\n",
       "2025-04-24T00:00:00                              0.515604\n",
       "2025-04-25T00:00:00                              0.608785\n",
       "2025-04-26T00:00:00                              0.500250\n",
       "2025-04-27T00:00:00                              0.435174\n",
       "2025-04-28T00:00:00                              0.363062\n",
       "2025-04-29T00:00:00                              0.378806\n",
       "2025-04-30T00:00:00                              0.355576}\n",
       "\n",
       "Out: None\n"
      ]
     },
     "metadata": {},
     "output_type": "display_data"
    },
    {
     "data": {
      "text/html": [
       "<pre style=\"white-space:pre;overflow-x:auto;line-height:normal;font-family:Menlo,'DejaVu Sans Mono',consolas,'Courier New',monospace\"><span style=\"color: #7f7f7f; text-decoration-color: #7f7f7f\">[Step 2: Duration 6.31 seconds| Input tokens: 4,132 | Output tokens: 279]</span>\n",
       "</pre>\n"
      ],
      "text/plain": [
       "\u001b[2m[Step 2: Duration 6.31 seconds| Input tokens: 4,132 | Output tokens: 279]\u001b[0m\n"
      ]
     },
     "metadata": {},
     "output_type": "display_data"
    },
    {
     "data": {
      "text/html": [
       "<pre style=\"white-space:pre;overflow-x:auto;line-height:normal;font-family:Menlo,'DejaVu Sans Mono',consolas,'Courier New',monospace\"><span style=\"color: #d4b702; text-decoration-color: #d4b702\">━━━━━━━━━━━━━━━━━━━━━━━━━━━━━━━━━━━━━━━━━━━━━━━━━━━━━ </span><span style=\"font-weight: bold\">Step </span><span style=\"color: #008080; text-decoration-color: #008080; font-weight: bold\">3</span><span style=\"color: #d4b702; text-decoration-color: #d4b702\"> ━━━━━━━━━━━━━━━━━━━━━━━━━━━━━━━━━━━━━━━━━━━━━━━━━━━━━━</span>\n",
       "</pre>\n"
      ],
      "text/plain": [
       "\u001b[38;2;212;183;2m━━━━━━━━━━━━━━━━━━━━━━━━━━━━━━━━━━━━━━━━━━━━━━━━━━━━━ \u001b[0m\u001b[1mStep \u001b[0m\u001b[1;36m3\u001b[0m\u001b[38;2;212;183;2m ━━━━━━━━━━━━━━━━━━━━━━━━━━━━━━━━━━━━━━━━━━━━━━━━━━━━━━\u001b[0m\n"
      ]
     },
     "metadata": {},
     "output_type": "display_data"
    },
    {
     "data": {
      "application/vnd.jupyter.widget-view+json": {
       "model_id": "544130c590ac417cb2ebb1c5eaa65638",
       "version_major": 2,
       "version_minor": 0
      },
      "text/plain": [
       "Output()"
      ]
     },
     "metadata": {},
     "output_type": "display_data"
    },
    {
     "data": {
      "text/html": [
       "<pre style=\"white-space:pre;overflow-x:auto;line-height:normal;font-family:Menlo,'DejaVu Sans Mono',consolas,'Courier New',monospace\"></pre>\n"
      ],
      "text/plain": []
     },
     "metadata": {},
     "output_type": "display_data"
    },
    {
     "data": {
      "text/html": [
       "<pre style=\"white-space:pre;overflow-x:auto;line-height:normal;font-family:Menlo,'DejaVu Sans Mono',consolas,'Courier New',monospace\"> ─ <span style=\"font-weight: bold\">Executing parsed code:</span> ──────────────────────────────────────────────────────────────────────────────────────── \n",
       "  <span style=\"color: #959077; text-decoration-color: #959077; background-color: #272822\"># Step 3: Provide the daily maximum values as the final answer</span><span style=\"background-color: #272822\">                                                 </span>  \n",
       "  <span style=\"color: #f8f8f2; text-decoration-color: #f8f8f2; background-color: #272822\">daily_maximum_values </span><span style=\"color: #ff4689; text-decoration-color: #ff4689; background-color: #272822\">=</span><span style=\"color: #f8f8f2; text-decoration-color: #f8f8f2; background-color: #272822\"> data[</span><span style=\"color: #e6db74; text-decoration-color: #e6db74; background-color: #272822\">'data'</span><span style=\"color: #f8f8f2; text-decoration-color: #f8f8f2; background-color: #272822\">]</span><span style=\"background-color: #272822\">                                                                            </span>  \n",
       "  <span style=\"color: #f8f8f2; text-decoration-color: #f8f8f2; background-color: #272822\">final_answer(daily_maximum_values)</span><span style=\"background-color: #272822\">                                                                             </span>  \n",
       " ───────────────────────────────────────────────────────────────────────────────────────────────────────────────── \n",
       "</pre>\n"
      ],
      "text/plain": [
       " ─ \u001b[1mExecuting parsed code:\u001b[0m ──────────────────────────────────────────────────────────────────────────────────────── \n",
       "  \u001b[38;2;149;144;119;48;2;39;40;34m# Step 3: Provide the daily maximum values as the final answer\u001b[0m\u001b[48;2;39;40;34m                                                 \u001b[0m  \n",
       "  \u001b[38;2;248;248;242;48;2;39;40;34mdaily_maximum_values\u001b[0m\u001b[38;2;248;248;242;48;2;39;40;34m \u001b[0m\u001b[38;2;255;70;137;48;2;39;40;34m=\u001b[0m\u001b[38;2;248;248;242;48;2;39;40;34m \u001b[0m\u001b[38;2;248;248;242;48;2;39;40;34mdata\u001b[0m\u001b[38;2;248;248;242;48;2;39;40;34m[\u001b[0m\u001b[38;2;230;219;116;48;2;39;40;34m'\u001b[0m\u001b[38;2;230;219;116;48;2;39;40;34mdata\u001b[0m\u001b[38;2;230;219;116;48;2;39;40;34m'\u001b[0m\u001b[38;2;248;248;242;48;2;39;40;34m]\u001b[0m\u001b[48;2;39;40;34m                                                                            \u001b[0m  \n",
       "  \u001b[38;2;248;248;242;48;2;39;40;34mfinal_answer\u001b[0m\u001b[38;2;248;248;242;48;2;39;40;34m(\u001b[0m\u001b[38;2;248;248;242;48;2;39;40;34mdaily_maximum_values\u001b[0m\u001b[38;2;248;248;242;48;2;39;40;34m)\u001b[0m\u001b[48;2;39;40;34m                                                                             \u001b[0m  \n",
       " ───────────────────────────────────────────────────────────────────────────────────────────────────────────────── \n"
      ]
     },
     "metadata": {},
     "output_type": "display_data"
    },
    {
     "data": {
      "text/html": [
       "<pre style=\"white-space:pre;overflow-x:auto;line-height:normal;font-family:Menlo,'DejaVu Sans Mono',consolas,'Courier New',monospace\"><span style=\"color: #d4b702; text-decoration-color: #d4b702; font-weight: bold\">Out - Final answer:                      18b04353-839d-40a1-84c1-9b547d09dd80</span>\n",
       "<span style=\"color: #d4b702; text-decoration-color: #d4b702; font-weight: bold\">timestamp                                                </span>\n",
       "<span style=\"color: #d4b702; text-decoration-color: #d4b702; font-weight: bold\">2025-04-01T00:00:00                              1.588889</span>\n",
       "<span style=\"color: #d4b702; text-decoration-color: #d4b702; font-weight: bold\">2025-04-02T00:00:00                              1.556674</span>\n",
       "<span style=\"color: #d4b702; text-decoration-color: #d4b702; font-weight: bold\">2025-04-03T00:00:00                              1.458451</span>\n",
       "<span style=\"color: #d4b702; text-decoration-color: #d4b702; font-weight: bold\">2025-04-04T00:00:00                              1.481194</span>\n",
       "<span style=\"color: #d4b702; text-decoration-color: #d4b702; font-weight: bold\">2025-04-05T00:00:00                              1.378924</span>\n",
       "<span style=\"color: #d4b702; text-decoration-color: #d4b702; font-weight: bold\">2025-04-06T00:00:00                              1.267590</span>\n",
       "<span style=\"color: #d4b702; text-decoration-color: #d4b702; font-weight: bold\">2025-04-07T00:00:00                              1.261139</span>\n",
       "<span style=\"color: #d4b702; text-decoration-color: #d4b702; font-weight: bold\">2025-04-08T00:00:00                              1.290472</span>\n",
       "<span style=\"color: #d4b702; text-decoration-color: #d4b702; font-weight: bold\">2025-04-09T00:00:00                              1.241875</span>\n",
       "<span style=\"color: #d4b702; text-decoration-color: #d4b702; font-weight: bold\">2025-04-10T00:00:00                              1.178278</span>\n",
       "<span style=\"color: #d4b702; text-decoration-color: #d4b702; font-weight: bold\">2025-04-11T00:00:00                              1.025847</span>\n",
       "<span style=\"color: #d4b702; text-decoration-color: #d4b702; font-weight: bold\">2025-04-12T00:00:00                              1.014632</span>\n",
       "<span style=\"color: #d4b702; text-decoration-color: #d4b702; font-weight: bold\">2025-04-13T00:00:00                              0.948687</span>\n",
       "<span style=\"color: #d4b702; text-decoration-color: #d4b702; font-weight: bold\">2025-04-14T00:00:00                              0.888639</span>\n",
       "<span style=\"color: #d4b702; text-decoration-color: #d4b702; font-weight: bold\">2025-04-15T00:00:00                              0.945736</span>\n",
       "<span style=\"color: #d4b702; text-decoration-color: #d4b702; font-weight: bold\">2025-04-16T00:00:00                              0.842243</span>\n",
       "<span style=\"color: #d4b702; text-decoration-color: #d4b702; font-weight: bold\">2025-04-17T00:00:00                              0.785375</span>\n",
       "<span style=\"color: #d4b702; text-decoration-color: #d4b702; font-weight: bold\">2025-04-18T00:00:00                              0.804521</span>\n",
       "<span style=\"color: #d4b702; text-decoration-color: #d4b702; font-weight: bold\">2025-04-19T00:00:00                              0.783035</span>\n",
       "<span style=\"color: #d4b702; text-decoration-color: #d4b702; font-weight: bold\">2025-04-20T00:00:00                              0.699667</span>\n",
       "<span style=\"color: #d4b702; text-decoration-color: #d4b702; font-weight: bold\">2025-04-21T00:00:00                              0.635833</span>\n",
       "<span style=\"color: #d4b702; text-decoration-color: #d4b702; font-weight: bold\">2025-04-22T00:00:00                              0.625757</span>\n",
       "<span style=\"color: #d4b702; text-decoration-color: #d4b702; font-weight: bold\">2025-04-23T00:00:00                              0.619875</span>\n",
       "<span style=\"color: #d4b702; text-decoration-color: #d4b702; font-weight: bold\">2025-04-24T00:00:00                              0.515604</span>\n",
       "<span style=\"color: #d4b702; text-decoration-color: #d4b702; font-weight: bold\">2025-04-25T00:00:00                              0.608785</span>\n",
       "<span style=\"color: #d4b702; text-decoration-color: #d4b702; font-weight: bold\">2025-04-26T00:00:00                              0.500250</span>\n",
       "<span style=\"color: #d4b702; text-decoration-color: #d4b702; font-weight: bold\">2025-04-27T00:00:00                              0.435174</span>\n",
       "<span style=\"color: #d4b702; text-decoration-color: #d4b702; font-weight: bold\">2025-04-28T00:00:00                              0.363062</span>\n",
       "<span style=\"color: #d4b702; text-decoration-color: #d4b702; font-weight: bold\">2025-04-29T00:00:00                              0.378806</span>\n",
       "<span style=\"color: #d4b702; text-decoration-color: #d4b702; font-weight: bold\">2025-04-30T00:00:00                              0.355576</span>\n",
       "</pre>\n"
      ],
      "text/plain": [
       "\u001b[1;38;2;212;183;2mOut - Final answer:                      18b04353-839d-40a1-84c1-9b547d09dd80\u001b[0m\n",
       "\u001b[1;38;2;212;183;2mtimestamp                                                \u001b[0m\n",
       "\u001b[1;38;2;212;183;2m2025-04-01T00:00:00                              1.588889\u001b[0m\n",
       "\u001b[1;38;2;212;183;2m2025-04-02T00:00:00                              1.556674\u001b[0m\n",
       "\u001b[1;38;2;212;183;2m2025-04-03T00:00:00                              1.458451\u001b[0m\n",
       "\u001b[1;38;2;212;183;2m2025-04-04T00:00:00                              1.481194\u001b[0m\n",
       "\u001b[1;38;2;212;183;2m2025-04-05T00:00:00                              1.378924\u001b[0m\n",
       "\u001b[1;38;2;212;183;2m2025-04-06T00:00:00                              1.267590\u001b[0m\n",
       "\u001b[1;38;2;212;183;2m2025-04-07T00:00:00                              1.261139\u001b[0m\n",
       "\u001b[1;38;2;212;183;2m2025-04-08T00:00:00                              1.290472\u001b[0m\n",
       "\u001b[1;38;2;212;183;2m2025-04-09T00:00:00                              1.241875\u001b[0m\n",
       "\u001b[1;38;2;212;183;2m2025-04-10T00:00:00                              1.178278\u001b[0m\n",
       "\u001b[1;38;2;212;183;2m2025-04-11T00:00:00                              1.025847\u001b[0m\n",
       "\u001b[1;38;2;212;183;2m2025-04-12T00:00:00                              1.014632\u001b[0m\n",
       "\u001b[1;38;2;212;183;2m2025-04-13T00:00:00                              0.948687\u001b[0m\n",
       "\u001b[1;38;2;212;183;2m2025-04-14T00:00:00                              0.888639\u001b[0m\n",
       "\u001b[1;38;2;212;183;2m2025-04-15T00:00:00                              0.945736\u001b[0m\n",
       "\u001b[1;38;2;212;183;2m2025-04-16T00:00:00                              0.842243\u001b[0m\n",
       "\u001b[1;38;2;212;183;2m2025-04-17T00:00:00                              0.785375\u001b[0m\n",
       "\u001b[1;38;2;212;183;2m2025-04-18T00:00:00                              0.804521\u001b[0m\n",
       "\u001b[1;38;2;212;183;2m2025-04-19T00:00:00                              0.783035\u001b[0m\n",
       "\u001b[1;38;2;212;183;2m2025-04-20T00:00:00                              0.699667\u001b[0m\n",
       "\u001b[1;38;2;212;183;2m2025-04-21T00:00:00                              0.635833\u001b[0m\n",
       "\u001b[1;38;2;212;183;2m2025-04-22T00:00:00                              0.625757\u001b[0m\n",
       "\u001b[1;38;2;212;183;2m2025-04-23T00:00:00                              0.619875\u001b[0m\n",
       "\u001b[1;38;2;212;183;2m2025-04-24T00:00:00                              0.515604\u001b[0m\n",
       "\u001b[1;38;2;212;183;2m2025-04-25T00:00:00                              0.608785\u001b[0m\n",
       "\u001b[1;38;2;212;183;2m2025-04-26T00:00:00                              0.500250\u001b[0m\n",
       "\u001b[1;38;2;212;183;2m2025-04-27T00:00:00                              0.435174\u001b[0m\n",
       "\u001b[1;38;2;212;183;2m2025-04-28T00:00:00                              0.363062\u001b[0m\n",
       "\u001b[1;38;2;212;183;2m2025-04-29T00:00:00                              0.378806\u001b[0m\n",
       "\u001b[1;38;2;212;183;2m2025-04-30T00:00:00                              0.355576\u001b[0m\n"
      ]
     },
     "metadata": {},
     "output_type": "display_data"
    },
    {
     "data": {
      "text/html": [
       "<pre style=\"white-space:pre;overflow-x:auto;line-height:normal;font-family:Menlo,'DejaVu Sans Mono',consolas,'Courier New',monospace\"><span style=\"color: #7f7f7f; text-decoration-color: #7f7f7f\">[Step 3: Duration 3.59 seconds| Input tokens: 7,241 | Output tokens: 383]</span>\n",
       "</pre>\n"
      ],
      "text/plain": [
       "\u001b[2m[Step 3: Duration 3.59 seconds| Input tokens: 7,241 | Output tokens: 383]\u001b[0m\n"
      ]
     },
     "metadata": {},
     "output_type": "display_data"
    }
   ],
   "source": [
    "result = agent.run(\"What is the daily maximum value of PI-P0017 in April 2025?\")"
   ]
  },
  {
   "cell_type": "code",
   "execution_count": 9,
   "id": "bf82d0ec-2705-4657-a748-9dd0202209a8",
   "metadata": {},
   "outputs": [
    {
     "data": {
      "text/html": [
       "<div>\n",
       "<style scoped>\n",
       "    .dataframe tbody tr th:only-of-type {\n",
       "        vertical-align: middle;\n",
       "    }\n",
       "\n",
       "    .dataframe tbody tr th {\n",
       "        vertical-align: top;\n",
       "    }\n",
       "\n",
       "    .dataframe thead th {\n",
       "        text-align: right;\n",
       "    }\n",
       "</style>\n",
       "<table border=\"1\" class=\"dataframe\">\n",
       "  <thead>\n",
       "    <tr style=\"text-align: right;\">\n",
       "      <th></th>\n",
       "      <th>18b04353-839d-40a1-84c1-9b547d09dd80</th>\n",
       "    </tr>\n",
       "    <tr>\n",
       "      <th>timestamp</th>\n",
       "      <th></th>\n",
       "    </tr>\n",
       "  </thead>\n",
       "  <tbody>\n",
       "    <tr>\n",
       "      <th>2025-04-01T00:00:00</th>\n",
       "      <td>1.588889</td>\n",
       "    </tr>\n",
       "    <tr>\n",
       "      <th>2025-04-02T00:00:00</th>\n",
       "      <td>1.556674</td>\n",
       "    </tr>\n",
       "    <tr>\n",
       "      <th>2025-04-03T00:00:00</th>\n",
       "      <td>1.458451</td>\n",
       "    </tr>\n",
       "    <tr>\n",
       "      <th>2025-04-04T00:00:00</th>\n",
       "      <td>1.481194</td>\n",
       "    </tr>\n",
       "    <tr>\n",
       "      <th>2025-04-05T00:00:00</th>\n",
       "      <td>1.378924</td>\n",
       "    </tr>\n",
       "    <tr>\n",
       "      <th>2025-04-06T00:00:00</th>\n",
       "      <td>1.267590</td>\n",
       "    </tr>\n",
       "    <tr>\n",
       "      <th>2025-04-07T00:00:00</th>\n",
       "      <td>1.261139</td>\n",
       "    </tr>\n",
       "    <tr>\n",
       "      <th>2025-04-08T00:00:00</th>\n",
       "      <td>1.290472</td>\n",
       "    </tr>\n",
       "    <tr>\n",
       "      <th>2025-04-09T00:00:00</th>\n",
       "      <td>1.241875</td>\n",
       "    </tr>\n",
       "    <tr>\n",
       "      <th>2025-04-10T00:00:00</th>\n",
       "      <td>1.178278</td>\n",
       "    </tr>\n",
       "    <tr>\n",
       "      <th>2025-04-11T00:00:00</th>\n",
       "      <td>1.025847</td>\n",
       "    </tr>\n",
       "    <tr>\n",
       "      <th>2025-04-12T00:00:00</th>\n",
       "      <td>1.014632</td>\n",
       "    </tr>\n",
       "    <tr>\n",
       "      <th>2025-04-13T00:00:00</th>\n",
       "      <td>0.948687</td>\n",
       "    </tr>\n",
       "    <tr>\n",
       "      <th>2025-04-14T00:00:00</th>\n",
       "      <td>0.888639</td>\n",
       "    </tr>\n",
       "    <tr>\n",
       "      <th>2025-04-15T00:00:00</th>\n",
       "      <td>0.945736</td>\n",
       "    </tr>\n",
       "    <tr>\n",
       "      <th>2025-04-16T00:00:00</th>\n",
       "      <td>0.842243</td>\n",
       "    </tr>\n",
       "    <tr>\n",
       "      <th>2025-04-17T00:00:00</th>\n",
       "      <td>0.785375</td>\n",
       "    </tr>\n",
       "    <tr>\n",
       "      <th>2025-04-18T00:00:00</th>\n",
       "      <td>0.804521</td>\n",
       "    </tr>\n",
       "    <tr>\n",
       "      <th>2025-04-19T00:00:00</th>\n",
       "      <td>0.783035</td>\n",
       "    </tr>\n",
       "    <tr>\n",
       "      <th>2025-04-20T00:00:00</th>\n",
       "      <td>0.699667</td>\n",
       "    </tr>\n",
       "    <tr>\n",
       "      <th>2025-04-21T00:00:00</th>\n",
       "      <td>0.635833</td>\n",
       "    </tr>\n",
       "    <tr>\n",
       "      <th>2025-04-22T00:00:00</th>\n",
       "      <td>0.625757</td>\n",
       "    </tr>\n",
       "    <tr>\n",
       "      <th>2025-04-23T00:00:00</th>\n",
       "      <td>0.619875</td>\n",
       "    </tr>\n",
       "    <tr>\n",
       "      <th>2025-04-24T00:00:00</th>\n",
       "      <td>0.515604</td>\n",
       "    </tr>\n",
       "    <tr>\n",
       "      <th>2025-04-25T00:00:00</th>\n",
       "      <td>0.608785</td>\n",
       "    </tr>\n",
       "    <tr>\n",
       "      <th>2025-04-26T00:00:00</th>\n",
       "      <td>0.500250</td>\n",
       "    </tr>\n",
       "    <tr>\n",
       "      <th>2025-04-27T00:00:00</th>\n",
       "      <td>0.435174</td>\n",
       "    </tr>\n",
       "    <tr>\n",
       "      <th>2025-04-28T00:00:00</th>\n",
       "      <td>0.363062</td>\n",
       "    </tr>\n",
       "    <tr>\n",
       "      <th>2025-04-29T00:00:00</th>\n",
       "      <td>0.378806</td>\n",
       "    </tr>\n",
       "    <tr>\n",
       "      <th>2025-04-30T00:00:00</th>\n",
       "      <td>0.355576</td>\n",
       "    </tr>\n",
       "  </tbody>\n",
       "</table>\n",
       "</div>"
      ],
      "text/plain": [
       "                     18b04353-839d-40a1-84c1-9b547d09dd80\n",
       "timestamp                                                \n",
       "2025-04-01T00:00:00                              1.588889\n",
       "2025-04-02T00:00:00                              1.556674\n",
       "2025-04-03T00:00:00                              1.458451\n",
       "2025-04-04T00:00:00                              1.481194\n",
       "2025-04-05T00:00:00                              1.378924\n",
       "2025-04-06T00:00:00                              1.267590\n",
       "2025-04-07T00:00:00                              1.261139\n",
       "2025-04-08T00:00:00                              1.290472\n",
       "2025-04-09T00:00:00                              1.241875\n",
       "2025-04-10T00:00:00                              1.178278\n",
       "2025-04-11T00:00:00                              1.025847\n",
       "2025-04-12T00:00:00                              1.014632\n",
       "2025-04-13T00:00:00                              0.948687\n",
       "2025-04-14T00:00:00                              0.888639\n",
       "2025-04-15T00:00:00                              0.945736\n",
       "2025-04-16T00:00:00                              0.842243\n",
       "2025-04-17T00:00:00                              0.785375\n",
       "2025-04-18T00:00:00                              0.804521\n",
       "2025-04-19T00:00:00                              0.783035\n",
       "2025-04-20T00:00:00                              0.699667\n",
       "2025-04-21T00:00:00                              0.635833\n",
       "2025-04-22T00:00:00                              0.625757\n",
       "2025-04-23T00:00:00                              0.619875\n",
       "2025-04-24T00:00:00                              0.515604\n",
       "2025-04-25T00:00:00                              0.608785\n",
       "2025-04-26T00:00:00                              0.500250\n",
       "2025-04-27T00:00:00                              0.435174\n",
       "2025-04-28T00:00:00                              0.363062\n",
       "2025-04-29T00:00:00                              0.378806\n",
       "2025-04-30T00:00:00                              0.355576"
      ]
     },
     "execution_count": 9,
     "metadata": {},
     "output_type": "execute_result"
    }
   ],
   "source": [
    "result"
   ]
  },
  {
   "cell_type": "markdown",
   "id": "d45f5c1d-8bd4-48d8-842d-deefd785af65",
   "metadata": {},
   "source": [
    "## Tests"
   ]
  },
  {
   "cell_type": "code",
   "execution_count": null,
   "id": "585ba5e6-fbd3-4322-a9e4-a75320fd2ae1",
   "metadata": {},
   "outputs": [],
   "source": [
    "tasks = [\n",
    "    \"Can you compare PI-P0017 and PI-P0016 for the first 10 days in 2025?\",\n",
    "    \"What assets are next to asset BA100?\",\n",
    "    \"Can you create a plot for the adjacent sensors of asset BA101 for 1st January 2025?\",\n",
    "    \"What is the id of TI-T0022?\",\n",
    "    \"What is the name of asset id c831fadb-d620-4007-bdda-4593038c87f9?\",\n",
    "    \"Can you provide me the highest value for June 2025 for TI-T0022?\"\n",
    "]"
   ]
  },
  {
   "cell_type": "code",
   "execution_count": null,
   "id": "d0984f61-6b93-451c-8c0a-6c4547d24337",
   "metadata": {},
   "outputs": [],
   "source": [
    "result = agent.run(tasks[0])"
   ]
  },
  {
   "cell_type": "code",
   "execution_count": null,
   "id": "285574e8-07cb-45a7-a822-dd9ccffaafb1",
   "metadata": {},
   "outputs": [],
   "source": []
  },
  {
   "cell_type": "code",
   "execution_count": null,
   "id": "32a20911-7989-4316-96ee-cf9ecac518f5",
   "metadata": {},
   "outputs": [],
   "source": [
    "result = agent.run(tasks[1])"
   ]
  },
  {
   "cell_type": "code",
   "execution_count": null,
   "id": "eb5fd43f-2823-4e62-aa22-c0db791bf95e",
   "metadata": {},
   "outputs": [],
   "source": []
  },
  {
   "cell_type": "code",
   "execution_count": null,
   "id": "50848469-ca2e-471e-86dc-1b8821272437",
   "metadata": {},
   "outputs": [],
   "source": [
    "result = agent.run(tasks[2])"
   ]
  },
  {
   "cell_type": "code",
   "execution_count": null,
   "id": "acdd028d-0efc-4f9c-bb73-8b8846c8f54a",
   "metadata": {},
   "outputs": [],
   "source": [
    "base64_string_to_decode = result[\"plot\"]"
   ]
  },
  {
   "cell_type": "code",
   "execution_count": null,
   "id": "8b07dea9-1ec3-4c97-921f-51b04f33b475",
   "metadata": {},
   "outputs": [],
   "source": [
    "import matplotlib.image as mpimg\n",
    "\n",
    "import base64\n",
    "import io\n",
    "import matplotlib.pyplot as plt\n"
   ]
  },
  {
   "cell_type": "code",
   "execution_count": null,
   "id": "464d72ec-c86b-4f8d-b947-33e7cbd2be65",
   "metadata": {},
   "outputs": [],
   "source": [
    "image_bytes = base64.b64decode(base64_string_to_decode)\n",
    "\n",
    "# 2. Create an in-memory buffer from the bytes\n",
    "image_buffer = io.BytesIO(image_bytes)\n",
    "\n",
    "# 3. Load Image from Buffer using Matplotlib\n",
    "# mpimg.imread can read from a file-like object\n",
    "img_data = mpimg.imread(image_buffer, format='png') # Specify format if known (e.g., 'png', 'jpeg')\n",
    "\n",
    "# 4. Display Image using Matplotlib\n",
    "plt.figure(figsize=(8, 6)) # Optional: Adjust figure size\n",
    "plt.imshow(img_data)\n",
    "plt.axis('off')  # Turn off axis numbers and ticks for a cleaner image display\n",
    "plt.title(\"Decoded Image\")\n",
    "plt.show()\n"
   ]
  },
  {
   "cell_type": "code",
   "execution_count": null,
   "id": "ce0709eb-9756-4974-a2df-0b1bec9d709a",
   "metadata": {},
   "outputs": [],
   "source": []
  },
  {
   "cell_type": "code",
   "execution_count": null,
   "id": "775b93c5-6c04-454c-ad2d-b95719d2c410",
   "metadata": {},
   "outputs": [],
   "source": []
  },
  {
   "cell_type": "code",
   "execution_count": null,
   "id": "704ce1db-b273-4468-a69e-bf68c7605b6f",
   "metadata": {},
   "outputs": [],
   "source": [
    "result = agent.run(tasks[3])"
   ]
  },
  {
   "cell_type": "code",
   "execution_count": null,
   "id": "dad1da26-009f-4b74-a39a-e090bd58e01b",
   "metadata": {},
   "outputs": [],
   "source": []
  },
  {
   "cell_type": "code",
   "execution_count": null,
   "id": "ebcf54ef-f00c-4e98-a6c8-5e3ebb7dd1ba",
   "metadata": {},
   "outputs": [],
   "source": [
    "result = agent.run(tasks[4])"
   ]
  },
  {
   "cell_type": "code",
   "execution_count": null,
   "id": "143584db-5b62-42d5-a460-940318091bab",
   "metadata": {},
   "outputs": [],
   "source": []
  },
  {
   "cell_type": "code",
   "execution_count": null,
   "id": "a119c94a-fa34-42cd-b87e-3146b779fb25",
   "metadata": {},
   "outputs": [],
   "source": [
    "result = agent.run(tasks[5])"
   ]
  }
 ],
 "metadata": {
  "kernelspec": {
   "display_name": "Python 3 (ipykernel)",
   "language": "python",
   "name": "python3"
  },
  "language_info": {
   "codemirror_mode": {
    "name": "ipython",
    "version": 3
   },
   "file_extension": ".py",
   "mimetype": "text/x-python",
   "name": "python",
   "nbconvert_exporter": "python",
   "pygments_lexer": "ipython3",
   "version": "3.12.7"
  }
 },
 "nbformat": 4,
 "nbformat_minor": 5
}
