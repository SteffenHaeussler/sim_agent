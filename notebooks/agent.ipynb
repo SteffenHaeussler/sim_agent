{
 "cells": [
  {
   "cell_type": "code",
   "execution_count": 1,
   "id": "23cb0013-b3c9-4be3-beff-41ffc3dfa26e",
   "metadata": {},
   "outputs": [],
   "source": [
    "import os\n",
    "import sys\n",
    "\n",
    "sys.path.append(os.path.abspath('..'))"
   ]
  },
  {
   "cell_type": "code",
   "execution_count": 2,
   "id": "319664a9-bfdf-4d9c-bdec-24750f900271",
   "metadata": {},
   "outputs": [],
   "source": [
    "from typing import Dict, List, Optional, Any\n",
    "from datetime import datetime\n",
    "\n",
    "import httpx\n",
    "from loguru import logger\n",
    "from smolagents import CodeAgent, LiteLLMModel, Tool, PromptTemplates\n",
    "import yaml\n",
    "\n",
    "import src.agent.adapters.tools  as tools"
   ]
  },
  {
   "cell_type": "code",
   "execution_count": 3,
   "id": "f3e50466-af3e-435c-b0f4-281c57af5555",
   "metadata": {},
   "outputs": [],
   "source": [
    "api_base=None\n",
    "\n",
    "# model_id=\"ollama/qwen3:4b\"\n",
    "# api_base=\"http://localhost:11434\"\n",
    "\n",
    "# anthorpic\n",
    "# model_id=\"claude-3-7-sonnet-20250219\"\n",
    "\n",
    "#openai\n",
    "model_id = \"gpt-4o\"\n",
    "\n",
    "# google\n",
    "# model_id = \"gemini/gemini-2.0-flash-exp\"\n",
    "# model_id = \"gemin/gemini-2.5-flash-preview-04-17\"\n",
    "# model_id = \"gemini/gemini-2.5-pro-preview-05-06\"\n",
    "\n",
    "kwargs = {\"tools_api_base\": \"http://localhost:5050\"}"
   ]
  },
  {
   "cell_type": "code",
   "execution_count": 4,
   "id": "a9a646e7-1eee-44d0-b5e5-98920a6d9414",
   "metadata": {},
   "outputs": [
    {
     "name": "stderr",
     "output_type": "stream",
     "text": [
      "/Users/steffen/miniconda3/envs/py312/lib/python3.12/site-packages/pydantic/_internal/_config.py:345: UserWarning: Valid config keys have changed in V2:\n",
      "* 'fields' has been removed\n",
      "  warnings.warn(message, UserWarning)\n"
     ]
    }
   ],
   "source": [
    "model = LiteLLMModel(model_id=model_id, api_base=api_base)"
   ]
  },
  {
   "cell_type": "code",
   "execution_count": 5,
   "id": "afdc28b8-75ed-45ea-aeed-569e8cdc5fee",
   "metadata": {},
   "outputs": [],
   "source": [
    "with open(\"/Users/steffen/agentic_ai/src/agent/prompts/base_prompts.yaml\", \"r\") as file:\n",
    "    base_prompts = yaml.safe_load(file)\n",
    "\n",
    "\n",
    "base_prompts['system_prompt'] = base_prompts['system_prompt'].replace(\"{{current_date}}\", datetime.now().strftime(\"%Y-%m-%d %H:%M:%S\"))\n",
    "prompt_templates = PromptTemplates(**base_prompts)"
   ]
  },
  {
   "cell_type": "code",
   "execution_count": 6,
   "id": "f2324aea-d0e2-4980-8f1d-e0f84dc37901",
   "metadata": {},
   "outputs": [],
   "source": [
    "class FinalAnswerTool(Tool):\n",
    "    name = \"final_answer\"\n",
    "    description = \"Provides a final answer to the given problem.\"\n",
    "    inputs = {\"answer\": {\"type\": \"any\", \"description\": \"The final answer to the problem\"}}\n",
    "    outputs = {\"result\": {\"type\": \"any\", \"description\": \"The final response to the problem\"}}\n",
    "    output_type = \"any\"\n",
    "\n",
    "    def forward(self, answer: Any) -> Any:\n",
    "        return answer\n"
   ]
  },
  {
   "cell_type": "code",
   "execution_count": 7,
   "id": "080d6a89-ee7e-4629-b6ba-afaa0cb54a1c",
   "metadata": {},
   "outputs": [
    {
     "ename": "KeyError",
     "evalue": "'tools_api_limit'",
     "output_type": "error",
     "traceback": [
      "\u001b[0;31m---------------------------------------------------------------------------\u001b[0m",
      "\u001b[0;31mKeyError\u001b[0m                                  Traceback (most recent call last)",
      "Cell \u001b[0;32mIn[7], line 1\u001b[0m\n\u001b[0;32m----> 1\u001b[0m agent \u001b[38;5;241m=\u001b[39m CodeAgent(tools\u001b[38;5;241m=\u001b[39m[\u001b[43mtools\u001b[49m\u001b[38;5;241;43m.\u001b[39;49m\u001b[43mCompareData\u001b[49m\u001b[43m(\u001b[49m\u001b[38;5;241;43m*\u001b[39;49m\u001b[38;5;241;43m*\u001b[39;49m\u001b[43mkwargs\u001b[49m\u001b[43m)\u001b[49m, \n\u001b[1;32m      2\u001b[0m                          tools\u001b[38;5;241m.\u001b[39mConvertIdToName(\u001b[38;5;241m*\u001b[39m\u001b[38;5;241m*\u001b[39mkwargs),\n\u001b[1;32m      3\u001b[0m                          tools\u001b[38;5;241m.\u001b[39mConvertNameToId(\u001b[38;5;241m*\u001b[39m\u001b[38;5;241m*\u001b[39mkwargs),\n\u001b[1;32m      4\u001b[0m                          tools\u001b[38;5;241m.\u001b[39mGetData(\u001b[38;5;241m*\u001b[39m\u001b[38;5;241m*\u001b[39mkwargs),\n\u001b[1;32m      5\u001b[0m                          tools\u001b[38;5;241m.\u001b[39mGetInformation(\u001b[38;5;241m*\u001b[39m\u001b[38;5;241m*\u001b[39mkwargs),\n\u001b[1;32m      6\u001b[0m                          tools\u001b[38;5;241m.\u001b[39mGetNeighbors(\u001b[38;5;241m*\u001b[39m\u001b[38;5;241m*\u001b[39mkwargs),\n\u001b[1;32m      7\u001b[0m                          tools\u001b[38;5;241m.\u001b[39mPlotData(\u001b[38;5;241m*\u001b[39m\u001b[38;5;241m*\u001b[39mkwargs),\n\u001b[1;32m      8\u001b[0m                          FinalAnswerTool()\n\u001b[1;32m      9\u001b[0m                         ],  \n\u001b[1;32m     10\u001b[0m                   model\u001b[38;5;241m=\u001b[39mmodel, \n\u001b[1;32m     11\u001b[0m                   stream_outputs\u001b[38;5;241m=\u001b[39m\u001b[38;5;28;01mTrue\u001b[39;00m,\n\u001b[1;32m     12\u001b[0m                   additional_authorized_imports\u001b[38;5;241m=\u001b[39m[\u001b[38;5;124m\"\u001b[39m\u001b[38;5;124mpandas\u001b[39m\u001b[38;5;124m\"\u001b[39m, \u001b[38;5;124m\"\u001b[39m\u001b[38;5;124mnumpy\u001b[39m\u001b[38;5;124m\"\u001b[39m],\n\u001b[1;32m     13\u001b[0m                   prompt_templates\u001b[38;5;241m=\u001b[39mprompt_templates,\n\u001b[1;32m     14\u001b[0m                   max_steps\u001b[38;5;241m=\u001b[39m\u001b[38;5;241m5\u001b[39m)\n",
      "File \u001b[0;32m~/miniconda3/envs/py312/lib/python3.12/site-packages/smolagents/tools.py:66\u001b[0m, in \u001b[0;36mvalidate_after_init.<locals>.new_init\u001b[0;34m(self, *args, **kwargs)\u001b[0m\n\u001b[1;32m     64\u001b[0m \u001b[38;5;129m@wraps\u001b[39m(original_init)\n\u001b[1;32m     65\u001b[0m \u001b[38;5;28;01mdef\u001b[39;00m \u001b[38;5;21mnew_init\u001b[39m(\u001b[38;5;28mself\u001b[39m, \u001b[38;5;241m*\u001b[39margs, \u001b[38;5;241m*\u001b[39m\u001b[38;5;241m*\u001b[39mkwargs):\n\u001b[0;32m---> 66\u001b[0m     \u001b[43moriginal_init\u001b[49m\u001b[43m(\u001b[49m\u001b[38;5;28;43mself\u001b[39;49m\u001b[43m,\u001b[49m\u001b[43m \u001b[49m\u001b[38;5;241;43m*\u001b[39;49m\u001b[43margs\u001b[49m\u001b[43m,\u001b[49m\u001b[43m \u001b[49m\u001b[38;5;241;43m*\u001b[39;49m\u001b[38;5;241;43m*\u001b[39;49m\u001b[43mkwargs\u001b[49m\u001b[43m)\u001b[49m\n\u001b[1;32m     67\u001b[0m     \u001b[38;5;28mself\u001b[39m\u001b[38;5;241m.\u001b[39mvalidate_arguments()\n",
      "File \u001b[0;32m~/agentic_ai/src/agent/adapters/tools/data.py:110\u001b[0m, in \u001b[0;36mCompareData.__init__\u001b[0;34m(self, **kwargs)\u001b[0m\n\u001b[1;32m    109\u001b[0m \u001b[38;5;28;01mdef\u001b[39;00m \u001b[38;5;21m__init__\u001b[39m(\u001b[38;5;28mself\u001b[39m, \u001b[38;5;241m*\u001b[39m\u001b[38;5;241m*\u001b[39mkwargs):\n\u001b[0;32m--> 110\u001b[0m     \u001b[38;5;28;43msuper\u001b[39;49m\u001b[43m(\u001b[49m\u001b[43m)\u001b[49m\u001b[38;5;241;43m.\u001b[39;49m\u001b[38;5;21;43m__init__\u001b[39;49m\u001b[43m(\u001b[49m\u001b[38;5;241;43m*\u001b[39;49m\u001b[38;5;241;43m*\u001b[39;49m\u001b[43mkwargs\u001b[49m\u001b[43m)\u001b[49m\n",
      "File \u001b[0;32m~/miniconda3/envs/py312/lib/python3.12/site-packages/smolagents/tools.py:66\u001b[0m, in \u001b[0;36mvalidate_after_init.<locals>.new_init\u001b[0;34m(self, *args, **kwargs)\u001b[0m\n\u001b[1;32m     64\u001b[0m \u001b[38;5;129m@wraps\u001b[39m(original_init)\n\u001b[1;32m     65\u001b[0m \u001b[38;5;28;01mdef\u001b[39;00m \u001b[38;5;21mnew_init\u001b[39m(\u001b[38;5;28mself\u001b[39m, \u001b[38;5;241m*\u001b[39margs, \u001b[38;5;241m*\u001b[39m\u001b[38;5;241m*\u001b[39mkwargs):\n\u001b[0;32m---> 66\u001b[0m     \u001b[43moriginal_init\u001b[49m\u001b[43m(\u001b[49m\u001b[38;5;28;43mself\u001b[39;49m\u001b[43m,\u001b[49m\u001b[43m \u001b[49m\u001b[38;5;241;43m*\u001b[39;49m\u001b[43margs\u001b[49m\u001b[43m,\u001b[49m\u001b[43m \u001b[49m\u001b[38;5;241;43m*\u001b[39;49m\u001b[38;5;241;43m*\u001b[39;49m\u001b[43mkwargs\u001b[49m\u001b[43m)\u001b[49m\n\u001b[1;32m     67\u001b[0m     \u001b[38;5;28mself\u001b[39m\u001b[38;5;241m.\u001b[39mvalidate_arguments()\n",
      "File \u001b[0;32m~/agentic_ai/src/agent/adapters/tools/base.py:49\u001b[0m, in \u001b[0;36mBaseTool.__init__\u001b[0;34m(self, **kwargs)\u001b[0m\n\u001b[1;32m     47\u001b[0m \u001b[38;5;28msuper\u001b[39m()\u001b[38;5;241m.\u001b[39m\u001b[38;5;21m__init__\u001b[39m(\u001b[38;5;241m*\u001b[39m\u001b[38;5;241m*\u001b[39mkwargs)\n\u001b[1;32m     48\u001b[0m \u001b[38;5;28mself\u001b[39m\u001b[38;5;241m.\u001b[39mbase_url \u001b[38;5;241m=\u001b[39m kwargs[\u001b[38;5;124m\"\u001b[39m\u001b[38;5;124mtools_api_base\u001b[39m\u001b[38;5;124m\"\u001b[39m]\n\u001b[0;32m---> 49\u001b[0m \u001b[38;5;28mself\u001b[39m\u001b[38;5;241m.\u001b[39mlimit \u001b[38;5;241m=\u001b[39m \u001b[38;5;28mint\u001b[39m(\u001b[43mkwargs\u001b[49m\u001b[43m[\u001b[49m\u001b[38;5;124;43m\"\u001b[39;49m\u001b[38;5;124;43mtools_api_limit\u001b[39;49m\u001b[38;5;124;43m\"\u001b[39;49m\u001b[43m]\u001b[49m)\n",
      "\u001b[0;31mKeyError\u001b[0m: 'tools_api_limit'"
     ]
    }
   ],
   "source": [
    "agent = CodeAgent(tools=[tools.CompareData(**kwargs), \n",
    "                         tools.ConvertIdToName(**kwargs),\n",
    "                         tools.ConvertNameToId(**kwargs),\n",
    "                         tools.GetData(**kwargs),\n",
    "                         tools.GetInformation(**kwargs),\n",
    "                         tools.GetNeighbors(**kwargs),\n",
    "                         tools.PlotData(**kwargs),\n",
    "                         FinalAnswerTool()\n",
    "                        ],  \n",
    "                  model=model, \n",
    "                  stream_outputs=True,\n",
    "                  additional_authorized_imports=[\"pandas\", \"numpy\"],\n",
    "                  prompt_templates=prompt_templates,\n",
    "                  max_steps=5)"
   ]
  },
  {
   "cell_type": "code",
   "execution_count": null,
   "id": "d2a62802-9d21-47a9-8798-43bb0eea653e",
   "metadata": {},
   "outputs": [],
   "source": [
    "result = agent.run(\"What is the daily maximum value of PI-P0017 in April 2025?\")"
   ]
  },
  {
   "cell_type": "code",
   "execution_count": null,
   "id": "efb1e0d4-dd79-4f75-a248-592bc6cf7241",
   "metadata": {},
   "outputs": [],
   "source": []
  },
  {
   "cell_type": "markdown",
   "id": "d45f5c1d-8bd4-48d8-842d-deefd785af65",
   "metadata": {},
   "source": [
    "## Tests"
   ]
  },
  {
   "cell_type": "code",
   "execution_count": null,
   "id": "585ba5e6-fbd3-4322-a9e4-a75320fd2ae1",
   "metadata": {},
   "outputs": [],
   "source": [
    "tasks = [\n",
    "    \"Can you compare PI-P0017 and PI-P0016 for the first 10 days in 2025?\",\n",
    "    \"What assets are next to asset BA100?\",\n",
    "    \"Can you create a plot for the adjacent sensors of asset BA101 for 1st January 2025?\",\n",
    "    \"What is the id of TI-T0022?\",\n",
    "    \"What is the name of asset id c831fadb-d620-4007-bdda-4593038c87f9?\",\n",
    "    \"Can you provide me the highest value for June 2025 for TI-T0022?\"\n",
    "]"
   ]
  },
  {
   "cell_type": "code",
   "execution_count": null,
   "id": "d0984f61-6b93-451c-8c0a-6c4547d24337",
   "metadata": {},
   "outputs": [],
   "source": [
    "result = agent.run(tasks[0])"
   ]
  },
  {
   "cell_type": "code",
   "execution_count": null,
   "id": "285574e8-07cb-45a7-a822-dd9ccffaafb1",
   "metadata": {},
   "outputs": [],
   "source": []
  },
  {
   "cell_type": "code",
   "execution_count": null,
   "id": "32a20911-7989-4316-96ee-cf9ecac518f5",
   "metadata": {},
   "outputs": [],
   "source": [
    "result = agent.run(tasks[1])"
   ]
  },
  {
   "cell_type": "code",
   "execution_count": null,
   "id": "eb5fd43f-2823-4e62-aa22-c0db791bf95e",
   "metadata": {},
   "outputs": [],
   "source": []
  },
  {
   "cell_type": "code",
   "execution_count": null,
   "id": "50848469-ca2e-471e-86dc-1b8821272437",
   "metadata": {},
   "outputs": [],
   "source": [
    "result = agent.run(tasks[2])"
   ]
  },
  {
   "cell_type": "code",
   "execution_count": null,
   "id": "acdd028d-0efc-4f9c-bb73-8b8846c8f54a",
   "metadata": {},
   "outputs": [],
   "source": [
    "base64_string_to_decode = result[\"plot\"]"
   ]
  },
  {
   "cell_type": "code",
   "execution_count": null,
   "id": "8b07dea9-1ec3-4c97-921f-51b04f33b475",
   "metadata": {},
   "outputs": [],
   "source": [
    "import matplotlib.image as mpimg\n",
    "\n",
    "import base64\n",
    "import io\n",
    "import matplotlib.pyplot as plt\n"
   ]
  },
  {
   "cell_type": "code",
   "execution_count": null,
   "id": "464d72ec-c86b-4f8d-b947-33e7cbd2be65",
   "metadata": {},
   "outputs": [],
   "source": [
    "image_bytes = base64.b64decode(base64_string_to_decode)\n",
    "\n",
    "# 2. Create an in-memory buffer from the bytes\n",
    "image_buffer = io.BytesIO(image_bytes)\n",
    "\n",
    "# 3. Load Image from Buffer using Matplotlib\n",
    "# mpimg.imread can read from a file-like object\n",
    "img_data = mpimg.imread(image_buffer, format='png') # Specify format if known (e.g., 'png', 'jpeg')\n",
    "\n",
    "# 4. Display Image using Matplotlib\n",
    "plt.figure(figsize=(8, 6)) # Optional: Adjust figure size\n",
    "plt.imshow(img_data)\n",
    "plt.axis('off')  # Turn off axis numbers and ticks for a cleaner image display\n",
    "plt.title(\"Decoded Image\")\n",
    "plt.show()\n"
   ]
  },
  {
   "cell_type": "code",
   "execution_count": null,
   "id": "ce0709eb-9756-4974-a2df-0b1bec9d709a",
   "metadata": {},
   "outputs": [],
   "source": []
  },
  {
   "cell_type": "code",
   "execution_count": null,
   "id": "775b93c5-6c04-454c-ad2d-b95719d2c410",
   "metadata": {},
   "outputs": [],
   "source": []
  },
  {
   "cell_type": "code",
   "execution_count": null,
   "id": "704ce1db-b273-4468-a69e-bf68c7605b6f",
   "metadata": {},
   "outputs": [],
   "source": [
    "result = agent.run(tasks[3])"
   ]
  },
  {
   "cell_type": "code",
   "execution_count": null,
   "id": "dad1da26-009f-4b74-a39a-e090bd58e01b",
   "metadata": {},
   "outputs": [],
   "source": []
  },
  {
   "cell_type": "code",
   "execution_count": null,
   "id": "ebcf54ef-f00c-4e98-a6c8-5e3ebb7dd1ba",
   "metadata": {},
   "outputs": [],
   "source": [
    "result = agent.run(tasks[4])"
   ]
  },
  {
   "cell_type": "code",
   "execution_count": null,
   "id": "143584db-5b62-42d5-a460-940318091bab",
   "metadata": {},
   "outputs": [],
   "source": []
  },
  {
   "cell_type": "code",
   "execution_count": null,
   "id": "a119c94a-fa34-42cd-b87e-3146b779fb25",
   "metadata": {},
   "outputs": [],
   "source": [
    "result = agent.run(tasks[5])"
   ]
  },
  {
   "cell_type": "code",
   "execution_count": null,
   "id": "ff56c723-ba77-404e-b2bc-75873ff88b2d",
   "metadata": {},
   "outputs": [],
   "source": []
  }
 ],
 "metadata": {
  "kernelspec": {
   "display_name": "Python 3 (ipykernel)",
   "language": "python",
   "name": "python3"
  },
  "language_info": {
   "codemirror_mode": {
    "name": "ipython",
    "version": 3
   },
   "file_extension": ".py",
   "mimetype": "text/x-python",
   "name": "python",
   "nbconvert_exporter": "python",
   "pygments_lexer": "ipython3",
   "version": "3.12.7"
  }
 },
 "nbformat": 4,
 "nbformat_minor": 5
}
